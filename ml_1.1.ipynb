{
 "cells": [
  {
   "cell_type": "code",
   "execution_count": 1,
   "id": "05156040",
   "metadata": {},
   "outputs": [],
   "source": [
    "import pandas as pd\n",
    "import numpy as np\n",
    "import pickle"
   ]
  },
  {
   "cell_type": "code",
   "execution_count": 2,
   "id": "83ea3abc",
   "metadata": {},
   "outputs": [],
   "source": [
    "all_games_data = pd.read_csv('all_games_data.csv')"
   ]
  },
  {
   "cell_type": "code",
   "execution_count": 7,
   "id": "43be2840",
   "metadata": {},
   "outputs": [
    {
     "name": "stdout",
     "output_type": "stream",
     "text": [
      "<class 'pandas.core.frame.DataFrame'>\n",
      "RangeIndex: 71700 entries, 0 to 71699\n",
      "Data columns (total 16 columns):\n",
      " #   Column                  Non-Null Count  Dtype \n",
      "---  ------                  --------------  ----- \n",
      " 0   Title                   71699 non-null  object\n",
      " 1   Original Price          71700 non-null  object\n",
      " 2   Discounted Price        71700 non-null  object\n",
      " 3   Release Date            71569 non-null  object\n",
      " 4   Link                    71700 non-null  object\n",
      " 5   Game Description        71489 non-null  object\n",
      " 6   Recent Reviews Summary  56480 non-null  object\n",
      " 7   All Reviews Summary     5371 non-null   object\n",
      " 8   Recent Reviews Number   56480 non-null  object\n",
      " 9   All Reviews Number      5371 non-null   object\n",
      " 10  Developer               71479 non-null  object\n",
      " 11  Publisher               71183 non-null  object\n",
      " 12  Supported Languages     71700 non-null  object\n",
      " 13  Popular Tags            71700 non-null  object\n",
      " 14  Game Features           71700 non-null  object\n",
      " 15  Minimum Requirements    70576 non-null  object\n",
      "dtypes: object(16)\n",
      "memory usage: 8.8+ MB\n"
     ]
    }
   ],
   "source": [
    "all_games_data.info()"
   ]
  },
  {
   "cell_type": "code",
   "execution_count": 6,
   "id": "fcae18ca",
   "metadata": {
    "scrolled": false
   },
   "outputs": [
    {
     "data": {
      "text/html": [
       "<div>\n",
       "<style scoped>\n",
       "    .dataframe tbody tr th:only-of-type {\n",
       "        vertical-align: middle;\n",
       "    }\n",
       "\n",
       "    .dataframe tbody tr th {\n",
       "        vertical-align: top;\n",
       "    }\n",
       "\n",
       "    .dataframe thead th {\n",
       "        text-align: right;\n",
       "    }\n",
       "</style>\n",
       "<table border=\"1\" class=\"dataframe\">\n",
       "  <thead>\n",
       "    <tr style=\"text-align: right;\">\n",
       "      <th></th>\n",
       "      <th>Title</th>\n",
       "      <th>Original Price</th>\n",
       "      <th>Discounted Price</th>\n",
       "      <th>Release Date</th>\n",
       "      <th>Link</th>\n",
       "      <th>Game Description</th>\n",
       "      <th>Recent Reviews Summary</th>\n",
       "      <th>All Reviews Summary</th>\n",
       "      <th>Recent Reviews Number</th>\n",
       "      <th>All Reviews Number</th>\n",
       "      <th>Developer</th>\n",
       "      <th>Publisher</th>\n",
       "      <th>Supported Languages</th>\n",
       "      <th>Popular Tags</th>\n",
       "      <th>Game Features</th>\n",
       "      <th>Minimum Requirements</th>\n",
       "    </tr>\n",
       "  </thead>\n",
       "  <tbody>\n",
       "    <tr>\n",
       "      <th>0</th>\n",
       "      <td>Baldur's Gate 3</td>\n",
       "      <td>$29.99</td>\n",
       "      <td>$29.99</td>\n",
       "      <td>3 Aug, 2023</td>\n",
       "      <td>https://store.steampowered.com/app/1086940/Bal...</td>\n",
       "      <td>Baldur’s Gate 3 is a story-rich, party-based R...</td>\n",
       "      <td>Overwhelmingly Positive</td>\n",
       "      <td>Very Positive</td>\n",
       "      <td>- 96% of the 128,900 user reviews in the last ...</td>\n",
       "      <td>- 94% of the 188,617 user reviews for this gam...</td>\n",
       "      <td>Larian Studios</td>\n",
       "      <td>Larian Studios</td>\n",
       "      <td>['English', 'French', 'German', 'Spanish - Spa...</td>\n",
       "      <td>['RPG', 'Choices Matter', 'Character Customiza...</td>\n",
       "      <td>['Single-player', 'Online Co-op', 'LAN Co-op',...</td>\n",
       "      <td>Requires a 64-bit processor and operating syst...</td>\n",
       "    </tr>\n",
       "    <tr>\n",
       "      <th>1</th>\n",
       "      <td>Counter-Strike: Global Offensive</td>\n",
       "      <td>$14.99</td>\n",
       "      <td>$14.99</td>\n",
       "      <td>21 Aug, 2012</td>\n",
       "      <td>https://store.steampowered.com/app/730/Counter...</td>\n",
       "      <td>Counter-Strike: Global Offensive (CS: GO) expa...</td>\n",
       "      <td>Very Positive</td>\n",
       "      <td>Very Positive</td>\n",
       "      <td>- 89% of the 75,284 user reviews in the last 3...</td>\n",
       "      <td>- 88% of the 7,428,921 user reviews for this g...</td>\n",
       "      <td>Valve, Hidden Path Entertainment</td>\n",
       "      <td>Valve</td>\n",
       "      <td>['English', 'Czech', 'Danish', 'Dutch', 'Finni...</td>\n",
       "      <td>['FPS', 'Shooter', 'Multiplayer', 'Competitive...</td>\n",
       "      <td>['Steam Achievements', 'Full controller suppor...</td>\n",
       "      <td>OS: |  Windows® 7/Vista/XP | Processor: |  Int...</td>\n",
       "    </tr>\n",
       "    <tr>\n",
       "      <th>2</th>\n",
       "      <td>Apex Legends™</td>\n",
       "      <td>Free</td>\n",
       "      <td>Free</td>\n",
       "      <td>4 Nov, 2020</td>\n",
       "      <td>https://store.steampowered.com/app/1172470/Ape...</td>\n",
       "      <td>Apex Legends is the award-winning, free-to-pla...</td>\n",
       "      <td>Mixed</td>\n",
       "      <td>Very Positive</td>\n",
       "      <td>- 65% of the 18,581 user reviews in the last 3...</td>\n",
       "      <td>- 80% of the 701,597 user reviews for this gam...</td>\n",
       "      <td>Respawn Entertainment</td>\n",
       "      <td>Electronic Arts</td>\n",
       "      <td>['English', 'French', 'Italian', 'German', 'Sp...</td>\n",
       "      <td>['Free to Play', 'Multiplayer', 'Battle Royale...</td>\n",
       "      <td>['Online PvP', 'Online Co-op', 'Steam Achievem...</td>\n",
       "      <td>Requires a 64-bit processor and operating syst...</td>\n",
       "    </tr>\n",
       "    <tr>\n",
       "      <th>3</th>\n",
       "      <td>Forza Horizon 5</td>\n",
       "      <td>$34.78</td>\n",
       "      <td>$17.39</td>\n",
       "      <td>8 Nov, 2021</td>\n",
       "      <td>https://store.steampowered.com/app/1551360/For...</td>\n",
       "      <td>Your Ultimate Horizon Adventure awaits! Explor...</td>\n",
       "      <td>Very Positive</td>\n",
       "      <td>Very Positive</td>\n",
       "      <td>- 87% of the 4,120 user reviews in the last 30...</td>\n",
       "      <td>- 88% of the 123,162 user reviews for this gam...</td>\n",
       "      <td>Playground Games</td>\n",
       "      <td>Xbox Game Studios</td>\n",
       "      <td>['English', 'French', 'Italian', 'German', 'Sp...</td>\n",
       "      <td>['Racing', 'Open World', 'Driving', 'Multiplay...</td>\n",
       "      <td>['Single-player', 'Online PvP', 'Online Co-op'...</td>\n",
       "      <td>Requires a 64-bit processor and operating syst...</td>\n",
       "    </tr>\n",
       "    <tr>\n",
       "      <th>4</th>\n",
       "      <td>Call of Duty®</td>\n",
       "      <td>Free</td>\n",
       "      <td>Free</td>\n",
       "      <td>27 Oct, 2022</td>\n",
       "      <td>https://store.steampowered.com/app/1938090/Cal...</td>\n",
       "      <td>Welcome to Call of Duty® HQ, the home of Call ...</td>\n",
       "      <td>Mixed</td>\n",
       "      <td>Mixed</td>\n",
       "      <td>- 49% of the 8,257 user reviews in the last 30...</td>\n",
       "      <td>- 57% of the 236,876 user reviews for this gam...</td>\n",
       "      <td>Infinity Ward, Raven Software, Beenox, Treyarc...</td>\n",
       "      <td>Activision</td>\n",
       "      <td>['English', 'French', 'Italian', 'German', 'Sp...</td>\n",
       "      <td>['FPS', 'Multiplayer', 'Shooter', 'Action', 'S...</td>\n",
       "      <td>['Single-player', 'Online PvP', 'Online Co-op'...</td>\n",
       "      <td>Requires a 64-bit processor and operating syst...</td>\n",
       "    </tr>\n",
       "  </tbody>\n",
       "</table>\n",
       "</div>"
      ],
      "text/plain": [
       "                              Title Original Price Discounted Price  \\\n",
       "0                   Baldur's Gate 3         $29.99           $29.99   \n",
       "1  Counter-Strike: Global Offensive         $14.99           $14.99   \n",
       "2                     Apex Legends™           Free             Free   \n",
       "3                   Forza Horizon 5         $34.78           $17.39   \n",
       "4                     Call of Duty®           Free             Free   \n",
       "\n",
       "   Release Date                                               Link  \\\n",
       "0   3 Aug, 2023  https://store.steampowered.com/app/1086940/Bal...   \n",
       "1  21 Aug, 2012  https://store.steampowered.com/app/730/Counter...   \n",
       "2   4 Nov, 2020  https://store.steampowered.com/app/1172470/Ape...   \n",
       "3   8 Nov, 2021  https://store.steampowered.com/app/1551360/For...   \n",
       "4  27 Oct, 2022  https://store.steampowered.com/app/1938090/Cal...   \n",
       "\n",
       "                                    Game Description   Recent Reviews Summary  \\\n",
       "0  Baldur’s Gate 3 is a story-rich, party-based R...  Overwhelmingly Positive   \n",
       "1  Counter-Strike: Global Offensive (CS: GO) expa...            Very Positive   \n",
       "2  Apex Legends is the award-winning, free-to-pla...                    Mixed   \n",
       "3  Your Ultimate Horizon Adventure awaits! Explor...            Very Positive   \n",
       "4  Welcome to Call of Duty® HQ, the home of Call ...                    Mixed   \n",
       "\n",
       "  All Reviews Summary                              Recent Reviews Number  \\\n",
       "0       Very Positive  - 96% of the 128,900 user reviews in the last ...   \n",
       "1       Very Positive  - 89% of the 75,284 user reviews in the last 3...   \n",
       "2       Very Positive  - 65% of the 18,581 user reviews in the last 3...   \n",
       "3       Very Positive  - 87% of the 4,120 user reviews in the last 30...   \n",
       "4               Mixed  - 49% of the 8,257 user reviews in the last 30...   \n",
       "\n",
       "                                  All Reviews Number  \\\n",
       "0  - 94% of the 188,617 user reviews for this gam...   \n",
       "1  - 88% of the 7,428,921 user reviews for this g...   \n",
       "2  - 80% of the 701,597 user reviews for this gam...   \n",
       "3  - 88% of the 123,162 user reviews for this gam...   \n",
       "4  - 57% of the 236,876 user reviews for this gam...   \n",
       "\n",
       "                                           Developer          Publisher  \\\n",
       "0                                     Larian Studios     Larian Studios   \n",
       "1                   Valve, Hidden Path Entertainment              Valve   \n",
       "2                              Respawn Entertainment    Electronic Arts   \n",
       "3                                   Playground Games  Xbox Game Studios   \n",
       "4  Infinity Ward, Raven Software, Beenox, Treyarc...         Activision   \n",
       "\n",
       "                                 Supported Languages  \\\n",
       "0  ['English', 'French', 'German', 'Spanish - Spa...   \n",
       "1  ['English', 'Czech', 'Danish', 'Dutch', 'Finni...   \n",
       "2  ['English', 'French', 'Italian', 'German', 'Sp...   \n",
       "3  ['English', 'French', 'Italian', 'German', 'Sp...   \n",
       "4  ['English', 'French', 'Italian', 'German', 'Sp...   \n",
       "\n",
       "                                        Popular Tags  \\\n",
       "0  ['RPG', 'Choices Matter', 'Character Customiza...   \n",
       "1  ['FPS', 'Shooter', 'Multiplayer', 'Competitive...   \n",
       "2  ['Free to Play', 'Multiplayer', 'Battle Royale...   \n",
       "3  ['Racing', 'Open World', 'Driving', 'Multiplay...   \n",
       "4  ['FPS', 'Multiplayer', 'Shooter', 'Action', 'S...   \n",
       "\n",
       "                                       Game Features  \\\n",
       "0  ['Single-player', 'Online Co-op', 'LAN Co-op',...   \n",
       "1  ['Steam Achievements', 'Full controller suppor...   \n",
       "2  ['Online PvP', 'Online Co-op', 'Steam Achievem...   \n",
       "3  ['Single-player', 'Online PvP', 'Online Co-op'...   \n",
       "4  ['Single-player', 'Online PvP', 'Online Co-op'...   \n",
       "\n",
       "                                Minimum Requirements  \n",
       "0  Requires a 64-bit processor and operating syst...  \n",
       "1  OS: |  Windows® 7/Vista/XP | Processor: |  Int...  \n",
       "2  Requires a 64-bit processor and operating syst...  \n",
       "3  Requires a 64-bit processor and operating syst...  \n",
       "4  Requires a 64-bit processor and operating syst...  "
      ]
     },
     "execution_count": 6,
     "metadata": {},
     "output_type": "execute_result"
    }
   ],
   "source": [
    "all_games_data.head()"
   ]
  },
  {
   "cell_type": "code",
   "execution_count": 32,
   "id": "55f3625a",
   "metadata": {
    "scrolled": false
   },
   "outputs": [
    {
     "name": "stdout",
     "output_type": "stream",
     "text": [
      "<class 'pandas.core.frame.DataFrame'>\n",
      "RangeIndex: 12 entries, 0 to 11\n",
      "Data columns (total 16 columns):\n",
      " #   Column                  Non-Null Count  Dtype \n",
      "---  ------                  --------------  ----- \n",
      " 0   Title                   12 non-null     object\n",
      " 1   Original Price          12 non-null     object\n",
      " 2   Discounted Price        12 non-null     object\n",
      " 3   Release Date            12 non-null     object\n",
      " 4   Link                    12 non-null     object\n",
      " 5   Game Description        12 non-null     object\n",
      " 6   Recent Reviews Summary  11 non-null     object\n",
      " 7   All Reviews Summary     10 non-null     object\n",
      " 8   Recent Reviews Number   11 non-null     object\n",
      " 9   All Reviews Number      10 non-null     object\n",
      " 10  Developer               12 non-null     object\n",
      " 11  Publisher               12 non-null     object\n",
      " 12  Supported Languages     12 non-null     object\n",
      " 13  Popular Tags            12 non-null     object\n",
      " 14  Game Features           12 non-null     object\n",
      " 15  Minimum Requirements    12 non-null     object\n",
      "dtypes: object(16)\n",
      "memory usage: 1.6+ KB\n"
     ]
    }
   ],
   "source": [
    "trending_df.info()"
   ]
  },
  {
   "cell_type": "code",
   "execution_count": 38,
   "id": "cc6b9544",
   "metadata": {},
   "outputs": [
    {
     "data": {
      "text/plain": [
       "'https://store.steampowered.com/app/271590/Grand_Theft_Auto_V/?snr=1_7_7_230_150_1'"
      ]
     },
     "execution_count": 38,
     "metadata": {},
     "output_type": "execute_result"
    }
   ],
   "source": [
    "all_games_data.iloc[10].Link"
   ]
  },
  {
   "cell_type": "code",
   "execution_count": 43,
   "id": "364d7c98",
   "metadata": {},
   "outputs": [
    {
     "data": {
      "text/plain": [
       "'271590'"
      ]
     },
     "execution_count": 43,
     "metadata": {},
     "output_type": "execute_result"
    }
   ],
   "source": [
    "all_games_data.iloc[10].Link.split('/')[4]"
   ]
  },
  {
   "cell_type": "code",
   "execution_count": 45,
   "id": "4efa86f4",
   "metadata": {},
   "outputs": [
    {
     "data": {
      "text/plain": [
       "271590"
      ]
     },
     "execution_count": 45,
     "metadata": {},
     "output_type": "execute_result"
    }
   ],
   "source": [
    "int(all_games_data.iloc[10].Link.split('/')[4])"
   ]
  },
  {
   "cell_type": "markdown",
   "id": "971522eb",
   "metadata": {},
   "source": [
    "## extracting the app_id of all games in df"
   ]
  },
  {
   "cell_type": "code",
   "execution_count": 50,
   "id": "5429ccee",
   "metadata": {},
   "outputs": [],
   "source": [
    "app_id = []\n",
    "\n",
    "for link in all_games_data['Link']:\n",
    "    app_id.append(int(link.split('/')[4]));"
   ]
  },
  {
   "cell_type": "code",
   "execution_count": 52,
   "id": "4b120820",
   "metadata": {
    "scrolled": true
   },
   "outputs": [
    {
     "data": {
      "text/plain": [
       "71700"
      ]
     },
     "execution_count": 52,
     "metadata": {},
     "output_type": "execute_result"
    }
   ],
   "source": [
    "len(app_id)"
   ]
  },
  {
   "cell_type": "code",
   "execution_count": 54,
   "id": "a78ed0a5",
   "metadata": {},
   "outputs": [],
   "source": [
    "all_games_data['app_id'] = app_id"
   ]
  },
  {
   "cell_type": "code",
   "execution_count": 55,
   "id": "9d1f261e",
   "metadata": {
    "scrolled": true
   },
   "outputs": [
    {
     "data": {
      "text/html": [
       "<div>\n",
       "<style scoped>\n",
       "    .dataframe tbody tr th:only-of-type {\n",
       "        vertical-align: middle;\n",
       "    }\n",
       "\n",
       "    .dataframe tbody tr th {\n",
       "        vertical-align: top;\n",
       "    }\n",
       "\n",
       "    .dataframe thead th {\n",
       "        text-align: right;\n",
       "    }\n",
       "</style>\n",
       "<table border=\"1\" class=\"dataframe\">\n",
       "  <thead>\n",
       "    <tr style=\"text-align: right;\">\n",
       "      <th></th>\n",
       "      <th>Title</th>\n",
       "      <th>Original Price</th>\n",
       "      <th>Discounted Price</th>\n",
       "      <th>Release Date</th>\n",
       "      <th>Link</th>\n",
       "      <th>Game Description</th>\n",
       "      <th>Recent Reviews Summary</th>\n",
       "      <th>All Reviews Summary</th>\n",
       "      <th>Recent Reviews Number</th>\n",
       "      <th>All Reviews Number</th>\n",
       "      <th>Developer</th>\n",
       "      <th>Publisher</th>\n",
       "      <th>Supported Languages</th>\n",
       "      <th>Popular Tags</th>\n",
       "      <th>Game Features</th>\n",
       "      <th>Minimum Requirements</th>\n",
       "      <th>app_id</th>\n",
       "    </tr>\n",
       "  </thead>\n",
       "  <tbody>\n",
       "    <tr>\n",
       "      <th>0</th>\n",
       "      <td>Baldur's Gate 3</td>\n",
       "      <td>$29.99</td>\n",
       "      <td>$29.99</td>\n",
       "      <td>3 Aug, 2023</td>\n",
       "      <td>https://store.steampowered.com/app/1086940/Bal...</td>\n",
       "      <td>Baldur’s Gate 3 is a story-rich, party-based R...</td>\n",
       "      <td>Overwhelmingly Positive</td>\n",
       "      <td>Very Positive</td>\n",
       "      <td>- 96% of the 128,900 user reviews in the last ...</td>\n",
       "      <td>- 94% of the 188,617 user reviews for this gam...</td>\n",
       "      <td>Larian Studios</td>\n",
       "      <td>Larian Studios</td>\n",
       "      <td>['English', 'French', 'German', 'Spanish - Spa...</td>\n",
       "      <td>['RPG', 'Choices Matter', 'Character Customiza...</td>\n",
       "      <td>['Single-player', 'Online Co-op', 'LAN Co-op',...</td>\n",
       "      <td>Requires a 64-bit processor and operating syst...</td>\n",
       "      <td>1086940</td>\n",
       "    </tr>\n",
       "    <tr>\n",
       "      <th>1</th>\n",
       "      <td>Counter-Strike: Global Offensive</td>\n",
       "      <td>$14.99</td>\n",
       "      <td>$14.99</td>\n",
       "      <td>21 Aug, 2012</td>\n",
       "      <td>https://store.steampowered.com/app/730/Counter...</td>\n",
       "      <td>Counter-Strike: Global Offensive (CS: GO) expa...</td>\n",
       "      <td>Very Positive</td>\n",
       "      <td>Very Positive</td>\n",
       "      <td>- 89% of the 75,284 user reviews in the last 3...</td>\n",
       "      <td>- 88% of the 7,428,921 user reviews for this g...</td>\n",
       "      <td>Valve, Hidden Path Entertainment</td>\n",
       "      <td>Valve</td>\n",
       "      <td>['English', 'Czech', 'Danish', 'Dutch', 'Finni...</td>\n",
       "      <td>['FPS', 'Shooter', 'Multiplayer', 'Competitive...</td>\n",
       "      <td>['Steam Achievements', 'Full controller suppor...</td>\n",
       "      <td>OS: |  Windows® 7/Vista/XP | Processor: |  Int...</td>\n",
       "      <td>730</td>\n",
       "    </tr>\n",
       "    <tr>\n",
       "      <th>2</th>\n",
       "      <td>Apex Legends™</td>\n",
       "      <td>Free</td>\n",
       "      <td>Free</td>\n",
       "      <td>4 Nov, 2020</td>\n",
       "      <td>https://store.steampowered.com/app/1172470/Ape...</td>\n",
       "      <td>Apex Legends is the award-winning, free-to-pla...</td>\n",
       "      <td>Mixed</td>\n",
       "      <td>Very Positive</td>\n",
       "      <td>- 65% of the 18,581 user reviews in the last 3...</td>\n",
       "      <td>- 80% of the 701,597 user reviews for this gam...</td>\n",
       "      <td>Respawn Entertainment</td>\n",
       "      <td>Electronic Arts</td>\n",
       "      <td>['English', 'French', 'Italian', 'German', 'Sp...</td>\n",
       "      <td>['Free to Play', 'Multiplayer', 'Battle Royale...</td>\n",
       "      <td>['Online PvP', 'Online Co-op', 'Steam Achievem...</td>\n",
       "      <td>Requires a 64-bit processor and operating syst...</td>\n",
       "      <td>1172470</td>\n",
       "    </tr>\n",
       "    <tr>\n",
       "      <th>3</th>\n",
       "      <td>Forza Horizon 5</td>\n",
       "      <td>$34.78</td>\n",
       "      <td>$17.39</td>\n",
       "      <td>8 Nov, 2021</td>\n",
       "      <td>https://store.steampowered.com/app/1551360/For...</td>\n",
       "      <td>Your Ultimate Horizon Adventure awaits! Explor...</td>\n",
       "      <td>Very Positive</td>\n",
       "      <td>Very Positive</td>\n",
       "      <td>- 87% of the 4,120 user reviews in the last 30...</td>\n",
       "      <td>- 88% of the 123,162 user reviews for this gam...</td>\n",
       "      <td>Playground Games</td>\n",
       "      <td>Xbox Game Studios</td>\n",
       "      <td>['English', 'French', 'Italian', 'German', 'Sp...</td>\n",
       "      <td>['Racing', 'Open World', 'Driving', 'Multiplay...</td>\n",
       "      <td>['Single-player', 'Online PvP', 'Online Co-op'...</td>\n",
       "      <td>Requires a 64-bit processor and operating syst...</td>\n",
       "      <td>1551360</td>\n",
       "    </tr>\n",
       "    <tr>\n",
       "      <th>4</th>\n",
       "      <td>Call of Duty®</td>\n",
       "      <td>Free</td>\n",
       "      <td>Free</td>\n",
       "      <td>27 Oct, 2022</td>\n",
       "      <td>https://store.steampowered.com/app/1938090/Cal...</td>\n",
       "      <td>Welcome to Call of Duty® HQ, the home of Call ...</td>\n",
       "      <td>Mixed</td>\n",
       "      <td>Mixed</td>\n",
       "      <td>- 49% of the 8,257 user reviews in the last 30...</td>\n",
       "      <td>- 57% of the 236,876 user reviews for this gam...</td>\n",
       "      <td>Infinity Ward, Raven Software, Beenox, Treyarc...</td>\n",
       "      <td>Activision</td>\n",
       "      <td>['English', 'French', 'Italian', 'German', 'Sp...</td>\n",
       "      <td>['FPS', 'Multiplayer', 'Shooter', 'Action', 'S...</td>\n",
       "      <td>['Single-player', 'Online PvP', 'Online Co-op'...</td>\n",
       "      <td>Requires a 64-bit processor and operating syst...</td>\n",
       "      <td>1938090</td>\n",
       "    </tr>\n",
       "    <tr>\n",
       "      <th>...</th>\n",
       "      <td>...</td>\n",
       "      <td>...</td>\n",
       "      <td>...</td>\n",
       "      <td>...</td>\n",
       "      <td>...</td>\n",
       "      <td>...</td>\n",
       "      <td>...</td>\n",
       "      <td>...</td>\n",
       "      <td>...</td>\n",
       "      <td>...</td>\n",
       "      <td>...</td>\n",
       "      <td>...</td>\n",
       "      <td>...</td>\n",
       "      <td>...</td>\n",
       "      <td>...</td>\n",
       "      <td>...</td>\n",
       "      <td>...</td>\n",
       "    </tr>\n",
       "    <tr>\n",
       "      <th>71695</th>\n",
       "      <td>The Front</td>\n",
       "      <td>Free</td>\n",
       "      <td>Free</td>\n",
       "      <td>To be announced</td>\n",
       "      <td>https://store.steampowered.com/app/2285150/The...</td>\n",
       "      <td>The Front is a survival-open-world-crafting (S...</td>\n",
       "      <td>NaN</td>\n",
       "      <td>NaN</td>\n",
       "      <td>NaN</td>\n",
       "      <td>NaN</td>\n",
       "      <td>Samar Studio</td>\n",
       "      <td>Samar Studio</td>\n",
       "      <td>['English', 'French', 'German', 'Russian', 'Ja...</td>\n",
       "      <td>['Early Access', 'Survival', 'Building', 'Sand...</td>\n",
       "      <td>['Single-player', 'MMO', 'Online PvP', 'LAN Pv...</td>\n",
       "      <td>OS: |  Requires a 64-bit processor and operati...</td>\n",
       "      <td>2285150</td>\n",
       "    </tr>\n",
       "    <tr>\n",
       "      <th>71696</th>\n",
       "      <td>The Bornless</td>\n",
       "      <td>Free</td>\n",
       "      <td>Free</td>\n",
       "      <td>To be announced</td>\n",
       "      <td>https://store.steampowered.com/app/2411280/The...</td>\n",
       "      <td>Welcome to The Bornless, an action horror FPS....</td>\n",
       "      <td>NaN</td>\n",
       "      <td>NaN</td>\n",
       "      <td>NaN</td>\n",
       "      <td>NaN</td>\n",
       "      <td>Cathedral Studios</td>\n",
       "      <td>Cathedral Studios</td>\n",
       "      <td>['English', 'French', 'Italian', 'German', 'Sp...</td>\n",
       "      <td>['Early Access', 'Horror', 'FPS', 'Shooter', '...</td>\n",
       "      <td>['Single-player', 'Online PvP', 'Online Co-op'...</td>\n",
       "      <td>OS: |  Windows 10 or higher | Processor: |  In...</td>\n",
       "      <td>2411280</td>\n",
       "    </tr>\n",
       "    <tr>\n",
       "      <th>71697</th>\n",
       "      <td>Winter Memories</td>\n",
       "      <td>Free</td>\n",
       "      <td>Free</td>\n",
       "      <td>Coming soon</td>\n",
       "      <td>https://store.steampowered.com/app/2495450/Win...</td>\n",
       "      <td>After the unforgettable summer memories you’ve...</td>\n",
       "      <td>NaN</td>\n",
       "      <td>NaN</td>\n",
       "      <td>NaN</td>\n",
       "      <td>NaN</td>\n",
       "      <td>Dojin Otome</td>\n",
       "      <td>Kagura Games</td>\n",
       "      <td>['English', 'Japanese', 'Simplified Chinese']</td>\n",
       "      <td>['Casual', 'RPG', 'Simulation', 'Sexual Conten...</td>\n",
       "      <td>['Single-player']</td>\n",
       "      <td>OS: |  Windows® 7/8/8.1/10/11 | Processor: |  ...</td>\n",
       "      <td>2495450</td>\n",
       "    </tr>\n",
       "    <tr>\n",
       "      <th>71698</th>\n",
       "      <td>Call of Duty®: Modern Warfare® III</td>\n",
       "      <td>$69.99</td>\n",
       "      <td>$69.99</td>\n",
       "      <td>Coming soon</td>\n",
       "      <td>https://store.steampowered.com/app/2519060/Cal...</td>\n",
       "      <td>In the direct sequel to the record-breaking Ca...</td>\n",
       "      <td>NaN</td>\n",
       "      <td>NaN</td>\n",
       "      <td>NaN</td>\n",
       "      <td>NaN</td>\n",
       "      <td>Sledgehammer Games, Treyarch, Infinity Ward, B...</td>\n",
       "      <td>Activision</td>\n",
       "      <td>['English', 'French', 'Italian', 'German', 'Sp...</td>\n",
       "      <td>['Action', 'FPS', 'Shooter', 'First-Person', '...</td>\n",
       "      <td>['Single-player', 'Online PvP', 'Online Co-op'...</td>\n",
       "      <td>Requires a 64-bit processor and operating syst...</td>\n",
       "      <td>2519060</td>\n",
       "    </tr>\n",
       "    <tr>\n",
       "      <th>71699</th>\n",
       "      <td>Pixel Gun 3D: PC Edition</td>\n",
       "      <td>Free</td>\n",
       "      <td>Free</td>\n",
       "      <td>To be announced</td>\n",
       "      <td>https://store.steampowered.com/app/2524890/Pix...</td>\n",
       "      <td>Pixel Gun 3D is a near complete PC port of a l...</td>\n",
       "      <td>NaN</td>\n",
       "      <td>NaN</td>\n",
       "      <td>NaN</td>\n",
       "      <td>NaN</td>\n",
       "      <td>Cubic Games Studio</td>\n",
       "      <td>Cubic Games Studio</td>\n",
       "      <td>['English', 'French', 'German', 'Japanese', 'K...</td>\n",
       "      <td>['Action', 'Shooter', 'Pixel Graphics', 'Battl...</td>\n",
       "      <td>['Single-player', 'Online PvP', 'Cross-Platfor...</td>\n",
       "      <td>OS: |  Windows 10 (x64) - Windows 11 (x64) | P...</td>\n",
       "      <td>2524890</td>\n",
       "    </tr>\n",
       "  </tbody>\n",
       "</table>\n",
       "<p>71700 rows × 17 columns</p>\n",
       "</div>"
      ],
      "text/plain": [
       "                                    Title Original Price Discounted Price  \\\n",
       "0                         Baldur's Gate 3         $29.99           $29.99   \n",
       "1        Counter-Strike: Global Offensive         $14.99           $14.99   \n",
       "2                           Apex Legends™           Free             Free   \n",
       "3                         Forza Horizon 5         $34.78           $17.39   \n",
       "4                           Call of Duty®           Free             Free   \n",
       "...                                   ...            ...              ...   \n",
       "71695                           The Front           Free             Free   \n",
       "71696                        The Bornless           Free             Free   \n",
       "71697                     Winter Memories           Free             Free   \n",
       "71698  Call of Duty®: Modern Warfare® III         $69.99           $69.99   \n",
       "71699            Pixel Gun 3D: PC Edition           Free             Free   \n",
       "\n",
       "          Release Date                                               Link  \\\n",
       "0          3 Aug, 2023  https://store.steampowered.com/app/1086940/Bal...   \n",
       "1         21 Aug, 2012  https://store.steampowered.com/app/730/Counter...   \n",
       "2          4 Nov, 2020  https://store.steampowered.com/app/1172470/Ape...   \n",
       "3          8 Nov, 2021  https://store.steampowered.com/app/1551360/For...   \n",
       "4         27 Oct, 2022  https://store.steampowered.com/app/1938090/Cal...   \n",
       "...                ...                                                ...   \n",
       "71695  To be announced  https://store.steampowered.com/app/2285150/The...   \n",
       "71696  To be announced  https://store.steampowered.com/app/2411280/The...   \n",
       "71697      Coming soon  https://store.steampowered.com/app/2495450/Win...   \n",
       "71698      Coming soon  https://store.steampowered.com/app/2519060/Cal...   \n",
       "71699  To be announced  https://store.steampowered.com/app/2524890/Pix...   \n",
       "\n",
       "                                        Game Description  \\\n",
       "0      Baldur’s Gate 3 is a story-rich, party-based R...   \n",
       "1      Counter-Strike: Global Offensive (CS: GO) expa...   \n",
       "2      Apex Legends is the award-winning, free-to-pla...   \n",
       "3      Your Ultimate Horizon Adventure awaits! Explor...   \n",
       "4      Welcome to Call of Duty® HQ, the home of Call ...   \n",
       "...                                                  ...   \n",
       "71695  The Front is a survival-open-world-crafting (S...   \n",
       "71696  Welcome to The Bornless, an action horror FPS....   \n",
       "71697  After the unforgettable summer memories you’ve...   \n",
       "71698  In the direct sequel to the record-breaking Ca...   \n",
       "71699  Pixel Gun 3D is a near complete PC port of a l...   \n",
       "\n",
       "        Recent Reviews Summary All Reviews Summary  \\\n",
       "0      Overwhelmingly Positive       Very Positive   \n",
       "1                Very Positive       Very Positive   \n",
       "2                        Mixed       Very Positive   \n",
       "3                Very Positive       Very Positive   \n",
       "4                        Mixed               Mixed   \n",
       "...                        ...                 ...   \n",
       "71695                      NaN                 NaN   \n",
       "71696                      NaN                 NaN   \n",
       "71697                      NaN                 NaN   \n",
       "71698                      NaN                 NaN   \n",
       "71699                      NaN                 NaN   \n",
       "\n",
       "                                   Recent Reviews Number  \\\n",
       "0      - 96% of the 128,900 user reviews in the last ...   \n",
       "1      - 89% of the 75,284 user reviews in the last 3...   \n",
       "2      - 65% of the 18,581 user reviews in the last 3...   \n",
       "3      - 87% of the 4,120 user reviews in the last 30...   \n",
       "4      - 49% of the 8,257 user reviews in the last 30...   \n",
       "...                                                  ...   \n",
       "71695                                                NaN   \n",
       "71696                                                NaN   \n",
       "71697                                                NaN   \n",
       "71698                                                NaN   \n",
       "71699                                                NaN   \n",
       "\n",
       "                                      All Reviews Number  \\\n",
       "0      - 94% of the 188,617 user reviews for this gam...   \n",
       "1      - 88% of the 7,428,921 user reviews for this g...   \n",
       "2      - 80% of the 701,597 user reviews for this gam...   \n",
       "3      - 88% of the 123,162 user reviews for this gam...   \n",
       "4      - 57% of the 236,876 user reviews for this gam...   \n",
       "...                                                  ...   \n",
       "71695                                                NaN   \n",
       "71696                                                NaN   \n",
       "71697                                                NaN   \n",
       "71698                                                NaN   \n",
       "71699                                                NaN   \n",
       "\n",
       "                                               Developer           Publisher  \\\n",
       "0                                         Larian Studios      Larian Studios   \n",
       "1                       Valve, Hidden Path Entertainment               Valve   \n",
       "2                                  Respawn Entertainment     Electronic Arts   \n",
       "3                                       Playground Games   Xbox Game Studios   \n",
       "4      Infinity Ward, Raven Software, Beenox, Treyarc...          Activision   \n",
       "...                                                  ...                 ...   \n",
       "71695                                       Samar Studio        Samar Studio   \n",
       "71696                                  Cathedral Studios   Cathedral Studios   \n",
       "71697                                        Dojin Otome        Kagura Games   \n",
       "71698  Sledgehammer Games, Treyarch, Infinity Ward, B...          Activision   \n",
       "71699                                 Cubic Games Studio  Cubic Games Studio   \n",
       "\n",
       "                                     Supported Languages  \\\n",
       "0      ['English', 'French', 'German', 'Spanish - Spa...   \n",
       "1      ['English', 'Czech', 'Danish', 'Dutch', 'Finni...   \n",
       "2      ['English', 'French', 'Italian', 'German', 'Sp...   \n",
       "3      ['English', 'French', 'Italian', 'German', 'Sp...   \n",
       "4      ['English', 'French', 'Italian', 'German', 'Sp...   \n",
       "...                                                  ...   \n",
       "71695  ['English', 'French', 'German', 'Russian', 'Ja...   \n",
       "71696  ['English', 'French', 'Italian', 'German', 'Sp...   \n",
       "71697      ['English', 'Japanese', 'Simplified Chinese']   \n",
       "71698  ['English', 'French', 'Italian', 'German', 'Sp...   \n",
       "71699  ['English', 'French', 'German', 'Japanese', 'K...   \n",
       "\n",
       "                                            Popular Tags  \\\n",
       "0      ['RPG', 'Choices Matter', 'Character Customiza...   \n",
       "1      ['FPS', 'Shooter', 'Multiplayer', 'Competitive...   \n",
       "2      ['Free to Play', 'Multiplayer', 'Battle Royale...   \n",
       "3      ['Racing', 'Open World', 'Driving', 'Multiplay...   \n",
       "4      ['FPS', 'Multiplayer', 'Shooter', 'Action', 'S...   \n",
       "...                                                  ...   \n",
       "71695  ['Early Access', 'Survival', 'Building', 'Sand...   \n",
       "71696  ['Early Access', 'Horror', 'FPS', 'Shooter', '...   \n",
       "71697  ['Casual', 'RPG', 'Simulation', 'Sexual Conten...   \n",
       "71698  ['Action', 'FPS', 'Shooter', 'First-Person', '...   \n",
       "71699  ['Action', 'Shooter', 'Pixel Graphics', 'Battl...   \n",
       "\n",
       "                                           Game Features  \\\n",
       "0      ['Single-player', 'Online Co-op', 'LAN Co-op',...   \n",
       "1      ['Steam Achievements', 'Full controller suppor...   \n",
       "2      ['Online PvP', 'Online Co-op', 'Steam Achievem...   \n",
       "3      ['Single-player', 'Online PvP', 'Online Co-op'...   \n",
       "4      ['Single-player', 'Online PvP', 'Online Co-op'...   \n",
       "...                                                  ...   \n",
       "71695  ['Single-player', 'MMO', 'Online PvP', 'LAN Pv...   \n",
       "71696  ['Single-player', 'Online PvP', 'Online Co-op'...   \n",
       "71697                                  ['Single-player']   \n",
       "71698  ['Single-player', 'Online PvP', 'Online Co-op'...   \n",
       "71699  ['Single-player', 'Online PvP', 'Cross-Platfor...   \n",
       "\n",
       "                                    Minimum Requirements   app_id  \n",
       "0      Requires a 64-bit processor and operating syst...  1086940  \n",
       "1      OS: |  Windows® 7/Vista/XP | Processor: |  Int...      730  \n",
       "2      Requires a 64-bit processor and operating syst...  1172470  \n",
       "3      Requires a 64-bit processor and operating syst...  1551360  \n",
       "4      Requires a 64-bit processor and operating syst...  1938090  \n",
       "...                                                  ...      ...  \n",
       "71695  OS: |  Requires a 64-bit processor and operati...  2285150  \n",
       "71696  OS: |  Windows 10 or higher | Processor: |  In...  2411280  \n",
       "71697  OS: |  Windows® 7/8/8.1/10/11 | Processor: |  ...  2495450  \n",
       "71698  Requires a 64-bit processor and operating syst...  2519060  \n",
       "71699  OS: |  Windows 10 (x64) - Windows 11 (x64) | P...  2524890  \n",
       "\n",
       "[71700 rows x 17 columns]"
      ]
     },
     "execution_count": 55,
     "metadata": {},
     "output_type": "execute_result"
    }
   ],
   "source": [
    "all_games_data"
   ]
  },
  {
   "cell_type": "code",
   "execution_count": 57,
   "id": "b562f64f",
   "metadata": {},
   "outputs": [
    {
     "data": {
      "text/plain": [
       "\"['Single-player', 'Online Co-op', 'LAN Co-op', 'Steam Achievements', 'Full controller support', 'Steam Cloud']\""
      ]
     },
     "execution_count": 57,
     "metadata": {},
     "output_type": "execute_result"
    }
   ],
   "source": [
    "all_games_data.iloc[0]['Game Features']"
   ]
  },
  {
   "cell_type": "code",
   "execution_count": 58,
   "id": "ad18df97",
   "metadata": {},
   "outputs": [],
   "source": [
    "columns_to_drop = ['Discounted Price','Recent Reviews Summary','All Reviews Summary','Recent Reviews Number',\n",
    "                   'All Reviews Number','Supported Languages','Game Features','Minimum Requirements','Developer','Publisher']\n",
    "\n",
    "all_games_data.drop(columns=columns_to_drop, inplace=True)"
   ]
  },
  {
   "cell_type": "code",
   "execution_count": 59,
   "id": "61afeaed",
   "metadata": {},
   "outputs": [
    {
     "data": {
      "text/html": [
       "<div>\n",
       "<style scoped>\n",
       "    .dataframe tbody tr th:only-of-type {\n",
       "        vertical-align: middle;\n",
       "    }\n",
       "\n",
       "    .dataframe tbody tr th {\n",
       "        vertical-align: top;\n",
       "    }\n",
       "\n",
       "    .dataframe thead th {\n",
       "        text-align: right;\n",
       "    }\n",
       "</style>\n",
       "<table border=\"1\" class=\"dataframe\">\n",
       "  <thead>\n",
       "    <tr style=\"text-align: right;\">\n",
       "      <th></th>\n",
       "      <th>Title</th>\n",
       "      <th>Original Price</th>\n",
       "      <th>Release Date</th>\n",
       "      <th>Link</th>\n",
       "      <th>Game Description</th>\n",
       "      <th>Popular Tags</th>\n",
       "      <th>app_id</th>\n",
       "    </tr>\n",
       "  </thead>\n",
       "  <tbody>\n",
       "    <tr>\n",
       "      <th>0</th>\n",
       "      <td>Baldur's Gate 3</td>\n",
       "      <td>$29.99</td>\n",
       "      <td>3 Aug, 2023</td>\n",
       "      <td>https://store.steampowered.com/app/1086940/Bal...</td>\n",
       "      <td>Baldur’s Gate 3 is a story-rich, party-based R...</td>\n",
       "      <td>['RPG', 'Choices Matter', 'Character Customiza...</td>\n",
       "      <td>1086940</td>\n",
       "    </tr>\n",
       "    <tr>\n",
       "      <th>1</th>\n",
       "      <td>Counter-Strike: Global Offensive</td>\n",
       "      <td>$14.99</td>\n",
       "      <td>21 Aug, 2012</td>\n",
       "      <td>https://store.steampowered.com/app/730/Counter...</td>\n",
       "      <td>Counter-Strike: Global Offensive (CS: GO) expa...</td>\n",
       "      <td>['FPS', 'Shooter', 'Multiplayer', 'Competitive...</td>\n",
       "      <td>730</td>\n",
       "    </tr>\n",
       "    <tr>\n",
       "      <th>2</th>\n",
       "      <td>Apex Legends™</td>\n",
       "      <td>Free</td>\n",
       "      <td>4 Nov, 2020</td>\n",
       "      <td>https://store.steampowered.com/app/1172470/Ape...</td>\n",
       "      <td>Apex Legends is the award-winning, free-to-pla...</td>\n",
       "      <td>['Free to Play', 'Multiplayer', 'Battle Royale...</td>\n",
       "      <td>1172470</td>\n",
       "    </tr>\n",
       "    <tr>\n",
       "      <th>3</th>\n",
       "      <td>Forza Horizon 5</td>\n",
       "      <td>$34.78</td>\n",
       "      <td>8 Nov, 2021</td>\n",
       "      <td>https://store.steampowered.com/app/1551360/For...</td>\n",
       "      <td>Your Ultimate Horizon Adventure awaits! Explor...</td>\n",
       "      <td>['Racing', 'Open World', 'Driving', 'Multiplay...</td>\n",
       "      <td>1551360</td>\n",
       "    </tr>\n",
       "    <tr>\n",
       "      <th>4</th>\n",
       "      <td>Call of Duty®</td>\n",
       "      <td>Free</td>\n",
       "      <td>27 Oct, 2022</td>\n",
       "      <td>https://store.steampowered.com/app/1938090/Cal...</td>\n",
       "      <td>Welcome to Call of Duty® HQ, the home of Call ...</td>\n",
       "      <td>['FPS', 'Multiplayer', 'Shooter', 'Action', 'S...</td>\n",
       "      <td>1938090</td>\n",
       "    </tr>\n",
       "    <tr>\n",
       "      <th>...</th>\n",
       "      <td>...</td>\n",
       "      <td>...</td>\n",
       "      <td>...</td>\n",
       "      <td>...</td>\n",
       "      <td>...</td>\n",
       "      <td>...</td>\n",
       "      <td>...</td>\n",
       "    </tr>\n",
       "    <tr>\n",
       "      <th>71695</th>\n",
       "      <td>The Front</td>\n",
       "      <td>Free</td>\n",
       "      <td>To be announced</td>\n",
       "      <td>https://store.steampowered.com/app/2285150/The...</td>\n",
       "      <td>The Front is a survival-open-world-crafting (S...</td>\n",
       "      <td>['Early Access', 'Survival', 'Building', 'Sand...</td>\n",
       "      <td>2285150</td>\n",
       "    </tr>\n",
       "    <tr>\n",
       "      <th>71696</th>\n",
       "      <td>The Bornless</td>\n",
       "      <td>Free</td>\n",
       "      <td>To be announced</td>\n",
       "      <td>https://store.steampowered.com/app/2411280/The...</td>\n",
       "      <td>Welcome to The Bornless, an action horror FPS....</td>\n",
       "      <td>['Early Access', 'Horror', 'FPS', 'Shooter', '...</td>\n",
       "      <td>2411280</td>\n",
       "    </tr>\n",
       "    <tr>\n",
       "      <th>71697</th>\n",
       "      <td>Winter Memories</td>\n",
       "      <td>Free</td>\n",
       "      <td>Coming soon</td>\n",
       "      <td>https://store.steampowered.com/app/2495450/Win...</td>\n",
       "      <td>After the unforgettable summer memories you’ve...</td>\n",
       "      <td>['Casual', 'RPG', 'Simulation', 'Sexual Conten...</td>\n",
       "      <td>2495450</td>\n",
       "    </tr>\n",
       "    <tr>\n",
       "      <th>71698</th>\n",
       "      <td>Call of Duty®: Modern Warfare® III</td>\n",
       "      <td>$69.99</td>\n",
       "      <td>Coming soon</td>\n",
       "      <td>https://store.steampowered.com/app/2519060/Cal...</td>\n",
       "      <td>In the direct sequel to the record-breaking Ca...</td>\n",
       "      <td>['Action', 'FPS', 'Shooter', 'First-Person', '...</td>\n",
       "      <td>2519060</td>\n",
       "    </tr>\n",
       "    <tr>\n",
       "      <th>71699</th>\n",
       "      <td>Pixel Gun 3D: PC Edition</td>\n",
       "      <td>Free</td>\n",
       "      <td>To be announced</td>\n",
       "      <td>https://store.steampowered.com/app/2524890/Pix...</td>\n",
       "      <td>Pixel Gun 3D is a near complete PC port of a l...</td>\n",
       "      <td>['Action', 'Shooter', 'Pixel Graphics', 'Battl...</td>\n",
       "      <td>2524890</td>\n",
       "    </tr>\n",
       "  </tbody>\n",
       "</table>\n",
       "<p>71700 rows × 7 columns</p>\n",
       "</div>"
      ],
      "text/plain": [
       "                                    Title Original Price     Release Date  \\\n",
       "0                         Baldur's Gate 3         $29.99      3 Aug, 2023   \n",
       "1        Counter-Strike: Global Offensive         $14.99     21 Aug, 2012   \n",
       "2                           Apex Legends™           Free      4 Nov, 2020   \n",
       "3                         Forza Horizon 5         $34.78      8 Nov, 2021   \n",
       "4                           Call of Duty®           Free     27 Oct, 2022   \n",
       "...                                   ...            ...              ...   \n",
       "71695                           The Front           Free  To be announced   \n",
       "71696                        The Bornless           Free  To be announced   \n",
       "71697                     Winter Memories           Free      Coming soon   \n",
       "71698  Call of Duty®: Modern Warfare® III         $69.99      Coming soon   \n",
       "71699            Pixel Gun 3D: PC Edition           Free  To be announced   \n",
       "\n",
       "                                                    Link  \\\n",
       "0      https://store.steampowered.com/app/1086940/Bal...   \n",
       "1      https://store.steampowered.com/app/730/Counter...   \n",
       "2      https://store.steampowered.com/app/1172470/Ape...   \n",
       "3      https://store.steampowered.com/app/1551360/For...   \n",
       "4      https://store.steampowered.com/app/1938090/Cal...   \n",
       "...                                                  ...   \n",
       "71695  https://store.steampowered.com/app/2285150/The...   \n",
       "71696  https://store.steampowered.com/app/2411280/The...   \n",
       "71697  https://store.steampowered.com/app/2495450/Win...   \n",
       "71698  https://store.steampowered.com/app/2519060/Cal...   \n",
       "71699  https://store.steampowered.com/app/2524890/Pix...   \n",
       "\n",
       "                                        Game Description  \\\n",
       "0      Baldur’s Gate 3 is a story-rich, party-based R...   \n",
       "1      Counter-Strike: Global Offensive (CS: GO) expa...   \n",
       "2      Apex Legends is the award-winning, free-to-pla...   \n",
       "3      Your Ultimate Horizon Adventure awaits! Explor...   \n",
       "4      Welcome to Call of Duty® HQ, the home of Call ...   \n",
       "...                                                  ...   \n",
       "71695  The Front is a survival-open-world-crafting (S...   \n",
       "71696  Welcome to The Bornless, an action horror FPS....   \n",
       "71697  After the unforgettable summer memories you’ve...   \n",
       "71698  In the direct sequel to the record-breaking Ca...   \n",
       "71699  Pixel Gun 3D is a near complete PC port of a l...   \n",
       "\n",
       "                                            Popular Tags   app_id  \n",
       "0      ['RPG', 'Choices Matter', 'Character Customiza...  1086940  \n",
       "1      ['FPS', 'Shooter', 'Multiplayer', 'Competitive...      730  \n",
       "2      ['Free to Play', 'Multiplayer', 'Battle Royale...  1172470  \n",
       "3      ['Racing', 'Open World', 'Driving', 'Multiplay...  1551360  \n",
       "4      ['FPS', 'Multiplayer', 'Shooter', 'Action', 'S...  1938090  \n",
       "...                                                  ...      ...  \n",
       "71695  ['Early Access', 'Survival', 'Building', 'Sand...  2285150  \n",
       "71696  ['Early Access', 'Horror', 'FPS', 'Shooter', '...  2411280  \n",
       "71697  ['Casual', 'RPG', 'Simulation', 'Sexual Conten...  2495450  \n",
       "71698  ['Action', 'FPS', 'Shooter', 'First-Person', '...  2519060  \n",
       "71699  ['Action', 'Shooter', 'Pixel Graphics', 'Battl...  2524890  \n",
       "\n",
       "[71700 rows x 7 columns]"
      ]
     },
     "execution_count": 59,
     "metadata": {},
     "output_type": "execute_result"
    }
   ],
   "source": [
    "all_games_data"
   ]
  },
  {
   "cell_type": "code",
   "execution_count": 60,
   "id": "2cc926e1",
   "metadata": {},
   "outputs": [
    {
     "data": {
      "text/plain": [
       "Title                 1\n",
       "Original Price        0\n",
       "Release Date        131\n",
       "Link                  0\n",
       "Game Description    211\n",
       "Popular Tags          0\n",
       "app_id                0\n",
       "dtype: int64"
      ]
     },
     "execution_count": 60,
     "metadata": {},
     "output_type": "execute_result"
    }
   ],
   "source": [
    "all_games_data.isnull().sum()"
   ]
  },
  {
   "cell_type": "code",
   "execution_count": 61,
   "id": "3e09d57c",
   "metadata": {},
   "outputs": [
    {
     "data": {
      "text/plain": [
       "0"
      ]
     },
     "execution_count": 61,
     "metadata": {},
     "output_type": "execute_result"
    }
   ],
   "source": [
    "(all_games_data['Popular Tags'] == '').sum()"
   ]
  },
  {
   "cell_type": "code",
   "execution_count": 66,
   "id": "162fd156",
   "metadata": {},
   "outputs": [],
   "source": [
    "all_games_data = all_games_data[all_games_data['Title'].notnull()]"
   ]
  },
  {
   "cell_type": "code",
   "execution_count": 67,
   "id": "ab0e093f",
   "metadata": {},
   "outputs": [
    {
     "data": {
      "text/plain": [
       "(71699, 7)"
      ]
     },
     "execution_count": 67,
     "metadata": {},
     "output_type": "execute_result"
    }
   ],
   "source": [
    "all_games_data.shape"
   ]
  },
  {
   "cell_type": "code",
   "execution_count": 68,
   "id": "f58ae4c2",
   "metadata": {},
   "outputs": [],
   "source": [
    "all_games_data = all_games_data[all_games_data['Release Date'].notnull()]"
   ]
  },
  {
   "cell_type": "code",
   "execution_count": 69,
   "id": "3764cccd",
   "metadata": {},
   "outputs": [],
   "source": [
    "all_games_data = all_games_data[all_games_data['Game Description'].notnull()]"
   ]
  },
  {
   "cell_type": "code",
   "execution_count": 70,
   "id": "e93ad59b",
   "metadata": {},
   "outputs": [
    {
     "data": {
      "text/plain": [
       "(71407, 7)"
      ]
     },
     "execution_count": 70,
     "metadata": {},
     "output_type": "execute_result"
    }
   ],
   "source": [
    "all_games_data.shape"
   ]
  },
  {
   "cell_type": "code",
   "execution_count": 71,
   "id": "f4c52c93",
   "metadata": {},
   "outputs": [
    {
     "data": {
      "text/plain": [
       "Title               0\n",
       "Original Price      0\n",
       "Release Date        0\n",
       "Link                0\n",
       "Game Description    0\n",
       "Popular Tags        0\n",
       "app_id              0\n",
       "dtype: int64"
      ]
     },
     "execution_count": 71,
     "metadata": {},
     "output_type": "execute_result"
    }
   ],
   "source": [
    "all_games_data.isnull().sum()"
   ]
  },
  {
   "cell_type": "code",
   "execution_count": 89,
   "id": "d1457202",
   "metadata": {
    "scrolled": true
   },
   "outputs": [
    {
     "data": {
      "text/plain": [
       "\"['FPS', 'Shooter', 'Multiplayer', 'Competitive', 'Action', 'Team-Based', 'eSports', 'Tactical', 'First-Person', 'PvP', 'Online Co-Op', 'Co-op', 'Strategy', 'Military', 'War', 'Difficult', 'Trading', 'Realistic', 'Fast-Paced', 'Moddable']\""
      ]
     },
     "execution_count": 89,
     "metadata": {},
     "output_type": "execute_result"
    }
   ],
   "source": [
    "_lst = all_games_data.iloc[1]['Popular Tags']\n",
    "_lst"
   ]
  },
  {
   "cell_type": "code",
   "execution_count": 88,
   "id": "666625d0",
   "metadata": {},
   "outputs": [
    {
     "data": {
      "text/plain": [
       "str"
      ]
     },
     "execution_count": 88,
     "metadata": {},
     "output_type": "execute_result"
    }
   ],
   "source": [
    "type(all_games_data.iloc[1]['Popular Tags'])"
   ]
  },
  {
   "cell_type": "code",
   "execution_count": null,
   "id": "2f5453e4",
   "metadata": {},
   "outputs": [],
   "source": [
    "#convert all tags to list of strings\n",
    "\n",
    "# import ast\n",
    "# for tags in all_games_data['Popular Tags']:\n",
    "   \n",
    "#     temp = ast.literal_eval(tags)\n",
    "#     tags = temp"
   ]
  },
  {
   "cell_type": "code",
   "execution_count": 100,
   "id": "691ca486",
   "metadata": {},
   "outputs": [],
   "source": [
    "all_games_data.to_csv('cleaned_all_games.csv',sep=',', index=False)"
   ]
  },
  {
   "cell_type": "code",
   "execution_count": 4,
   "id": "0c8df27d",
   "metadata": {},
   "outputs": [],
   "source": [
    "trending_games_title = ['Monster Hunter: World','Dota 2',\"Baldur's Gate 3\",'PUBG: BATTLEGROUNDS',\n",
    "                        'Team Fortress 2',\"Warframe\",'NARAKA: BLADEPOINT','Apex Legends™',\n",
    "                        'Grand Theft Auto V','Rust','Call of Duty®','ELDEN RING']"
   ]
  },
  {
   "cell_type": "code",
   "execution_count": 5,
   "id": "84d4f4f2",
   "metadata": {},
   "outputs": [],
   "source": [
    "trending_df = pd.DataFrame()\n",
    "for title in trending_games_title:\n",
    "    row = df[df['Title'] == title]\n",
    "\n",
    "    trending_df = pd.concat([trending_df, pd.DataFrame(row)], ignore_index=True)"
   ]
  },
  {
   "cell_type": "code",
   "execution_count": 6,
   "id": "9e82b24c",
   "metadata": {
    "scrolled": true
   },
   "outputs": [
    {
     "data": {
      "text/html": [
       "<div>\n",
       "<style scoped>\n",
       "    .dataframe tbody tr th:only-of-type {\n",
       "        vertical-align: middle;\n",
       "    }\n",
       "\n",
       "    .dataframe tbody tr th {\n",
       "        vertical-align: top;\n",
       "    }\n",
       "\n",
       "    .dataframe thead th {\n",
       "        text-align: right;\n",
       "    }\n",
       "</style>\n",
       "<table border=\"1\" class=\"dataframe\">\n",
       "  <thead>\n",
       "    <tr style=\"text-align: right;\">\n",
       "      <th></th>\n",
       "      <th>Title</th>\n",
       "      <th>Original Price</th>\n",
       "      <th>Release Date</th>\n",
       "      <th>Link</th>\n",
       "      <th>Game Description</th>\n",
       "      <th>Popular Tags</th>\n",
       "      <th>app_id</th>\n",
       "    </tr>\n",
       "  </thead>\n",
       "  <tbody>\n",
       "    <tr>\n",
       "      <th>0</th>\n",
       "      <td>Monster Hunter: World</td>\n",
       "      <td>$23.99</td>\n",
       "      <td>9 Aug, 2018</td>\n",
       "      <td>https://store.steampowered.com/app/582010/Mons...</td>\n",
       "      <td>Welcome to a new world! In Monster Hunter: Wor...</td>\n",
       "      <td>['Co-op', 'Multiplayer', 'Action', 'Open World...</td>\n",
       "      <td>582010</td>\n",
       "    </tr>\n",
       "    <tr>\n",
       "      <th>1</th>\n",
       "      <td>Dota 2</td>\n",
       "      <td>$92.62</td>\n",
       "      <td>9 Jul, 2013</td>\n",
       "      <td>https://store.steampowered.com/app/570/Dota_2/...</td>\n",
       "      <td>Every day, millions of players worldwide enter...</td>\n",
       "      <td>['Free to Play', 'MOBA', 'Multiplayer', 'Strat...</td>\n",
       "      <td>570</td>\n",
       "    </tr>\n",
       "    <tr>\n",
       "      <th>2</th>\n",
       "      <td>Baldur's Gate 3</td>\n",
       "      <td>$29.99</td>\n",
       "      <td>3 Aug, 2023</td>\n",
       "      <td>https://store.steampowered.com/app/1086940/Bal...</td>\n",
       "      <td>Baldur’s Gate 3 is a story-rich, party-based R...</td>\n",
       "      <td>['RPG', 'Choices Matter', 'Character Customiza...</td>\n",
       "      <td>1086940</td>\n",
       "    </tr>\n",
       "    <tr>\n",
       "      <th>3</th>\n",
       "      <td>PUBG: BATTLEGROUNDS</td>\n",
       "      <td>Free</td>\n",
       "      <td>21 Dec, 2017</td>\n",
       "      <td>https://store.steampowered.com/app/578080/PUBG...</td>\n",
       "      <td>Play PUBG: BATTLEGROUNDS for free. Land on str...</td>\n",
       "      <td>['Survival', 'Shooter', 'Battle Royale', 'Mult...</td>\n",
       "      <td>578080</td>\n",
       "    </tr>\n",
       "    <tr>\n",
       "      <th>4</th>\n",
       "      <td>Team Fortress 2</td>\n",
       "      <td>$10.49</td>\n",
       "      <td>10 Oct, 2007</td>\n",
       "      <td>https://store.steampowered.com/app/440/Team_Fo...</td>\n",
       "      <td>Nine distinct classes provide a broad range of...</td>\n",
       "      <td>['Free to Play', 'Hero Shooter', 'Multiplayer'...</td>\n",
       "      <td>440</td>\n",
       "    </tr>\n",
       "    <tr>\n",
       "      <th>5</th>\n",
       "      <td>Warframe</td>\n",
       "      <td>Free</td>\n",
       "      <td>25 Mar, 2013</td>\n",
       "      <td>https://store.steampowered.com/app/230410/Warf...</td>\n",
       "      <td>Awaken as an unstoppable warrior and battle al...</td>\n",
       "      <td>['Free to Play', 'Action RPG', 'Looter Shooter...</td>\n",
       "      <td>230410</td>\n",
       "    </tr>\n",
       "    <tr>\n",
       "      <th>6</th>\n",
       "      <td>NARAKA: BLADEPOINT</td>\n",
       "      <td>Free</td>\n",
       "      <td>11 Aug, 2021</td>\n",
       "      <td>https://store.steampowered.com/app/1203220/NAR...</td>\n",
       "      <td>Dive into the legends of the Far East in NARAK...</td>\n",
       "      <td>['Battle Royale', 'Multiplayer', 'Martial Arts...</td>\n",
       "      <td>1203220</td>\n",
       "    </tr>\n",
       "    <tr>\n",
       "      <th>7</th>\n",
       "      <td>Apex Legends™</td>\n",
       "      <td>Free</td>\n",
       "      <td>4 Nov, 2020</td>\n",
       "      <td>https://store.steampowered.com/app/1172470/Ape...</td>\n",
       "      <td>Apex Legends is the award-winning, free-to-pla...</td>\n",
       "      <td>['Free to Play', 'Multiplayer', 'Battle Royale...</td>\n",
       "      <td>1172470</td>\n",
       "    </tr>\n",
       "    <tr>\n",
       "      <th>8</th>\n",
       "      <td>Grand Theft Auto V</td>\n",
       "      <td>$33.98</td>\n",
       "      <td>13 Apr, 2015</td>\n",
       "      <td>https://store.steampowered.com/app/271590/Gran...</td>\n",
       "      <td>Grand Theft Auto V for PC offers players the o...</td>\n",
       "      <td>['Open World', 'Action', 'Multiplayer', 'Crime...</td>\n",
       "      <td>271590</td>\n",
       "    </tr>\n",
       "    <tr>\n",
       "      <th>9</th>\n",
       "      <td>Rust</td>\n",
       "      <td>$19.99</td>\n",
       "      <td>8 Feb, 2018</td>\n",
       "      <td>https://store.steampowered.com/app/252490/Rust...</td>\n",
       "      <td>The only aim in Rust is to survive. Everything...</td>\n",
       "      <td>['Survival', 'Crafting', 'Multiplayer', 'Open ...</td>\n",
       "      <td>252490</td>\n",
       "    </tr>\n",
       "    <tr>\n",
       "      <th>10</th>\n",
       "      <td>Call of Duty®</td>\n",
       "      <td>Free</td>\n",
       "      <td>27 Oct, 2022</td>\n",
       "      <td>https://store.steampowered.com/app/1938090/Cal...</td>\n",
       "      <td>Welcome to Call of Duty® HQ, the home of Call ...</td>\n",
       "      <td>['FPS', 'Multiplayer', 'Shooter', 'Action', 'S...</td>\n",
       "      <td>1938090</td>\n",
       "    </tr>\n",
       "    <tr>\n",
       "      <th>11</th>\n",
       "      <td>ELDEN RING</td>\n",
       "      <td>$34.99</td>\n",
       "      <td>24 Feb, 2022</td>\n",
       "      <td>https://store.steampowered.com/app/1245620/ELD...</td>\n",
       "      <td>THE NEW FANTASY ACTION RPG. Rise, Tarnished, a...</td>\n",
       "      <td>['Souls-like', 'Dark Fantasy', 'RPG', 'Open Wo...</td>\n",
       "      <td>1245620</td>\n",
       "    </tr>\n",
       "  </tbody>\n",
       "</table>\n",
       "</div>"
      ],
      "text/plain": [
       "                    Title Original Price  Release Date  \\\n",
       "0   Monster Hunter: World         $23.99   9 Aug, 2018   \n",
       "1                  Dota 2         $92.62   9 Jul, 2013   \n",
       "2         Baldur's Gate 3         $29.99   3 Aug, 2023   \n",
       "3     PUBG: BATTLEGROUNDS           Free  21 Dec, 2017   \n",
       "4         Team Fortress 2         $10.49  10 Oct, 2007   \n",
       "5                Warframe           Free  25 Mar, 2013   \n",
       "6      NARAKA: BLADEPOINT           Free  11 Aug, 2021   \n",
       "7           Apex Legends™           Free   4 Nov, 2020   \n",
       "8      Grand Theft Auto V         $33.98  13 Apr, 2015   \n",
       "9                    Rust         $19.99   8 Feb, 2018   \n",
       "10          Call of Duty®           Free  27 Oct, 2022   \n",
       "11             ELDEN RING         $34.99  24 Feb, 2022   \n",
       "\n",
       "                                                 Link  \\\n",
       "0   https://store.steampowered.com/app/582010/Mons...   \n",
       "1   https://store.steampowered.com/app/570/Dota_2/...   \n",
       "2   https://store.steampowered.com/app/1086940/Bal...   \n",
       "3   https://store.steampowered.com/app/578080/PUBG...   \n",
       "4   https://store.steampowered.com/app/440/Team_Fo...   \n",
       "5   https://store.steampowered.com/app/230410/Warf...   \n",
       "6   https://store.steampowered.com/app/1203220/NAR...   \n",
       "7   https://store.steampowered.com/app/1172470/Ape...   \n",
       "8   https://store.steampowered.com/app/271590/Gran...   \n",
       "9   https://store.steampowered.com/app/252490/Rust...   \n",
       "10  https://store.steampowered.com/app/1938090/Cal...   \n",
       "11  https://store.steampowered.com/app/1245620/ELD...   \n",
       "\n",
       "                                     Game Description  \\\n",
       "0   Welcome to a new world! In Monster Hunter: Wor...   \n",
       "1   Every day, millions of players worldwide enter...   \n",
       "2   Baldur’s Gate 3 is a story-rich, party-based R...   \n",
       "3   Play PUBG: BATTLEGROUNDS for free. Land on str...   \n",
       "4   Nine distinct classes provide a broad range of...   \n",
       "5   Awaken as an unstoppable warrior and battle al...   \n",
       "6   Dive into the legends of the Far East in NARAK...   \n",
       "7   Apex Legends is the award-winning, free-to-pla...   \n",
       "8   Grand Theft Auto V for PC offers players the o...   \n",
       "9   The only aim in Rust is to survive. Everything...   \n",
       "10  Welcome to Call of Duty® HQ, the home of Call ...   \n",
       "11  THE NEW FANTASY ACTION RPG. Rise, Tarnished, a...   \n",
       "\n",
       "                                         Popular Tags   app_id  \n",
       "0   ['Co-op', 'Multiplayer', 'Action', 'Open World...   582010  \n",
       "1   ['Free to Play', 'MOBA', 'Multiplayer', 'Strat...      570  \n",
       "2   ['RPG', 'Choices Matter', 'Character Customiza...  1086940  \n",
       "3   ['Survival', 'Shooter', 'Battle Royale', 'Mult...   578080  \n",
       "4   ['Free to Play', 'Hero Shooter', 'Multiplayer'...      440  \n",
       "5   ['Free to Play', 'Action RPG', 'Looter Shooter...   230410  \n",
       "6   ['Battle Royale', 'Multiplayer', 'Martial Arts...  1203220  \n",
       "7   ['Free to Play', 'Multiplayer', 'Battle Royale...  1172470  \n",
       "8   ['Open World', 'Action', 'Multiplayer', 'Crime...   271590  \n",
       "9   ['Survival', 'Crafting', 'Multiplayer', 'Open ...   252490  \n",
       "10  ['FPS', 'Multiplayer', 'Shooter', 'Action', 'S...  1938090  \n",
       "11  ['Souls-like', 'Dark Fantasy', 'RPG', 'Open Wo...  1245620  "
      ]
     },
     "execution_count": 6,
     "metadata": {},
     "output_type": "execute_result"
    }
   ],
   "source": [
    "trending_df"
   ]
  },
  {
   "cell_type": "code",
   "execution_count": 13,
   "id": "0d40d9e6",
   "metadata": {},
   "outputs": [],
   "source": [
    "trending_df.to_csv('trending_df.csv', sep=',', index=False)"
   ]
  },
  {
   "cell_type": "markdown",
   "id": "c2aa3958",
   "metadata": {},
   "source": [
    "## modelling"
   ]
  },
  {
   "cell_type": "code",
   "execution_count": 3,
   "id": "923471bc",
   "metadata": {},
   "outputs": [],
   "source": [
    "df = pd.read_csv('cleaned_all_games.csv', nrows=20000)"
   ]
  },
  {
   "cell_type": "code",
   "execution_count": 15,
   "id": "84fd67cf",
   "metadata": {},
   "outputs": [
    {
     "name": "stdout",
     "output_type": "stream",
     "text": [
      "Dota 2\n"
     ]
    }
   ],
   "source": [
    "a = df[df['Title'] == 'Dota 2'].index[0]\n",
    "print(df['Title'].iloc[a])"
   ]
  },
  {
   "cell_type": "code",
   "execution_count": 11,
   "id": "b7a6ab2d",
   "metadata": {},
   "outputs": [
    {
     "data": {
      "text/plain": [
       "pandas.core.series.Series"
      ]
     },
     "execution_count": 11,
     "metadata": {},
     "output_type": "execute_result"
    }
   ],
   "source": [
    "type(a)"
   ]
  },
  {
   "cell_type": "code",
   "execution_count": 4,
   "id": "80ec9120",
   "metadata": {
    "scrolled": true
   },
   "outputs": [
    {
     "name": "stdout",
     "output_type": "stream",
     "text": [
      "<class 'pandas.core.frame.DataFrame'>\n",
      "RangeIndex: 20000 entries, 0 to 19999\n",
      "Data columns (total 7 columns):\n",
      " #   Column            Non-Null Count  Dtype \n",
      "---  ------            --------------  ----- \n",
      " 0   Title             20000 non-null  object\n",
      " 1   Original Price    20000 non-null  object\n",
      " 2   Release Date      20000 non-null  object\n",
      " 3   Link              20000 non-null  object\n",
      " 4   Game Description  20000 non-null  object\n",
      " 5   Popular Tags      20000 non-null  object\n",
      " 6   app_id            20000 non-null  int64 \n",
      "dtypes: int64(1), object(6)\n",
      "memory usage: 1.1+ MB\n"
     ]
    }
   ],
   "source": [
    "df.info()"
   ]
  },
  {
   "cell_type": "code",
   "execution_count": 4,
   "id": "8c90072e",
   "metadata": {},
   "outputs": [],
   "source": [
    "df.to_csv('content_based_df_new_20k.csv', sep=',', index=False)"
   ]
  },
  {
   "cell_type": "code",
   "execution_count": 5,
   "id": "e0479d2a",
   "metadata": {},
   "outputs": [],
   "source": [
    "from sklearn.feature_extraction.text import TfidfVectorizer\n",
    "\n",
    "tfidf = TfidfVectorizer(preprocessor=lambda x: x, tokenizer=lambda x: x)"
   ]
  },
  {
   "cell_type": "code",
   "execution_count": 6,
   "id": "5bf2cbf1",
   "metadata": {},
   "outputs": [
    {
     "name": "stderr",
     "output_type": "stream",
     "text": [
      "C:\\Users\\adity\\anaconda3\\lib\\site-packages\\sklearn\\feature_extraction\\text.py:525: UserWarning: The parameter 'token_pattern' will not be used since 'tokenizer' is not None'\n",
      "  warnings.warn(\n"
     ]
    }
   ],
   "source": [
    "tfidf_matrix = tfidf.fit_transform(df['Popular Tags'])"
   ]
  },
  {
   "cell_type": "code",
   "execution_count": 7,
   "id": "f7a98a9a",
   "metadata": {},
   "outputs": [
    {
     "data": {
      "text/plain": [
       "(20000, 73)"
      ]
     },
     "execution_count": 7,
     "metadata": {},
     "output_type": "execute_result"
    }
   ],
   "source": [
    "tfidf_matrix.shape"
   ]
  },
  {
   "cell_type": "code",
   "execution_count": 9,
   "id": "b407f715",
   "metadata": {},
   "outputs": [],
   "source": [
    "tfidf_matrix = tfidf_matrix.astype(np.float16)"
   ]
  },
  {
   "cell_type": "code",
   "execution_count": 10,
   "id": "3a0a578a",
   "metadata": {},
   "outputs": [],
   "source": [
    "from sklearn.metrics.pairwise import linear_kernel\n",
    "\n",
    "cosine_similarities = linear_kernel(tfidf_matrix, tfidf_matrix)"
   ]
  },
  {
   "cell_type": "code",
   "execution_count": 11,
   "id": "0fe8683f",
   "metadata": {},
   "outputs": [
    {
     "name": "stdout",
     "output_type": "stream",
     "text": [
      "class:  ndarray\n",
      "shape:  (20000, 20000)\n",
      "strides:  (160000, 8)\n",
      "itemsize:  8\n",
      "aligned:  True\n",
      "contiguous:  True\n",
      "fortran:  False\n",
      "data pointer: 0x258ec5e8040\n",
      "byteorder:  little\n",
      "byteswap:  False\n",
      "type: float64\n"
     ]
    }
   ],
   "source": [
    "np.info(cosine_similarities)"
   ]
  },
  {
   "cell_type": "code",
   "execution_count": 21,
   "id": "11bbd9c8",
   "metadata": {
    "scrolled": true
   },
   "outputs": [],
   "source": [
    "cosine_similarities = cosine_similarities.astype(np.float16)"
   ]
  },
  {
   "cell_type": "code",
   "execution_count": 13,
   "id": "2caedf01",
   "metadata": {},
   "outputs": [
    {
     "name": "stdout",
     "output_type": "stream",
     "text": [
      "class:  ndarray\n",
      "shape:  (20000, 20000)\n",
      "strides:  (40000, 2)\n",
      "itemsize:  2\n",
      "aligned:  True\n",
      "contiguous:  True\n",
      "fortran:  False\n",
      "data pointer: 0x257cd8ac040\n",
      "byteorder:  little\n",
      "byteswap:  False\n",
      "type: float16\n"
     ]
    }
   ],
   "source": [
    "np.info(cosine_similarities)"
   ]
  },
  {
   "cell_type": "code",
   "execution_count": 14,
   "id": "a2b0534e",
   "metadata": {},
   "outputs": [],
   "source": [
    "import pickle\n",
    "\n",
    "pickle.dump(cosine_similarities,open('cosine_similarities_new.pkl','wb'))"
   ]
  },
  {
   "cell_type": "code",
   "execution_count": 18,
   "id": "b2ff7fd6",
   "metadata": {},
   "outputs": [],
   "source": [
    "def recommend(game):\n",
    "    game_index = df[df['Title'] == game].index[0] \n",
    "    # game_index = merged_dropped_df[merged_dropped_df['title'].str.contains(game)]\n",
    "    \n",
    "    game_list = sorted(list(enumerate(cosine_similarities[game_index])),reverse=True,key=lambda x : x[1])[1:6]\n",
    "    \n",
    "    for i in game_list:\n",
    "        print('\\033[1m' + df['Title'].iloc[i[0]] + '\\033[0m')\n",
    "        print('Price : $',df['Original Price'].iloc[i[0]])\n",
    "        print('Description :',df['Game Description'].iloc[i[0]])\n",
    "        print('') "
   ]
  },
  {
   "cell_type": "code",
   "execution_count": 19,
   "id": "6cec2671",
   "metadata": {
    "scrolled": false
   },
   "outputs": [
    {
     "name": "stdout",
     "output_type": "stream",
     "text": [
      "\u001b[1mApex Armor Swap Trainer\u001b[0m\n",
      "Price : $ $0.99\n",
      "Description : The 100% accurate representation of the Armor Swap system from Apex Legends. Use your real game Mouse Sensitivity and Field of View parameters and choose your training mode. Now you're ready to become the best Armor Swapper in the world.\n",
      "\n",
      "\u001b[1mOverwatch® 2\u001b[0m\n",
      "Price : $ Free\n",
      "Description : Overwatch 2 is a critically acclaimed, team-based shooter game set in an optimistic future with an evolving roster of heroes. Team up with friends and jump in today.\n",
      "\n",
      "\u001b[1mGrapple Tournament\u001b[0m\n",
      "Price : $ $8.49\n",
      "Description : Grapple Tournament is a VR Arcade Shooter for adrenaline-packed vertical combat. Enjoy 3D movement freedom with your grappling hook and dual wield multifunctional weapons.\n",
      "\n",
      "\u001b[1mGTFO\u001b[0m\n",
      "Price : $ $18.49\n",
      "Description : GTFO is an extreme cooperative horror shooter that throws you from gripping suspense to explosive action in a heartbeat. Stealth, strategy, and teamwork are necessary to survive in your deadly, underground prison. Work together or die together.\n",
      "\n",
      "\u001b[1mTitanfall® 2\u001b[0m\n",
      "Price : $ $29.99\n",
      "Description : Respawn Entertainment gives you the most advanced titan technology in its new, single player campaign & multiplayer experience. Combine & conquer with new titans & pilots, deadlier weapons, & customization and progression systems that help you and your titan flow as one unstoppable killing force.\n",
      "\n"
     ]
    }
   ],
   "source": [
    "recommend('Apex Legends™')"
   ]
  },
  {
   "cell_type": "code",
   "execution_count": 22,
   "id": "1650bba7",
   "metadata": {},
   "outputs": [
    {
     "name": "stdout",
     "output_type": "stream",
     "text": [
      "\u001b[1mTom Clancy’s Splinter Cell Blacklist\u001b[0m\n",
      "Price : $ $10.99\n",
      "Description : The United States has a military presence in two-thirds of countries around the world, and some of them have had enough. A group of terrorists calling themselves The Engineers initiate a terror ultimatum called the Blacklist - a deadly countdown of escalating attacks on U.S. interests.\n",
      "\n",
      "\u001b[1mTom Clancy's Ghost Recon: Future Soldier™\u001b[0m\n",
      "Price : $ $8.25\n",
      "Description : Join an elite team of special-ops soldiers in the globe’s most deadly warzones to hunt down the highest value targets.\n",
      "\n",
      "\u001b[1mBattlefield 3™\u001b[0m\n",
      "Price : $ $39.99\n",
      "Description : Enjoy total freedom to fight the way you want. Explore 29 massive multiplayer maps and use loads of vehicles, weapons, and gadgets to help you turn up the heat. Every second of battle gets you closer to unlocking tons of extras and moving up in the Ranks. So get in the action.\n",
      "\n",
      "\u001b[1mTom Clancy's Ghost Recon® Wildlands\u001b[0m\n",
      "Price : $ $27.49\n",
      "Description : Create a team with up to 3 friends in Tom Clancy’s Ghost Recon® Wildlands and enjoy the ultimate military shooter experience set in a massive, dangerous, and responsive open world.\n",
      "\n",
      "\u001b[1mMedal of Honor™\u001b[0m\n",
      "Price : $ $19.99\n",
      "Description : This is a new war. There is a new warrior. He is Tier 1.\n",
      "\n"
     ]
    }
   ],
   "source": [
    "recommend('Call of Duty®')"
   ]
  },
  {
   "cell_type": "markdown",
   "id": "4295f7fa",
   "metadata": {},
   "source": [
    "## integrating the recommendations in the dataframe itself  "
   ]
  },
  {
   "cell_type": "code",
   "execution_count": 30,
   "id": "f6f5582c",
   "metadata": {},
   "outputs": [],
   "source": [
    "import pickle\n",
    "\n",
    "cosine_matrix = pickle.load(open('cosine_similarities_new.pkl', 'rb')) "
   ]
  },
  {
   "cell_type": "code",
   "execution_count": 8,
   "id": "65188673",
   "metadata": {},
   "outputs": [
    {
     "name": "stdout",
     "output_type": "stream",
     "text": [
      "class:  ndarray\n",
      "shape:  (20000, 20000)\n",
      "strides:  (40000, 2)\n",
      "itemsize:  2\n",
      "aligned:  True\n",
      "contiguous:  True\n",
      "fortran:  False\n",
      "data pointer: 0x25400002060\n",
      "byteorder:  little\n",
      "byteswap:  False\n",
      "type: float16\n"
     ]
    }
   ],
   "source": [
    "np.info(cosine_matrix)"
   ]
  },
  {
   "cell_type": "code",
   "execution_count": 31,
   "id": "90c919ad",
   "metadata": {},
   "outputs": [],
   "source": [
    "content_df = pd.read_csv('content_based_df_new_20k.csv')"
   ]
  },
  {
   "cell_type": "code",
   "execution_count": 10,
   "id": "bed3c372",
   "metadata": {},
   "outputs": [
    {
     "data": {
      "text/html": [
       "<div>\n",
       "<style scoped>\n",
       "    .dataframe tbody tr th:only-of-type {\n",
       "        vertical-align: middle;\n",
       "    }\n",
       "\n",
       "    .dataframe tbody tr th {\n",
       "        vertical-align: top;\n",
       "    }\n",
       "\n",
       "    .dataframe thead th {\n",
       "        text-align: right;\n",
       "    }\n",
       "</style>\n",
       "<table border=\"1\" class=\"dataframe\">\n",
       "  <thead>\n",
       "    <tr style=\"text-align: right;\">\n",
       "      <th></th>\n",
       "      <th>Title</th>\n",
       "      <th>Original Price</th>\n",
       "      <th>Release Date</th>\n",
       "      <th>Link</th>\n",
       "      <th>Game Description</th>\n",
       "      <th>Popular Tags</th>\n",
       "      <th>app_id</th>\n",
       "    </tr>\n",
       "  </thead>\n",
       "  <tbody>\n",
       "    <tr>\n",
       "      <th>0</th>\n",
       "      <td>Baldur's Gate 3</td>\n",
       "      <td>$29.99</td>\n",
       "      <td>3 Aug, 2023</td>\n",
       "      <td>https://store.steampowered.com/app/1086940/Bal...</td>\n",
       "      <td>Baldur’s Gate 3 is a story-rich, party-based R...</td>\n",
       "      <td>['RPG', 'Choices Matter', 'Character Customiza...</td>\n",
       "      <td>1086940</td>\n",
       "    </tr>\n",
       "    <tr>\n",
       "      <th>1</th>\n",
       "      <td>Counter-Strike: Global Offensive</td>\n",
       "      <td>$14.99</td>\n",
       "      <td>21 Aug, 2012</td>\n",
       "      <td>https://store.steampowered.com/app/730/Counter...</td>\n",
       "      <td>Counter-Strike: Global Offensive (CS: GO) expa...</td>\n",
       "      <td>['FPS', 'Shooter', 'Multiplayer', 'Competitive...</td>\n",
       "      <td>730</td>\n",
       "    </tr>\n",
       "    <tr>\n",
       "      <th>2</th>\n",
       "      <td>Apex Legends™</td>\n",
       "      <td>Free</td>\n",
       "      <td>4 Nov, 2020</td>\n",
       "      <td>https://store.steampowered.com/app/1172470/Ape...</td>\n",
       "      <td>Apex Legends is the award-winning, free-to-pla...</td>\n",
       "      <td>['Free to Play', 'Multiplayer', 'Battle Royale...</td>\n",
       "      <td>1172470</td>\n",
       "    </tr>\n",
       "    <tr>\n",
       "      <th>3</th>\n",
       "      <td>Forza Horizon 5</td>\n",
       "      <td>$34.78</td>\n",
       "      <td>8 Nov, 2021</td>\n",
       "      <td>https://store.steampowered.com/app/1551360/For...</td>\n",
       "      <td>Your Ultimate Horizon Adventure awaits! Explor...</td>\n",
       "      <td>['Racing', 'Open World', 'Driving', 'Multiplay...</td>\n",
       "      <td>1551360</td>\n",
       "    </tr>\n",
       "    <tr>\n",
       "      <th>4</th>\n",
       "      <td>Call of Duty®</td>\n",
       "      <td>Free</td>\n",
       "      <td>27 Oct, 2022</td>\n",
       "      <td>https://store.steampowered.com/app/1938090/Cal...</td>\n",
       "      <td>Welcome to Call of Duty® HQ, the home of Call ...</td>\n",
       "      <td>['FPS', 'Multiplayer', 'Shooter', 'Action', 'S...</td>\n",
       "      <td>1938090</td>\n",
       "    </tr>\n",
       "  </tbody>\n",
       "</table>\n",
       "</div>"
      ],
      "text/plain": [
       "                              Title Original Price  Release Date  \\\n",
       "0                   Baldur's Gate 3         $29.99   3 Aug, 2023   \n",
       "1  Counter-Strike: Global Offensive         $14.99  21 Aug, 2012   \n",
       "2                     Apex Legends™           Free   4 Nov, 2020   \n",
       "3                   Forza Horizon 5         $34.78   8 Nov, 2021   \n",
       "4                     Call of Duty®           Free  27 Oct, 2022   \n",
       "\n",
       "                                                Link  \\\n",
       "0  https://store.steampowered.com/app/1086940/Bal...   \n",
       "1  https://store.steampowered.com/app/730/Counter...   \n",
       "2  https://store.steampowered.com/app/1172470/Ape...   \n",
       "3  https://store.steampowered.com/app/1551360/For...   \n",
       "4  https://store.steampowered.com/app/1938090/Cal...   \n",
       "\n",
       "                                    Game Description  \\\n",
       "0  Baldur’s Gate 3 is a story-rich, party-based R...   \n",
       "1  Counter-Strike: Global Offensive (CS: GO) expa...   \n",
       "2  Apex Legends is the award-winning, free-to-pla...   \n",
       "3  Your Ultimate Horizon Adventure awaits! Explor...   \n",
       "4  Welcome to Call of Duty® HQ, the home of Call ...   \n",
       "\n",
       "                                        Popular Tags   app_id  \n",
       "0  ['RPG', 'Choices Matter', 'Character Customiza...  1086940  \n",
       "1  ['FPS', 'Shooter', 'Multiplayer', 'Competitive...      730  \n",
       "2  ['Free to Play', 'Multiplayer', 'Battle Royale...  1172470  \n",
       "3  ['Racing', 'Open World', 'Driving', 'Multiplay...  1551360  \n",
       "4  ['FPS', 'Multiplayer', 'Shooter', 'Action', 'S...  1938090  "
      ]
     },
     "execution_count": 10,
     "metadata": {},
     "output_type": "execute_result"
    }
   ],
   "source": [
    "content_df.head()"
   ]
  },
  {
   "cell_type": "code",
   "execution_count": 32,
   "id": "ecd5e16d",
   "metadata": {},
   "outputs": [
    {
     "data": {
      "text/plain": [
       "(20000, 7)"
      ]
     },
     "execution_count": 32,
     "metadata": {},
     "output_type": "execute_result"
    }
   ],
   "source": [
    "content_df.shape"
   ]
  },
  {
   "cell_type": "code",
   "execution_count": 36,
   "id": "3d681b39",
   "metadata": {},
   "outputs": [],
   "source": [
    "pd.options.mode.chained_assignment = None  # default='warn'\n",
    "\n",
    "column_list = ['r1', 'r2', 'r3', 'r4', 'r5']\n",
    "\n",
    "for name in content_df['Title']:\n",
    "    \n",
    "    game_index = content_df[content_df['Title'] == name].index[0] \n",
    "    \n",
    "    game_list = sorted(list(enumerate(cosine_matrix[game_index])), reverse=True, key=lambda x : x[1])[1:6]\n",
    "    \n",
    "    for i in range(5):\n",
    "        content_with_recom_df[column_list[i]].iloc[game_index] = game_list[i][0]"
   ]
  },
  {
   "cell_type": "code",
   "execution_count": 37,
   "id": "ed0cc3f5",
   "metadata": {},
   "outputs": [
    {
     "data": {
      "text/html": [
       "<div>\n",
       "<style scoped>\n",
       "    .dataframe tbody tr th:only-of-type {\n",
       "        vertical-align: middle;\n",
       "    }\n",
       "\n",
       "    .dataframe tbody tr th {\n",
       "        vertical-align: top;\n",
       "    }\n",
       "\n",
       "    .dataframe thead th {\n",
       "        text-align: right;\n",
       "    }\n",
       "</style>\n",
       "<table border=\"1\" class=\"dataframe\">\n",
       "  <thead>\n",
       "    <tr style=\"text-align: right;\">\n",
       "      <th></th>\n",
       "      <th>Title</th>\n",
       "      <th>Original Price</th>\n",
       "      <th>Release Date</th>\n",
       "      <th>Link</th>\n",
       "      <th>Game Description</th>\n",
       "      <th>Popular Tags</th>\n",
       "      <th>app_id</th>\n",
       "      <th>recommendations</th>\n",
       "      <th>r1</th>\n",
       "      <th>r2</th>\n",
       "      <th>r3</th>\n",
       "      <th>r4</th>\n",
       "      <th>r5</th>\n",
       "    </tr>\n",
       "  </thead>\n",
       "  <tbody>\n",
       "    <tr>\n",
       "      <th>0</th>\n",
       "      <td>Baldur's Gate 3</td>\n",
       "      <td>$29.99</td>\n",
       "      <td>3 Aug, 2023</td>\n",
       "      <td>https://store.steampowered.com/app/1086940/Bal...</td>\n",
       "      <td>Baldur’s Gate 3 is a story-rich, party-based R...</td>\n",
       "      <td>['RPG', 'Choices Matter', 'Character Customiza...</td>\n",
       "      <td>1096530</td>\n",
       "      <td>[1096530, 502230, 1413480, 500810, 1808780]</td>\n",
       "      <td>405</td>\n",
       "      <td>8459</td>\n",
       "      <td>1347</td>\n",
       "      <td>3690</td>\n",
       "      <td>6800</td>\n",
       "    </tr>\n",
       "    <tr>\n",
       "      <th>1</th>\n",
       "      <td>Counter-Strike: Global Offensive</td>\n",
       "      <td>$14.99</td>\n",
       "      <td>21 Aug, 2012</td>\n",
       "      <td>https://store.steampowered.com/app/730/Counter...</td>\n",
       "      <td>Counter-Strike: Global Offensive (CS: GO) expa...</td>\n",
       "      <td>['FPS', 'Shooter', 'Multiplayer', 'Competitive...</td>\n",
       "      <td>730</td>\n",
       "      <td>[222880, 640800, 359550, 218230, 4920]</td>\n",
       "      <td>2872</td>\n",
       "      <td>14606</td>\n",
       "      <td>11</td>\n",
       "      <td>776</td>\n",
       "      <td>4380</td>\n",
       "    </tr>\n",
       "    <tr>\n",
       "      <th>2</th>\n",
       "      <td>Apex Legends™</td>\n",
       "      <td>Free</td>\n",
       "      <td>4 Nov, 2020</td>\n",
       "      <td>https://store.steampowered.com/app/1172470/Ape...</td>\n",
       "      <td>Apex Legends is the award-winning, free-to-pla...</td>\n",
       "      <td>['Free to Play', 'Multiplayer', 'Battle Royale...</td>\n",
       "      <td>1172470</td>\n",
       "      <td>[2334340, 2357570, 1384320, 493520, 1237970]</td>\n",
       "      <td>13105</td>\n",
       "      <td>146</td>\n",
       "      <td>9387</td>\n",
       "      <td>238</td>\n",
       "      <td>456</td>\n",
       "    </tr>\n",
       "    <tr>\n",
       "      <th>3</th>\n",
       "      <td>Forza Horizon 5</td>\n",
       "      <td>$34.78</td>\n",
       "      <td>8 Nov, 2021</td>\n",
       "      <td>https://store.steampowered.com/app/1551360/For...</td>\n",
       "      <td>Your Ultimate Horizon Adventure awaits! Explor...</td>\n",
       "      <td>['Racing', 'Open World', 'Driving', 'Multiplay...</td>\n",
       "      <td>1551360</td>\n",
       "      <td>[1293830, 646910, 767390, 675010, 805550]</td>\n",
       "      <td>34</td>\n",
       "      <td>409</td>\n",
       "      <td>8062</td>\n",
       "      <td>1250</td>\n",
       "      <td>244</td>\n",
       "    </tr>\n",
       "    <tr>\n",
       "      <th>4</th>\n",
       "      <td>Call of Duty®</td>\n",
       "      <td>Free</td>\n",
       "      <td>27 Oct, 2022</td>\n",
       "      <td>https://store.steampowered.com/app/1938090/Cal...</td>\n",
       "      <td>Welcome to Call of Duty® HQ, the home of Call ...</td>\n",
       "      <td>['FPS', 'Multiplayer', 'Shooter', 'Action', 'S...</td>\n",
       "      <td>1938090</td>\n",
       "      <td>[235600, 212630, 1238820, 460930, 47790]</td>\n",
       "      <td>1380</td>\n",
       "      <td>2951</td>\n",
       "      <td>2064</td>\n",
       "      <td>296</td>\n",
       "      <td>2644</td>\n",
       "    </tr>\n",
       "  </tbody>\n",
       "</table>\n",
       "</div>"
      ],
      "text/plain": [
       "                              Title Original Price  Release Date  \\\n",
       "0                   Baldur's Gate 3         $29.99   3 Aug, 2023   \n",
       "1  Counter-Strike: Global Offensive         $14.99  21 Aug, 2012   \n",
       "2                     Apex Legends™           Free   4 Nov, 2020   \n",
       "3                   Forza Horizon 5         $34.78   8 Nov, 2021   \n",
       "4                     Call of Duty®           Free  27 Oct, 2022   \n",
       "\n",
       "                                                Link  \\\n",
       "0  https://store.steampowered.com/app/1086940/Bal...   \n",
       "1  https://store.steampowered.com/app/730/Counter...   \n",
       "2  https://store.steampowered.com/app/1172470/Ape...   \n",
       "3  https://store.steampowered.com/app/1551360/For...   \n",
       "4  https://store.steampowered.com/app/1938090/Cal...   \n",
       "\n",
       "                                    Game Description  \\\n",
       "0  Baldur’s Gate 3 is a story-rich, party-based R...   \n",
       "1  Counter-Strike: Global Offensive (CS: GO) expa...   \n",
       "2  Apex Legends is the award-winning, free-to-pla...   \n",
       "3  Your Ultimate Horizon Adventure awaits! Explor...   \n",
       "4  Welcome to Call of Duty® HQ, the home of Call ...   \n",
       "\n",
       "                                        Popular Tags   app_id  \\\n",
       "0  ['RPG', 'Choices Matter', 'Character Customiza...  1096530   \n",
       "1  ['FPS', 'Shooter', 'Multiplayer', 'Competitive...      730   \n",
       "2  ['Free to Play', 'Multiplayer', 'Battle Royale...  1172470   \n",
       "3  ['Racing', 'Open World', 'Driving', 'Multiplay...  1551360   \n",
       "4  ['FPS', 'Multiplayer', 'Shooter', 'Action', 'S...  1938090   \n",
       "\n",
       "                                recommendations     r1     r2    r3    r4  \\\n",
       "0   [1096530, 502230, 1413480, 500810, 1808780]    405   8459  1347  3690   \n",
       "1        [222880, 640800, 359550, 218230, 4920]   2872  14606    11   776   \n",
       "2  [2334340, 2357570, 1384320, 493520, 1237970]  13105    146  9387   238   \n",
       "3     [1293830, 646910, 767390, 675010, 805550]     34    409  8062  1250   \n",
       "4      [235600, 212630, 1238820, 460930, 47790]   1380   2951  2064   296   \n",
       "\n",
       "     r5  \n",
       "0  6800  \n",
       "1  4380  \n",
       "2   456  \n",
       "3   244  \n",
       "4  2644  "
      ]
     },
     "execution_count": 37,
     "metadata": {},
     "output_type": "execute_result"
    }
   ],
   "source": [
    "content_with_recom_df.head()"
   ]
  },
  {
   "cell_type": "code",
   "execution_count": 38,
   "id": "0b49d7e9",
   "metadata": {},
   "outputs": [
    {
     "data": {
      "text/plain": [
       "13105"
      ]
     },
     "execution_count": 38,
     "metadata": {},
     "output_type": "execute_result"
    }
   ],
   "source": [
    "content_with_recom_df['r1'].iloc[2]"
   ]
  },
  {
   "cell_type": "code",
   "execution_count": 44,
   "id": "12ccefbc",
   "metadata": {},
   "outputs": [
    {
     "name": "stdout",
     "output_type": "stream",
     "text": [
      "Apex Armor Swap Trainer\n",
      "Overwatch® 2\n",
      "Grapple Tournament\n",
      "GTFO\n",
      "Titanfall® 2\n"
     ]
    }
   ],
   "source": [
    "\n",
    "for i in range(5):\n",
    "    game_ind = content_with_recom_df[content_with_recom_df['Title'] == 'Apex Legends™'].index[0]\n",
    "    ind = content_with_recom_df[column_list[i]].iloc[game_ind]\n",
    "    print(content_with_recom_df['Title'].iloc[ind])"
   ]
  },
  {
   "cell_type": "code",
   "execution_count": 42,
   "id": "5a01b647",
   "metadata": {},
   "outputs": [
    {
     "data": {
      "text/html": [
       "<div>\n",
       "<style scoped>\n",
       "    .dataframe tbody tr th:only-of-type {\n",
       "        vertical-align: middle;\n",
       "    }\n",
       "\n",
       "    .dataframe tbody tr th {\n",
       "        vertical-align: top;\n",
       "    }\n",
       "\n",
       "    .dataframe thead th {\n",
       "        text-align: right;\n",
       "    }\n",
       "</style>\n",
       "<table border=\"1\" class=\"dataframe\">\n",
       "  <thead>\n",
       "    <tr style=\"text-align: right;\">\n",
       "      <th></th>\n",
       "      <th>Title</th>\n",
       "      <th>Original Price</th>\n",
       "      <th>Release Date</th>\n",
       "      <th>Link</th>\n",
       "      <th>Game Description</th>\n",
       "      <th>Popular Tags</th>\n",
       "      <th>app_id</th>\n",
       "      <th>r1</th>\n",
       "      <th>r2</th>\n",
       "      <th>r3</th>\n",
       "      <th>r4</th>\n",
       "      <th>r5</th>\n",
       "    </tr>\n",
       "  </thead>\n",
       "  <tbody>\n",
       "    <tr>\n",
       "      <th>0</th>\n",
       "      <td>Baldur's Gate 3</td>\n",
       "      <td>$29.99</td>\n",
       "      <td>3 Aug, 2023</td>\n",
       "      <td>https://store.steampowered.com/app/1086940/Bal...</td>\n",
       "      <td>Baldur’s Gate 3 is a story-rich, party-based R...</td>\n",
       "      <td>['RPG', 'Choices Matter', 'Character Customiza...</td>\n",
       "      <td>1096530</td>\n",
       "      <td>405</td>\n",
       "      <td>8459</td>\n",
       "      <td>1347</td>\n",
       "      <td>3690</td>\n",
       "      <td>6800</td>\n",
       "    </tr>\n",
       "    <tr>\n",
       "      <th>1</th>\n",
       "      <td>Counter-Strike: Global Offensive</td>\n",
       "      <td>$14.99</td>\n",
       "      <td>21 Aug, 2012</td>\n",
       "      <td>https://store.steampowered.com/app/730/Counter...</td>\n",
       "      <td>Counter-Strike: Global Offensive (CS: GO) expa...</td>\n",
       "      <td>['FPS', 'Shooter', 'Multiplayer', 'Competitive...</td>\n",
       "      <td>730</td>\n",
       "      <td>2872</td>\n",
       "      <td>14606</td>\n",
       "      <td>11</td>\n",
       "      <td>776</td>\n",
       "      <td>4380</td>\n",
       "    </tr>\n",
       "    <tr>\n",
       "      <th>2</th>\n",
       "      <td>Apex Legends™</td>\n",
       "      <td>Free</td>\n",
       "      <td>4 Nov, 2020</td>\n",
       "      <td>https://store.steampowered.com/app/1172470/Ape...</td>\n",
       "      <td>Apex Legends is the award-winning, free-to-pla...</td>\n",
       "      <td>['Free to Play', 'Multiplayer', 'Battle Royale...</td>\n",
       "      <td>1172470</td>\n",
       "      <td>13105</td>\n",
       "      <td>146</td>\n",
       "      <td>9387</td>\n",
       "      <td>238</td>\n",
       "      <td>456</td>\n",
       "    </tr>\n",
       "    <tr>\n",
       "      <th>3</th>\n",
       "      <td>Forza Horizon 5</td>\n",
       "      <td>$34.78</td>\n",
       "      <td>8 Nov, 2021</td>\n",
       "      <td>https://store.steampowered.com/app/1551360/For...</td>\n",
       "      <td>Your Ultimate Horizon Adventure awaits! Explor...</td>\n",
       "      <td>['Racing', 'Open World', 'Driving', 'Multiplay...</td>\n",
       "      <td>1551360</td>\n",
       "      <td>34</td>\n",
       "      <td>409</td>\n",
       "      <td>8062</td>\n",
       "      <td>1250</td>\n",
       "      <td>244</td>\n",
       "    </tr>\n",
       "    <tr>\n",
       "      <th>4</th>\n",
       "      <td>Call of Duty®</td>\n",
       "      <td>Free</td>\n",
       "      <td>27 Oct, 2022</td>\n",
       "      <td>https://store.steampowered.com/app/1938090/Cal...</td>\n",
       "      <td>Welcome to Call of Duty® HQ, the home of Call ...</td>\n",
       "      <td>['FPS', 'Multiplayer', 'Shooter', 'Action', 'S...</td>\n",
       "      <td>1938090</td>\n",
       "      <td>1380</td>\n",
       "      <td>2951</td>\n",
       "      <td>2064</td>\n",
       "      <td>296</td>\n",
       "      <td>2644</td>\n",
       "    </tr>\n",
       "  </tbody>\n",
       "</table>\n",
       "</div>"
      ],
      "text/plain": [
       "                              Title Original Price  Release Date  \\\n",
       "0                   Baldur's Gate 3         $29.99   3 Aug, 2023   \n",
       "1  Counter-Strike: Global Offensive         $14.99  21 Aug, 2012   \n",
       "2                     Apex Legends™           Free   4 Nov, 2020   \n",
       "3                   Forza Horizon 5         $34.78   8 Nov, 2021   \n",
       "4                     Call of Duty®           Free  27 Oct, 2022   \n",
       "\n",
       "                                                Link  \\\n",
       "0  https://store.steampowered.com/app/1086940/Bal...   \n",
       "1  https://store.steampowered.com/app/730/Counter...   \n",
       "2  https://store.steampowered.com/app/1172470/Ape...   \n",
       "3  https://store.steampowered.com/app/1551360/For...   \n",
       "4  https://store.steampowered.com/app/1938090/Cal...   \n",
       "\n",
       "                                    Game Description  \\\n",
       "0  Baldur’s Gate 3 is a story-rich, party-based R...   \n",
       "1  Counter-Strike: Global Offensive (CS: GO) expa...   \n",
       "2  Apex Legends is the award-winning, free-to-pla...   \n",
       "3  Your Ultimate Horizon Adventure awaits! Explor...   \n",
       "4  Welcome to Call of Duty® HQ, the home of Call ...   \n",
       "\n",
       "                                        Popular Tags   app_id     r1     r2  \\\n",
       "0  ['RPG', 'Choices Matter', 'Character Customiza...  1096530    405   8459   \n",
       "1  ['FPS', 'Shooter', 'Multiplayer', 'Competitive...      730   2872  14606   \n",
       "2  ['Free to Play', 'Multiplayer', 'Battle Royale...  1172470  13105    146   \n",
       "3  ['Racing', 'Open World', 'Driving', 'Multiplay...  1551360     34    409   \n",
       "4  ['FPS', 'Multiplayer', 'Shooter', 'Action', 'S...  1938090   1380   2951   \n",
       "\n",
       "     r3    r4    r5  \n",
       "0  1347  3690  6800  \n",
       "1    11   776  4380  \n",
       "2  9387   238   456  \n",
       "3  8062  1250   244  \n",
       "4  2064   296  2644  "
      ]
     },
     "execution_count": 42,
     "metadata": {},
     "output_type": "execute_result"
    }
   ],
   "source": [
    "content_with_recom_df.head()"
   ]
  },
  {
   "cell_type": "code",
   "execution_count": 49,
   "id": "36d40b03",
   "metadata": {},
   "outputs": [
    {
     "data": {
      "text/html": [
       "<div>\n",
       "<style scoped>\n",
       "    .dataframe tbody tr th:only-of-type {\n",
       "        vertical-align: middle;\n",
       "    }\n",
       "\n",
       "    .dataframe tbody tr th {\n",
       "        vertical-align: top;\n",
       "    }\n",
       "\n",
       "    .dataframe thead th {\n",
       "        text-align: right;\n",
       "    }\n",
       "</style>\n",
       "<table border=\"1\" class=\"dataframe\">\n",
       "  <thead>\n",
       "    <tr style=\"text-align: right;\">\n",
       "      <th></th>\n",
       "      <th>Title</th>\n",
       "      <th>Original Price</th>\n",
       "      <th>Release Date</th>\n",
       "      <th>Link</th>\n",
       "      <th>Game Description</th>\n",
       "      <th>Popular Tags</th>\n",
       "      <th>app_id</th>\n",
       "      <th>r1</th>\n",
       "      <th>r2</th>\n",
       "      <th>r3</th>\n",
       "      <th>r4</th>\n",
       "      <th>r5</th>\n",
       "    </tr>\n",
       "  </thead>\n",
       "  <tbody>\n",
       "    <tr>\n",
       "      <th>0</th>\n",
       "      <td>Baldur's Gate 3</td>\n",
       "      <td>$29.99</td>\n",
       "      <td>3 Aug, 2023</td>\n",
       "      <td>https://store.steampowered.com/app/1086940/Bal...</td>\n",
       "      <td>Baldur’s Gate 3 is a story-rich, party-based R...</td>\n",
       "      <td>['RPG', 'Choices Matter', 'Character Customiza...</td>\n",
       "      <td>1096530</td>\n",
       "      <td>405</td>\n",
       "      <td>8459</td>\n",
       "      <td>1347</td>\n",
       "      <td>3690</td>\n",
       "      <td>6800</td>\n",
       "    </tr>\n",
       "    <tr>\n",
       "      <th>1</th>\n",
       "      <td>Counter-Strike: Global Offensive</td>\n",
       "      <td>$14.99</td>\n",
       "      <td>21 Aug, 2012</td>\n",
       "      <td>https://store.steampowered.com/app/730/Counter...</td>\n",
       "      <td>Counter-Strike: Global Offensive (CS: GO) expa...</td>\n",
       "      <td>['FPS', 'Shooter', 'Multiplayer', 'Competitive...</td>\n",
       "      <td>730</td>\n",
       "      <td>2872</td>\n",
       "      <td>14606</td>\n",
       "      <td>11</td>\n",
       "      <td>776</td>\n",
       "      <td>4380</td>\n",
       "    </tr>\n",
       "    <tr>\n",
       "      <th>2</th>\n",
       "      <td>Apex Legends™</td>\n",
       "      <td>Free</td>\n",
       "      <td>4 Nov, 2020</td>\n",
       "      <td>https://store.steampowered.com/app/1172470/Ape...</td>\n",
       "      <td>Apex Legends is the award-winning, free-to-pla...</td>\n",
       "      <td>['Free to Play', 'Multiplayer', 'Battle Royale...</td>\n",
       "      <td>1172470</td>\n",
       "      <td>13105</td>\n",
       "      <td>146</td>\n",
       "      <td>9387</td>\n",
       "      <td>238</td>\n",
       "      <td>456</td>\n",
       "    </tr>\n",
       "    <tr>\n",
       "      <th>3</th>\n",
       "      <td>Forza Horizon 5</td>\n",
       "      <td>$34.78</td>\n",
       "      <td>8 Nov, 2021</td>\n",
       "      <td>https://store.steampowered.com/app/1551360/For...</td>\n",
       "      <td>Your Ultimate Horizon Adventure awaits! Explor...</td>\n",
       "      <td>['Racing', 'Open World', 'Driving', 'Multiplay...</td>\n",
       "      <td>1551360</td>\n",
       "      <td>34</td>\n",
       "      <td>409</td>\n",
       "      <td>8062</td>\n",
       "      <td>1250</td>\n",
       "      <td>244</td>\n",
       "    </tr>\n",
       "    <tr>\n",
       "      <th>4</th>\n",
       "      <td>Call of Duty®</td>\n",
       "      <td>Free</td>\n",
       "      <td>27 Oct, 2022</td>\n",
       "      <td>https://store.steampowered.com/app/1938090/Cal...</td>\n",
       "      <td>Welcome to Call of Duty® HQ, the home of Call ...</td>\n",
       "      <td>['FPS', 'Multiplayer', 'Shooter', 'Action', 'S...</td>\n",
       "      <td>1938090</td>\n",
       "      <td>1380</td>\n",
       "      <td>2951</td>\n",
       "      <td>2064</td>\n",
       "      <td>296</td>\n",
       "      <td>2644</td>\n",
       "    </tr>\n",
       "  </tbody>\n",
       "</table>\n",
       "</div>"
      ],
      "text/plain": [
       "                              Title Original Price  Release Date  \\\n",
       "0                   Baldur's Gate 3         $29.99   3 Aug, 2023   \n",
       "1  Counter-Strike: Global Offensive         $14.99  21 Aug, 2012   \n",
       "2                     Apex Legends™           Free   4 Nov, 2020   \n",
       "3                   Forza Horizon 5         $34.78   8 Nov, 2021   \n",
       "4                     Call of Duty®           Free  27 Oct, 2022   \n",
       "\n",
       "                                                Link  \\\n",
       "0  https://store.steampowered.com/app/1086940/Bal...   \n",
       "1  https://store.steampowered.com/app/730/Counter...   \n",
       "2  https://store.steampowered.com/app/1172470/Ape...   \n",
       "3  https://store.steampowered.com/app/1551360/For...   \n",
       "4  https://store.steampowered.com/app/1938090/Cal...   \n",
       "\n",
       "                                    Game Description  \\\n",
       "0  Baldur’s Gate 3 is a story-rich, party-based R...   \n",
       "1  Counter-Strike: Global Offensive (CS: GO) expa...   \n",
       "2  Apex Legends is the award-winning, free-to-pla...   \n",
       "3  Your Ultimate Horizon Adventure awaits! Explor...   \n",
       "4  Welcome to Call of Duty® HQ, the home of Call ...   \n",
       "\n",
       "                                        Popular Tags   app_id     r1     r2  \\\n",
       "0  ['RPG', 'Choices Matter', 'Character Customiza...  1096530    405   8459   \n",
       "1  ['FPS', 'Shooter', 'Multiplayer', 'Competitive...      730   2872  14606   \n",
       "2  ['Free to Play', 'Multiplayer', 'Battle Royale...  1172470  13105    146   \n",
       "3  ['Racing', 'Open World', 'Driving', 'Multiplay...  1551360     34    409   \n",
       "4  ['FPS', 'Multiplayer', 'Shooter', 'Action', 'S...  1938090   1380   2951   \n",
       "\n",
       "     r3    r4    r5  \n",
       "0  1347  3690  6800  \n",
       "1    11   776  4380  \n",
       "2  9387   238   456  \n",
       "3  8062  1250   244  \n",
       "4  2064   296  2644  "
      ]
     },
     "execution_count": 49,
     "metadata": {},
     "output_type": "execute_result"
    }
   ],
   "source": [
    "content_with_recom_df.head()"
   ]
  },
  {
   "cell_type": "code",
   "execution_count": 50,
   "id": "292fa131",
   "metadata": {
    "scrolled": false
   },
   "outputs": [],
   "source": [
    "col = ['Link']\n",
    "content_with_recom_df.drop(columns=col, inplace=True)"
   ]
  },
  {
   "cell_type": "code",
   "execution_count": 51,
   "id": "16ad73d1",
   "metadata": {},
   "outputs": [],
   "source": [
    "col = ['Popular Tags']\n",
    "content_with_recom_df.drop(columns=col, inplace=True)"
   ]
  },
  {
   "cell_type": "code",
   "execution_count": 52,
   "id": "bc172165",
   "metadata": {},
   "outputs": [
    {
     "data": {
      "text/html": [
       "<div>\n",
       "<style scoped>\n",
       "    .dataframe tbody tr th:only-of-type {\n",
       "        vertical-align: middle;\n",
       "    }\n",
       "\n",
       "    .dataframe tbody tr th {\n",
       "        vertical-align: top;\n",
       "    }\n",
       "\n",
       "    .dataframe thead th {\n",
       "        text-align: right;\n",
       "    }\n",
       "</style>\n",
       "<table border=\"1\" class=\"dataframe\">\n",
       "  <thead>\n",
       "    <tr style=\"text-align: right;\">\n",
       "      <th></th>\n",
       "      <th>Title</th>\n",
       "      <th>Original Price</th>\n",
       "      <th>Release Date</th>\n",
       "      <th>Game Description</th>\n",
       "      <th>app_id</th>\n",
       "      <th>r1</th>\n",
       "      <th>r2</th>\n",
       "      <th>r3</th>\n",
       "      <th>r4</th>\n",
       "      <th>r5</th>\n",
       "    </tr>\n",
       "  </thead>\n",
       "  <tbody>\n",
       "    <tr>\n",
       "      <th>0</th>\n",
       "      <td>Baldur's Gate 3</td>\n",
       "      <td>$29.99</td>\n",
       "      <td>3 Aug, 2023</td>\n",
       "      <td>Baldur’s Gate 3 is a story-rich, party-based R...</td>\n",
       "      <td>1096530</td>\n",
       "      <td>405</td>\n",
       "      <td>8459</td>\n",
       "      <td>1347</td>\n",
       "      <td>3690</td>\n",
       "      <td>6800</td>\n",
       "    </tr>\n",
       "    <tr>\n",
       "      <th>1</th>\n",
       "      <td>Counter-Strike: Global Offensive</td>\n",
       "      <td>$14.99</td>\n",
       "      <td>21 Aug, 2012</td>\n",
       "      <td>Counter-Strike: Global Offensive (CS: GO) expa...</td>\n",
       "      <td>730</td>\n",
       "      <td>2872</td>\n",
       "      <td>14606</td>\n",
       "      <td>11</td>\n",
       "      <td>776</td>\n",
       "      <td>4380</td>\n",
       "    </tr>\n",
       "    <tr>\n",
       "      <th>2</th>\n",
       "      <td>Apex Legends™</td>\n",
       "      <td>Free</td>\n",
       "      <td>4 Nov, 2020</td>\n",
       "      <td>Apex Legends is the award-winning, free-to-pla...</td>\n",
       "      <td>1172470</td>\n",
       "      <td>13105</td>\n",
       "      <td>146</td>\n",
       "      <td>9387</td>\n",
       "      <td>238</td>\n",
       "      <td>456</td>\n",
       "    </tr>\n",
       "    <tr>\n",
       "      <th>3</th>\n",
       "      <td>Forza Horizon 5</td>\n",
       "      <td>$34.78</td>\n",
       "      <td>8 Nov, 2021</td>\n",
       "      <td>Your Ultimate Horizon Adventure awaits! Explor...</td>\n",
       "      <td>1551360</td>\n",
       "      <td>34</td>\n",
       "      <td>409</td>\n",
       "      <td>8062</td>\n",
       "      <td>1250</td>\n",
       "      <td>244</td>\n",
       "    </tr>\n",
       "    <tr>\n",
       "      <th>4</th>\n",
       "      <td>Call of Duty®</td>\n",
       "      <td>Free</td>\n",
       "      <td>27 Oct, 2022</td>\n",
       "      <td>Welcome to Call of Duty® HQ, the home of Call ...</td>\n",
       "      <td>1938090</td>\n",
       "      <td>1380</td>\n",
       "      <td>2951</td>\n",
       "      <td>2064</td>\n",
       "      <td>296</td>\n",
       "      <td>2644</td>\n",
       "    </tr>\n",
       "  </tbody>\n",
       "</table>\n",
       "</div>"
      ],
      "text/plain": [
       "                              Title Original Price  Release Date  \\\n",
       "0                   Baldur's Gate 3         $29.99   3 Aug, 2023   \n",
       "1  Counter-Strike: Global Offensive         $14.99  21 Aug, 2012   \n",
       "2                     Apex Legends™           Free   4 Nov, 2020   \n",
       "3                   Forza Horizon 5         $34.78   8 Nov, 2021   \n",
       "4                     Call of Duty®           Free  27 Oct, 2022   \n",
       "\n",
       "                                    Game Description   app_id     r1     r2  \\\n",
       "0  Baldur’s Gate 3 is a story-rich, party-based R...  1096530    405   8459   \n",
       "1  Counter-Strike: Global Offensive (CS: GO) expa...      730   2872  14606   \n",
       "2  Apex Legends is the award-winning, free-to-pla...  1172470  13105    146   \n",
       "3  Your Ultimate Horizon Adventure awaits! Explor...  1551360     34    409   \n",
       "4  Welcome to Call of Duty® HQ, the home of Call ...  1938090   1380   2951   \n",
       "\n",
       "     r3    r4    r5  \n",
       "0  1347  3690  6800  \n",
       "1    11   776  4380  \n",
       "2  9387   238   456  \n",
       "3  8062  1250   244  \n",
       "4  2064   296  2644  "
      ]
     },
     "execution_count": 52,
     "metadata": {},
     "output_type": "execute_result"
    }
   ],
   "source": [
    "content_with_recom_df.head()"
   ]
  },
  {
   "cell_type": "code",
   "execution_count": 53,
   "id": "b31d8b31",
   "metadata": {},
   "outputs": [],
   "source": [
    "content_with_recom_df.to_csv('content_based_df_new_20k_with_recom_2.csv', sep=',', index=False)"
   ]
  },
  {
   "cell_type": "code",
   "execution_count": 2,
   "id": "fff86ccd",
   "metadata": {},
   "outputs": [],
   "source": [
    "df = pd.read_csv('content_based_df_new_20k_with_recom_2.csv')"
   ]
  },
  {
   "cell_type": "code",
   "execution_count": 3,
   "id": "877312f0",
   "metadata": {},
   "outputs": [],
   "source": [
    "df.to_csv('content_based_df_new_20k_with_recom_3.csv', sep=',')"
   ]
  },
  {
   "cell_type": "markdown",
   "id": "e2dedf9b",
   "metadata": {},
   "source": [
    "### Now, for the collaborative df "
   ]
  },
  {
   "cell_type": "code",
   "execution_count": 2,
   "id": "e84f5e34",
   "metadata": {},
   "outputs": [],
   "source": [
    "collab_df = pd.read_csv('collab/collaborative_df_all.csv')"
   ]
  },
  {
   "cell_type": "code",
   "execution_count": 3,
   "id": "b6cbcce4",
   "metadata": {},
   "outputs": [
    {
     "data": {
      "text/html": [
       "<div>\n",
       "<style scoped>\n",
       "    .dataframe tbody tr th:only-of-type {\n",
       "        vertical-align: middle;\n",
       "    }\n",
       "\n",
       "    .dataframe tbody tr th {\n",
       "        vertical-align: top;\n",
       "    }\n",
       "\n",
       "    .dataframe thead th {\n",
       "        text-align: right;\n",
       "    }\n",
       "</style>\n",
       "<table border=\"1\" class=\"dataframe\">\n",
       "  <thead>\n",
       "    <tr style=\"text-align: right;\">\n",
       "      <th></th>\n",
       "      <th>app_id</th>\n",
       "      <th>title</th>\n",
       "      <th>date_release</th>\n",
       "      <th>price_final</th>\n",
       "      <th>description</th>\n",
       "    </tr>\n",
       "  </thead>\n",
       "  <tbody>\n",
       "    <tr>\n",
       "      <th>0</th>\n",
       "      <td>10</td>\n",
       "      <td>Counter-Strike</td>\n",
       "      <td>2000-11-01</td>\n",
       "      <td>9.99</td>\n",
       "      <td>Play the world's number 1 online action game. ...</td>\n",
       "    </tr>\n",
       "    <tr>\n",
       "      <th>1</th>\n",
       "      <td>20</td>\n",
       "      <td>Team Fortress Classic</td>\n",
       "      <td>1999-04-01</td>\n",
       "      <td>4.99</td>\n",
       "      <td>One of the most popular online action games of...</td>\n",
       "    </tr>\n",
       "    <tr>\n",
       "      <th>2</th>\n",
       "      <td>30</td>\n",
       "      <td>Day of Defeat</td>\n",
       "      <td>2003-05-01</td>\n",
       "      <td>4.99</td>\n",
       "      <td>Enlist in an intense brand of Axis vs. Allied ...</td>\n",
       "    </tr>\n",
       "    <tr>\n",
       "      <th>3</th>\n",
       "      <td>40</td>\n",
       "      <td>Deathmatch Classic</td>\n",
       "      <td>2001-06-01</td>\n",
       "      <td>4.99</td>\n",
       "      <td>Enjoy fast-paced multiplayer gaming with Death...</td>\n",
       "    </tr>\n",
       "    <tr>\n",
       "      <th>4</th>\n",
       "      <td>50</td>\n",
       "      <td>Half-Life: Opposing Force</td>\n",
       "      <td>1999-11-01</td>\n",
       "      <td>4.99</td>\n",
       "      <td>Return to the Black Mesa Research Facility as ...</td>\n",
       "    </tr>\n",
       "  </tbody>\n",
       "</table>\n",
       "</div>"
      ],
      "text/plain": [
       "   app_id                      title date_release  price_final  \\\n",
       "0      10             Counter-Strike   2000-11-01         9.99   \n",
       "1      20      Team Fortress Classic   1999-04-01         4.99   \n",
       "2      30              Day of Defeat   2003-05-01         4.99   \n",
       "3      40         Deathmatch Classic   2001-06-01         4.99   \n",
       "4      50  Half-Life: Opposing Force   1999-11-01         4.99   \n",
       "\n",
       "                                         description  \n",
       "0  Play the world's number 1 online action game. ...  \n",
       "1  One of the most popular online action games of...  \n",
       "2  Enlist in an intense brand of Axis vs. Allied ...  \n",
       "3  Enjoy fast-paced multiplayer gaming with Death...  \n",
       "4  Return to the Black Mesa Research Facility as ...  "
      ]
     },
     "execution_count": 3,
     "metadata": {},
     "output_type": "execute_result"
    }
   ],
   "source": [
    "collab_df.head()"
   ]
  },
  {
   "cell_type": "code",
   "execution_count": 4,
   "id": "024acffa",
   "metadata": {},
   "outputs": [],
   "source": [
    "import pickle\n",
    "user_item_mat = pickle.load(open('collab/user_item_matrix.pkl','rb'))\n",
    "model_knn = pickle.load(open('collab/model_knn.pkl','rb')) "
   ]
  },
  {
   "cell_type": "code",
   "execution_count": 5,
   "id": "7ad2d30a",
   "metadata": {},
   "outputs": [],
   "source": [
    "# adding columns for recommendations in collab_df\n",
    "collab_df['r1'] = ''\n",
    "collab_df['r2'] = ''\n",
    "collab_df['r3'] = ''\n",
    "collab_df['r4'] = ''\n",
    "collab_df['r5'] = ''"
   ]
  },
  {
   "cell_type": "code",
   "execution_count": 6,
   "id": "33eba058",
   "metadata": {},
   "outputs": [
    {
     "data": {
      "text/html": [
       "<div>\n",
       "<style scoped>\n",
       "    .dataframe tbody tr th:only-of-type {\n",
       "        vertical-align: middle;\n",
       "    }\n",
       "\n",
       "    .dataframe tbody tr th {\n",
       "        vertical-align: top;\n",
       "    }\n",
       "\n",
       "    .dataframe thead th {\n",
       "        text-align: right;\n",
       "    }\n",
       "</style>\n",
       "<table border=\"1\" class=\"dataframe\">\n",
       "  <thead>\n",
       "    <tr style=\"text-align: right;\">\n",
       "      <th></th>\n",
       "      <th>app_id</th>\n",
       "      <th>title</th>\n",
       "      <th>date_release</th>\n",
       "      <th>price_final</th>\n",
       "      <th>description</th>\n",
       "      <th>r1</th>\n",
       "      <th>r2</th>\n",
       "      <th>r3</th>\n",
       "      <th>r4</th>\n",
       "      <th>r5</th>\n",
       "    </tr>\n",
       "  </thead>\n",
       "  <tbody>\n",
       "    <tr>\n",
       "      <th>0</th>\n",
       "      <td>10</td>\n",
       "      <td>Counter-Strike</td>\n",
       "      <td>2000-11-01</td>\n",
       "      <td>9.99</td>\n",
       "      <td>Play the world's number 1 online action game. ...</td>\n",
       "      <td></td>\n",
       "      <td></td>\n",
       "      <td></td>\n",
       "      <td></td>\n",
       "      <td></td>\n",
       "    </tr>\n",
       "    <tr>\n",
       "      <th>1</th>\n",
       "      <td>20</td>\n",
       "      <td>Team Fortress Classic</td>\n",
       "      <td>1999-04-01</td>\n",
       "      <td>4.99</td>\n",
       "      <td>One of the most popular online action games of...</td>\n",
       "      <td></td>\n",
       "      <td></td>\n",
       "      <td></td>\n",
       "      <td></td>\n",
       "      <td></td>\n",
       "    </tr>\n",
       "    <tr>\n",
       "      <th>2</th>\n",
       "      <td>30</td>\n",
       "      <td>Day of Defeat</td>\n",
       "      <td>2003-05-01</td>\n",
       "      <td>4.99</td>\n",
       "      <td>Enlist in an intense brand of Axis vs. Allied ...</td>\n",
       "      <td></td>\n",
       "      <td></td>\n",
       "      <td></td>\n",
       "      <td></td>\n",
       "      <td></td>\n",
       "    </tr>\n",
       "    <tr>\n",
       "      <th>3</th>\n",
       "      <td>40</td>\n",
       "      <td>Deathmatch Classic</td>\n",
       "      <td>2001-06-01</td>\n",
       "      <td>4.99</td>\n",
       "      <td>Enjoy fast-paced multiplayer gaming with Death...</td>\n",
       "      <td></td>\n",
       "      <td></td>\n",
       "      <td></td>\n",
       "      <td></td>\n",
       "      <td></td>\n",
       "    </tr>\n",
       "    <tr>\n",
       "      <th>4</th>\n",
       "      <td>50</td>\n",
       "      <td>Half-Life: Opposing Force</td>\n",
       "      <td>1999-11-01</td>\n",
       "      <td>4.99</td>\n",
       "      <td>Return to the Black Mesa Research Facility as ...</td>\n",
       "      <td></td>\n",
       "      <td></td>\n",
       "      <td></td>\n",
       "      <td></td>\n",
       "      <td></td>\n",
       "    </tr>\n",
       "  </tbody>\n",
       "</table>\n",
       "</div>"
      ],
      "text/plain": [
       "   app_id                      title date_release  price_final  \\\n",
       "0      10             Counter-Strike   2000-11-01         9.99   \n",
       "1      20      Team Fortress Classic   1999-04-01         4.99   \n",
       "2      30              Day of Defeat   2003-05-01         4.99   \n",
       "3      40         Deathmatch Classic   2001-06-01         4.99   \n",
       "4      50  Half-Life: Opposing Force   1999-11-01         4.99   \n",
       "\n",
       "                                         description r1 r2 r3 r4 r5  \n",
       "0  Play the world's number 1 online action game. ...                 \n",
       "1  One of the most popular online action games of...                 \n",
       "2  Enlist in an intense brand of Axis vs. Allied ...                 \n",
       "3  Enjoy fast-paced multiplayer gaming with Death...                 \n",
       "4  Return to the Black Mesa Research Facility as ...                 "
      ]
     },
     "execution_count": 6,
     "metadata": {},
     "output_type": "execute_result"
    }
   ],
   "source": [
    "collab_df.head()"
   ]
  },
  {
   "cell_type": "code",
   "execution_count": 15,
   "id": "5c50b3a9",
   "metadata": {
    "scrolled": true
   },
   "outputs": [
    {
     "name": "stdout",
     "output_type": "stream",
     "text": [
      "Left 4 Dead\n",
      "Team Fortress 2\n",
      "Murdered: Soul Suspect\n",
      "Divinity II: Developer's Cut\n",
      "Half-Life 2\n"
     ]
    }
   ],
   "source": [
    "indices = model_knn.kneighbors(user_item_mat.getrow(18),n_neighbors = 6,return_distance = False)\n",
    "    \n",
    "indices_flat = indices.flatten()[1:]\n",
    "\n",
    "for i in range(5):\n",
    "    print(collab_df['title'].iloc[indices_flat[i]])"
   ]
  },
  {
   "cell_type": "code",
   "execution_count": 20,
   "id": "19583ce6",
   "metadata": {},
   "outputs": [
    {
     "data": {
      "text/plain": [
       "(33294, 10)"
      ]
     },
     "execution_count": 20,
     "metadata": {},
     "output_type": "execute_result"
    }
   ],
   "source": [
    "collab_df.shape"
   ]
  },
  {
   "cell_type": "code",
   "execution_count": 28,
   "id": "cc56a6bd",
   "metadata": {},
   "outputs": [],
   "source": [
    "title_list = list(collab_df['title'])\n",
    "title_list_300= title_list[:300]"
   ]
  },
  {
   "cell_type": "code",
   "execution_count": 29,
   "id": "23577420",
   "metadata": {
    "scrolled": false
   },
   "outputs": [
    {
     "data": {
      "text/plain": [
       "300"
      ]
     },
     "execution_count": 29,
     "metadata": {},
     "output_type": "execute_result"
    }
   ],
   "source": [
    "len(title_list_300)"
   ]
  },
  {
   "cell_type": "code",
   "execution_count": 44,
   "id": "706982bf",
   "metadata": {},
   "outputs": [],
   "source": [
    "pd.options.mode.chained_assignment = None  # default='warn'\n",
    "\n",
    "column_list = ['r1', 'r2', 'r3', 'r4', 'r5']\n",
    "\n",
    "for name in title_list_300:\n",
    "    \n",
    "    game_index = collab_df[collab_df['title'] == name].index[0] \n",
    "    \n",
    "    indices = model_knn.kneighbors(user_item_mat.getrow(game_index),n_neighbors = 6,return_distance = False)\n",
    "    \n",
    "    indices_flat = indices.flatten()[1:]\n",
    "    \n",
    "    for i in range(5):\n",
    "        collab_df[column_list[i]].iloc[game_index] = indices_flat[i]"
   ]
  },
  {
   "cell_type": "code",
   "execution_count": 46,
   "id": "e058660d",
   "metadata": {},
   "outputs": [
    {
     "data": {
      "text/plain": [
       "app_id                                                     200410\n",
       "title                                                 SOL: Exodus\n",
       "date_release                                           2012-01-25\n",
       "price_final                                                  7.99\n",
       "description     Take on the role of the Lieutenant Commander, ...\n",
       "r1                                                               \n",
       "r2                                                               \n",
       "r3                                                               \n",
       "r4                                                               \n",
       "r5                                                               \n",
       "Name: 1000, dtype: object"
      ]
     },
     "execution_count": 46,
     "metadata": {},
     "output_type": "execute_result"
    }
   ],
   "source": [
    "collab_df.iloc[1000]"
   ]
  },
  {
   "cell_type": "code",
   "execution_count": 43,
   "id": "4b54c5a0",
   "metadata": {
    "scrolled": true
   },
   "outputs": [
    {
     "data": {
      "text/plain": [
       "['Revenge of the Titans',\n",
       " 'Dinner Date',\n",
       " 'Jamestown',\n",
       " 'The Dream Machine: Chapter 1 & 2',\n",
       " 'Puzzle Agent 2',\n",
       " 'Hector: Badge of Carnage - Full Series',\n",
       " 'ibb & obb',\n",
       " 'Air Conflicts: Secret Wars',\n",
       " 'The Tiny Bang Story',\n",
       " 'Defy Gravity Extended',\n",
       " 'Steel Storm: Burning Retribution',\n",
       " 'Nexuiz',\n",
       " 'Slam Bolt Scrappers',\n",
       " 'Solar 2',\n",
       " 'Kohan: Immortal Sovereigns',\n",
       " \"Kohan: Ahriman's Gift\",\n",
       " 'Kohan II: Kings of War',\n",
       " 'Trauma',\n",
       " 'Frozen Synapse',\n",
       " 'Toy Soldiers',\n",
       " 'Hard Reset Extended Edition',\n",
       " 'Naval Warfare',\n",
       " 'Demolition Inc.',\n",
       " 'Dungeons of Dredmor',\n",
       " 'Alien Hallway',\n",
       " 'Dungeons and Dragons: Daggerdale',\n",
       " \"Yar's Revenge\",\n",
       " 'Garshasp: The Monster Slayer',\n",
       " 'Garshasp: Temple of the Dragon',\n",
       " 'NightSky',\n",
       " 'Spiral Knights',\n",
       " 'Puzzle Pirates',\n",
       " 'Silo 2',\n",
       " 'Runespell: Overture',\n",
       " 'Orcs Must Die!',\n",
       " 'Gatling Gears',\n",
       " 'Warp',\n",
       " 'iBomber Defense',\n",
       " 'Storm in a Teacup',\n",
       " 'Inside a Star-filled Sky',\n",
       " 'Portal 2 - The Final Hours',\n",
       " 'ORION: Prelude',\n",
       " 'A New Beginning - Final Cut',\n",
       " 'Critical Mass',\n",
       " 'Age of Empires® III (2007)',\n",
       " 'Terraria',\n",
       " \"Tobe's Vertical Adventure\",\n",
       " 'PixelJunk™ Eden',\n",
       " 'Bastion',\n",
       " 'Space Pirates and Zombies',\n",
       " 'Breath of Death VII',\n",
       " 'Arma 3',\n",
       " 'Starpoint Gemini',\n",
       " 'Ticket to Ride',\n",
       " 'Vessel',\n",
       " 'Project Zomboid',\n",
       " 'Death Rally',\n",
       " 'Alan Wake',\n",
       " 'Crysis 2 - Maximum Edition',\n",
       " 'Legend of Fae',\n",
       " 'Fowl Space',\n",
       " 'Neverwinter',\n",
       " 'Achron',\n",
       " 'inMomentum',\n",
       " 'Astro Tripper',\n",
       " 'Alien Zombie Megadeath',\n",
       " 'Mutant Storm: Reloaded',\n",
       " 'L.A. Noire',\n",
       " 'The Clockwork Man',\n",
       " 'The Clockwork Man: The Hidden World',\n",
       " 'Snuggle Truck',\n",
       " 'Smash Cars',\n",
       " 'Bunch of Heroes',\n",
       " 'Blocks That Matter',\n",
       " 'Avadon: The Black Fortress',\n",
       " \"Monaco: What's Yours Is Mine\",\n",
       " 'The Binding of Isaac',\n",
       " 'APB Reloaded',\n",
       " 'Fallen Earth Classic',\n",
       " 'Costume Quest',\n",
       " 'Stacking',\n",
       " 'Iron Brigade',\n",
       " 'American Conquest',\n",
       " 'American Conquest: Fight Back',\n",
       " 'Prototype 2',\n",
       " 'Owlboy',\n",
       " 'Super Toy Cars',\n",
       " 'Lightfish',\n",
       " 'Quantum Conundrum',\n",
       " 'Global Ops: Commando Libya',\n",
       " \"Nancy Drew®: Shadow at the Water's Edge\",\n",
       " 'Puzzler World 2',\n",
       " 'Battle Chess: Game of Kings™',\n",
       " 'Worms Revolution',\n",
       " 'Sideway™ New York',\n",
       " 'Realm of the Mad God Exalt',\n",
       " 'Off-Road Drive',\n",
       " 'Batman: Arkham City - Game of the Year Edition',\n",
       " 'A Game of Dwarves',\n",
       " 'Oil Rush']"
      ]
     },
     "execution_count": 43,
     "metadata": {},
     "output_type": "execute_result"
    }
   ],
   "source": [
    "title_list_300 = title_list[900:1000]\n",
    "title_list_300"
   ]
  },
  {
   "cell_type": "code",
   "execution_count": 47,
   "id": "9d189484",
   "metadata": {},
   "outputs": [],
   "source": [
    "collab_df.to_csv('collab_incomp.csv', sep=',')"
   ]
  },
  {
   "cell_type": "markdown",
   "id": "2ece53da",
   "metadata": {},
   "source": [
    "## using svd on user_item_matrix to reduce dimensionality"
   ]
  },
  {
   "cell_type": "code",
   "execution_count": 2,
   "id": "3dcd2799",
   "metadata": {},
   "outputs": [],
   "source": [
    "import pickle\n",
    "\n",
    "mat = pickle.load(open('user_item_matrix.pkl','rb'))"
   ]
  },
  {
   "cell_type": "code",
   "execution_count": 3,
   "id": "e0f1455a",
   "metadata": {},
   "outputs": [
    {
     "data": {
      "text/plain": [
       "<33336x13113789 sparse matrix of type '<class 'numpy.float16'>'\n",
       "\twith 37839599 stored elements in COOrdinate format>"
      ]
     },
     "execution_count": 3,
     "metadata": {},
     "output_type": "execute_result"
    }
   ],
   "source": [
    "mat"
   ]
  },
  {
   "cell_type": "code",
   "execution_count": 4,
   "id": "acf2305e",
   "metadata": {},
   "outputs": [
    {
     "data": {
      "text/plain": [
       "scipy.sparse._coo.coo_matrix"
      ]
     },
     "execution_count": 4,
     "metadata": {},
     "output_type": "execute_result"
    }
   ],
   "source": [
    "type(mat)"
   ]
  },
  {
   "cell_type": "code",
   "execution_count": 5,
   "id": "666ba65b",
   "metadata": {},
   "outputs": [],
   "source": [
    "from sklearn.decomposition import TruncatedSVD\n",
    "\n",
    "svd = TruncatedSVD(n_components=10)\n",
    "reduced_mat = svd.fit_transform(mat)"
   ]
  },
  {
   "cell_type": "code",
   "execution_count": 6,
   "id": "cb075e51",
   "metadata": {},
   "outputs": [
    {
     "data": {
      "text/plain": [
       "array([[ 1.2824409e+03,  4.4083716e+02, -2.6818132e+01, ...,\n",
       "         3.2658780e+02,  8.6339302e+01,  3.3609610e+02],\n",
       "       [ 9.2098427e+01, -4.1380878e+01, -6.7164130e+00, ...,\n",
       "         3.1185516e+01, -5.4355145e-01,  2.1077559e+01],\n",
       "       [ 5.9684582e+01, -5.9453502e+00,  6.1258202e+00, ...,\n",
       "         2.2400070e+01,  4.0638185e+00,  2.5395721e+01],\n",
       "       ...,\n",
       "       [ 1.1691296e-03, -9.5239672e-04, -1.8481747e-04, ...,\n",
       "         4.0294070e-04,  1.2068701e-04, -9.9206307e-05],\n",
       "       [ 5.3511513e-07,  6.7483321e-09,  2.6184492e-07, ...,\n",
       "         8.5011726e-07,  7.0239807e-08,  2.4692099e-06],\n",
       "       [ 1.6420909e-03, -1.3175188e-03, -2.2437242e-04, ...,\n",
       "        -3.1687776e-04, -5.0704653e-05,  6.6828405e-05]], dtype=float32)"
      ]
     },
     "execution_count": 6,
     "metadata": {},
     "output_type": "execute_result"
    }
   ],
   "source": [
    "reduced_mat"
   ]
  },
  {
   "cell_type": "code",
   "execution_count": 7,
   "id": "8fd9aefb",
   "metadata": {},
   "outputs": [
    {
     "data": {
      "text/plain": [
       "(33336, 10)"
      ]
     },
     "execution_count": 7,
     "metadata": {},
     "output_type": "execute_result"
    }
   ],
   "source": [
    "reduced_mat.shape"
   ]
  },
  {
   "cell_type": "code",
   "execution_count": 8,
   "id": "02426b98",
   "metadata": {},
   "outputs": [
    {
     "data": {
      "text/plain": [
       "array([1282.4409   ,  440.83716  ,  -26.818132 ,  565.7608   ,\n",
       "         81.83929  ,   -2.9754472,  182.43773  ,  326.5878   ,\n",
       "         86.3393   ,  336.0961   ], dtype=float32)"
      ]
     },
     "execution_count": 8,
     "metadata": {},
     "output_type": "execute_result"
    }
   ],
   "source": [
    "reduced_mat[0]"
   ]
  },
  {
   "cell_type": "code",
   "execution_count": 9,
   "id": "292c0976",
   "metadata": {},
   "outputs": [],
   "source": [
    "pickle.dump(reduced_mat,open('reduced_user_item_matrix.pkl','wb'))"
   ]
  },
  {
   "cell_type": "code",
   "execution_count": 14,
   "id": "ff50ebb7",
   "metadata": {},
   "outputs": [],
   "source": [
    "reduced_mat = pickle.load(open('collab/reduced_user_item_matrix.pkl','rb'))"
   ]
  },
  {
   "cell_type": "code",
   "execution_count": 15,
   "id": "20e0a611",
   "metadata": {},
   "outputs": [],
   "source": [
    "from sklearn.metrics.pairwise import linear_kernel\n",
    "\n",
    "cosine_similarities = linear_kernel(reduced_mat, reduced_mat)"
   ]
  },
  {
   "cell_type": "code",
   "execution_count": 16,
   "id": "668b5b9a",
   "metadata": {},
   "outputs": [
    {
     "data": {
      "text/plain": [
       "array([[2.42686125e+06, 1.30008445e+05, 1.08696438e+05, ...,\n",
       "        1.29804981e+00, 2.24768976e-03, 1.94272697e+00],\n",
       "       [1.30008445e+05, 1.22020176e+04, 7.70269971e+03, ...,\n",
       "        1.62060142e-01, 1.52292749e-04, 2.40388349e-01],\n",
       "       [1.08696438e+05, 7.70269971e+03, 6.09189111e+03, ...,\n",
       "        8.90823677e-02, 1.51987886e-04, 1.43695205e-01],\n",
       "       ...,\n",
       "       [1.29804981e+00, 1.62060142e-01, 8.90823677e-02, ...,\n",
       "        2.62038179e-06, 9.23481458e-10, 3.12278257e-06],\n",
       "       [2.24768976e-03, 1.52292749e-04, 1.51987886e-04, ...,\n",
       "        9.23481458e-10, 9.29761997e-12, 4.24312452e-09],\n",
       "       [1.94272697e+00, 2.40388349e-01, 1.43695205e-01, ...,\n",
       "        3.12278257e-06, 4.24312452e-09, 1.18999606e-05]], dtype=float32)"
      ]
     },
     "execution_count": 16,
     "metadata": {},
     "output_type": "execute_result"
    }
   ],
   "source": [
    "cosine_similarities"
   ]
  },
  {
   "cell_type": "code",
   "execution_count": 17,
   "id": "9f37041e",
   "metadata": {},
   "outputs": [
    {
     "data": {
      "text/plain": [
       "(33336, 33336)"
      ]
     },
     "execution_count": 17,
     "metadata": {},
     "output_type": "execute_result"
    }
   ],
   "source": [
    "cosine_similarities.shape"
   ]
  },
  {
   "cell_type": "code",
   "execution_count": 18,
   "id": "b37fafdb",
   "metadata": {},
   "outputs": [],
   "source": [
    "collab_df = pd.read_csv('collab/collaborative_df_all.csv')"
   ]
  },
  {
   "cell_type": "code",
   "execution_count": 21,
   "id": "d52f69d4",
   "metadata": {},
   "outputs": [],
   "source": [
    "def recommend(game):\n",
    "    game_index = collab_df[collab_df['title'] == game].index[0] \n",
    "    # game_index = merged_dropped_df[merged_dropped_df['title'].str.contains(game)]\n",
    "    \n",
    "    game_list = sorted(list(enumerate(cosine_similarities[game_index])),reverse=True,key=lambda x : x[1])[1:6]\n",
    "    \n",
    "    for i in game_list:\n",
    "        print('\\033[1m' + collab_df['title'].iloc[i[0]] + '\\033[0m')\n",
    "        print('Price : $',collab_df['price_final'].iloc[i[0]])\n",
    "        print('Description :',collab_df['description'].iloc[i[0]])\n",
    "        print('')"
   ]
  },
  {
   "cell_type": "code",
   "execution_count": 22,
   "id": "42e9340d",
   "metadata": {},
   "outputs": [
    {
     "name": "stdout",
     "output_type": "stream",
     "text": [
      "\u001b[1mDota 2\u001b[0m\n",
      "Price : $ 0.0\n",
      "Description : Every day, millions of players worldwide enter battle as one of over a hundred Dota heroes. And no matter if it's their 10th hour of play or 1,000th, there's always something new to discover. With regular updates that ensure a constant evolution of gameplay, features, and heroes, Dota 2 has taken on a life of its own.\n",
      "\n",
      "\u001b[1mMerchant\u001b[0m\n",
      "Price : $ 0.0\n",
      "Description : Merchant blends traditional RPG systems and tycoon style mechanics. No gems, no consumables, all purchases are DLC! Great for second screen gaming! Merchant reimagines the classic RPG experience from the perspective of a Merchant. Hire Heroes and Crafters to do your bidding for you.\n",
      "\n",
      "\u001b[1mANKI\u001b[0m\n",
      "Price : $ 0.51\n",
      "Description : \"ANKI\" is a new platform, arcade, puzzle , game made by an independent artist Wojciech Krupinski. Incredibly addictive idea, which is teleport from left to right and from top to bottom, the author provides us with nice and pleasant moments. The gameplay will absorbs us utterly. \"ANKI\" is waiting for you.\n",
      "\n",
      "\u001b[1mGarry's Mod\u001b[0m\n",
      "Price : $ 9.99\n",
      "Description : Garry's Mod is a physics sandbox. There aren't any predefined aims or goals. We give you the tools and leave you to play.\n",
      "\n",
      "\u001b[1mTiny Bridge: Ratventure\u001b[0m\n",
      "Price : $ 4.99\n",
      "Description : This mind-bending game will challenge you to create complex structures to get your woodland creatures over vast chasms. In a bridge-builder first, you'll guide your creatures and construct your bridges in real time. Use the weight of various creatures to balance your structures as you build them.\n",
      "\n"
     ]
    }
   ],
   "source": [
    "recommend('Call of Duty®: Black Ops')"
   ]
  },
  {
   "cell_type": "code",
   "execution_count": 23,
   "id": "9e09b118",
   "metadata": {},
   "outputs": [
    {
     "name": "stdout",
     "output_type": "stream",
     "text": [
      "\u001b[1mShadow Blade: Reload\u001b[0m\n",
      "Price : $ 9.99\n",
      "Description : Shadow Blade is an action-platformer set in a visually striking world where the ancient teachings of ninjas and samurai clash upon a modern landscape. Sprint through stages littered with traps, slaying enemies along your path without hesitation as Kuro, the blade of shadow!\n",
      "\n",
      "\u001b[1mRiot of the numbers\u001b[0m\n",
      "Price : $ 0.99\n",
      "Description : Join the world of computer bits where only 0 and 1 are used but the other numbers felt left behind and they started a riot. You play as alpha 0 bit and try to reunite with alpha 1 bit to defeat the riot. Solve equations on each level while doing platforming to reach the exit.\n",
      "\n",
      "\u001b[1mA Hat in Time\u001b[0m\n",
      "Price : $ 29.98\n",
      "Description : A Hat in Time is a cute-as-heck 3D platformer featuring a little girl who stitches hats for wicked powers! Freely explore giant worlds and recover Time Pieces to travel to new heights!\n",
      "\n",
      "\u001b[1mTiny Bridge: Ratventure\u001b[0m\n",
      "Price : $ 4.99\n",
      "Description : This mind-bending game will challenge you to create complex structures to get your woodland creatures over vast chasms. In a bridge-builder first, you'll guide your creatures and construct your bridges in real time. Use the weight of various creatures to balance your structures as you build them.\n",
      "\n",
      "\u001b[1mGarry's Mod\u001b[0m\n",
      "Price : $ 9.99\n",
      "Description : Garry's Mod is a physics sandbox. There aren't any predefined aims or goals. We give you the tools and leave you to play.\n",
      "\n"
     ]
    }
   ],
   "source": [
    "recommend('Counter-Strike: Global Offensive')"
   ]
  },
  {
   "cell_type": "code",
   "execution_count": 24,
   "id": "9249259e",
   "metadata": {},
   "outputs": [],
   "source": [
    "pickle.dump(cosine_similarities,open('collab_cosine_similarities.pkl','wb'))"
   ]
  },
  {
   "cell_type": "markdown",
   "id": "6a1654a0",
   "metadata": {},
   "source": [
    "## updating the collaborative dataframe with recommendations"
   ]
  },
  {
   "cell_type": "code",
   "execution_count": 25,
   "id": "ce15afd7",
   "metadata": {},
   "outputs": [],
   "source": [
    "# adding columns for recommendations in collab_df\n",
    "collab_df['r1'] = ''\n",
    "collab_df['r2'] = ''\n",
    "collab_df['r3'] = ''\n",
    "collab_df['r4'] = ''\n",
    "collab_df['r5'] = ''"
   ]
  },
  {
   "cell_type": "code",
   "execution_count": 26,
   "id": "e1dbb064",
   "metadata": {},
   "outputs": [
    {
     "data": {
      "text/html": [
       "<div>\n",
       "<style scoped>\n",
       "    .dataframe tbody tr th:only-of-type {\n",
       "        vertical-align: middle;\n",
       "    }\n",
       "\n",
       "    .dataframe tbody tr th {\n",
       "        vertical-align: top;\n",
       "    }\n",
       "\n",
       "    .dataframe thead th {\n",
       "        text-align: right;\n",
       "    }\n",
       "</style>\n",
       "<table border=\"1\" class=\"dataframe\">\n",
       "  <thead>\n",
       "    <tr style=\"text-align: right;\">\n",
       "      <th></th>\n",
       "      <th>app_id</th>\n",
       "      <th>title</th>\n",
       "      <th>date_release</th>\n",
       "      <th>price_final</th>\n",
       "      <th>description</th>\n",
       "      <th>r1</th>\n",
       "      <th>r2</th>\n",
       "      <th>r3</th>\n",
       "      <th>r4</th>\n",
       "      <th>r5</th>\n",
       "    </tr>\n",
       "  </thead>\n",
       "  <tbody>\n",
       "    <tr>\n",
       "      <th>0</th>\n",
       "      <td>10</td>\n",
       "      <td>Counter-Strike</td>\n",
       "      <td>2000-11-01</td>\n",
       "      <td>9.99</td>\n",
       "      <td>Play the world's number 1 online action game. ...</td>\n",
       "      <td></td>\n",
       "      <td></td>\n",
       "      <td></td>\n",
       "      <td></td>\n",
       "      <td></td>\n",
       "    </tr>\n",
       "    <tr>\n",
       "      <th>1</th>\n",
       "      <td>20</td>\n",
       "      <td>Team Fortress Classic</td>\n",
       "      <td>1999-04-01</td>\n",
       "      <td>4.99</td>\n",
       "      <td>One of the most popular online action games of...</td>\n",
       "      <td></td>\n",
       "      <td></td>\n",
       "      <td></td>\n",
       "      <td></td>\n",
       "      <td></td>\n",
       "    </tr>\n",
       "    <tr>\n",
       "      <th>2</th>\n",
       "      <td>30</td>\n",
       "      <td>Day of Defeat</td>\n",
       "      <td>2003-05-01</td>\n",
       "      <td>4.99</td>\n",
       "      <td>Enlist in an intense brand of Axis vs. Allied ...</td>\n",
       "      <td></td>\n",
       "      <td></td>\n",
       "      <td></td>\n",
       "      <td></td>\n",
       "      <td></td>\n",
       "    </tr>\n",
       "    <tr>\n",
       "      <th>3</th>\n",
       "      <td>40</td>\n",
       "      <td>Deathmatch Classic</td>\n",
       "      <td>2001-06-01</td>\n",
       "      <td>4.99</td>\n",
       "      <td>Enjoy fast-paced multiplayer gaming with Death...</td>\n",
       "      <td></td>\n",
       "      <td></td>\n",
       "      <td></td>\n",
       "      <td></td>\n",
       "      <td></td>\n",
       "    </tr>\n",
       "    <tr>\n",
       "      <th>4</th>\n",
       "      <td>50</td>\n",
       "      <td>Half-Life: Opposing Force</td>\n",
       "      <td>1999-11-01</td>\n",
       "      <td>4.99</td>\n",
       "      <td>Return to the Black Mesa Research Facility as ...</td>\n",
       "      <td></td>\n",
       "      <td></td>\n",
       "      <td></td>\n",
       "      <td></td>\n",
       "      <td></td>\n",
       "    </tr>\n",
       "  </tbody>\n",
       "</table>\n",
       "</div>"
      ],
      "text/plain": [
       "   app_id                      title date_release  price_final  \\\n",
       "0      10             Counter-Strike   2000-11-01         9.99   \n",
       "1      20      Team Fortress Classic   1999-04-01         4.99   \n",
       "2      30              Day of Defeat   2003-05-01         4.99   \n",
       "3      40         Deathmatch Classic   2001-06-01         4.99   \n",
       "4      50  Half-Life: Opposing Force   1999-11-01         4.99   \n",
       "\n",
       "                                         description r1 r2 r3 r4 r5  \n",
       "0  Play the world's number 1 online action game. ...                 \n",
       "1  One of the most popular online action games of...                 \n",
       "2  Enlist in an intense brand of Axis vs. Allied ...                 \n",
       "3  Enjoy fast-paced multiplayer gaming with Death...                 \n",
       "4  Return to the Black Mesa Research Facility as ...                 "
      ]
     },
     "execution_count": 26,
     "metadata": {},
     "output_type": "execute_result"
    }
   ],
   "source": [
    "collab_df.head()"
   ]
  },
  {
   "cell_type": "code",
   "execution_count": 28,
   "id": "7bb0211b",
   "metadata": {
    "scrolled": true
   },
   "outputs": [
    {
     "name": "stdout",
     "output_type": "stream",
     "text": [
      "16\n",
      "19\n",
      "4419\n",
      "4008\n",
      "1768\n"
     ]
    }
   ],
   "source": [
    "game_list = sorted(list(enumerate(cosine_similarities[0])), reverse=True, key=lambda x : x[1])[1:6]\n",
    "\n",
    "for i in range(5):\n",
    "    print(game_list[i][0])"
   ]
  },
  {
   "cell_type": "code",
   "execution_count": 30,
   "id": "37ffbe1c",
   "metadata": {},
   "outputs": [],
   "source": [
    "pd.options.mode.chained_assignment = None  # default='warn'\n",
    "\n",
    "column_list = ['r1', 'r2', 'r3', 'r4', 'r5']\n",
    "\n",
    "for name in collab_df['title']:\n",
    "    \n",
    "    game_index = collab_df[collab_df['title'] == name].index[0] \n",
    "    \n",
    "    game_list = sorted(list(enumerate(cosine_similarities[game_index])), reverse=True, key=lambda x : x[1])[1:6]\n",
    "    \n",
    "    for i in range(5):\n",
    "        collab_df[column_list[i]].iloc[game_index] = game_list[i][0]"
   ]
  },
  {
   "cell_type": "code",
   "execution_count": 31,
   "id": "a824bf36",
   "metadata": {},
   "outputs": [
    {
     "data": {
      "text/html": [
       "<div>\n",
       "<style scoped>\n",
       "    .dataframe tbody tr th:only-of-type {\n",
       "        vertical-align: middle;\n",
       "    }\n",
       "\n",
       "    .dataframe tbody tr th {\n",
       "        vertical-align: top;\n",
       "    }\n",
       "\n",
       "    .dataframe thead th {\n",
       "        text-align: right;\n",
       "    }\n",
       "</style>\n",
       "<table border=\"1\" class=\"dataframe\">\n",
       "  <thead>\n",
       "    <tr style=\"text-align: right;\">\n",
       "      <th></th>\n",
       "      <th>app_id</th>\n",
       "      <th>title</th>\n",
       "      <th>date_release</th>\n",
       "      <th>price_final</th>\n",
       "      <th>description</th>\n",
       "      <th>r1</th>\n",
       "      <th>r2</th>\n",
       "      <th>r3</th>\n",
       "      <th>r4</th>\n",
       "      <th>r5</th>\n",
       "    </tr>\n",
       "  </thead>\n",
       "  <tbody>\n",
       "    <tr>\n",
       "      <th>0</th>\n",
       "      <td>10</td>\n",
       "      <td>Counter-Strike</td>\n",
       "      <td>2000-11-01</td>\n",
       "      <td>9.99</td>\n",
       "      <td>Play the world's number 1 online action game. ...</td>\n",
       "      <td>16</td>\n",
       "      <td>19</td>\n",
       "      <td>4419</td>\n",
       "      <td>4008</td>\n",
       "      <td>1768</td>\n",
       "    </tr>\n",
       "    <tr>\n",
       "      <th>1</th>\n",
       "      <td>20</td>\n",
       "      <td>Team Fortress Classic</td>\n",
       "      <td>1999-04-01</td>\n",
       "      <td>4.99</td>\n",
       "      <td>One of the most popular online action games of...</td>\n",
       "      <td>21</td>\n",
       "      <td>1407</td>\n",
       "      <td>4008</td>\n",
       "      <td>19</td>\n",
       "      <td>103</td>\n",
       "    </tr>\n",
       "    <tr>\n",
       "      <th>2</th>\n",
       "      <td>30</td>\n",
       "      <td>Day of Defeat</td>\n",
       "      <td>2003-05-01</td>\n",
       "      <td>4.99</td>\n",
       "      <td>Enlist in an intense brand of Axis vs. Allied ...</td>\n",
       "      <td>21</td>\n",
       "      <td>4008</td>\n",
       "      <td>19</td>\n",
       "      <td>19742</td>\n",
       "      <td>1768</td>\n",
       "    </tr>\n",
       "    <tr>\n",
       "      <th>3</th>\n",
       "      <td>40</td>\n",
       "      <td>Deathmatch Classic</td>\n",
       "      <td>2001-06-01</td>\n",
       "      <td>4.99</td>\n",
       "      <td>Enjoy fast-paced multiplayer gaming with Death...</td>\n",
       "      <td>19</td>\n",
       "      <td>1407</td>\n",
       "      <td>21</td>\n",
       "      <td>4008</td>\n",
       "      <td>1768</td>\n",
       "    </tr>\n",
       "    <tr>\n",
       "      <th>4</th>\n",
       "      <td>50</td>\n",
       "      <td>Half-Life: Opposing Force</td>\n",
       "      <td>1999-11-01</td>\n",
       "      <td>4.99</td>\n",
       "      <td>Return to the Black Mesa Research Facility as ...</td>\n",
       "      <td>21</td>\n",
       "      <td>4008</td>\n",
       "      <td>19</td>\n",
       "      <td>4419</td>\n",
       "      <td>5413</td>\n",
       "    </tr>\n",
       "  </tbody>\n",
       "</table>\n",
       "</div>"
      ],
      "text/plain": [
       "   app_id                      title date_release  price_final  \\\n",
       "0      10             Counter-Strike   2000-11-01         9.99   \n",
       "1      20      Team Fortress Classic   1999-04-01         4.99   \n",
       "2      30              Day of Defeat   2003-05-01         4.99   \n",
       "3      40         Deathmatch Classic   2001-06-01         4.99   \n",
       "4      50  Half-Life: Opposing Force   1999-11-01         4.99   \n",
       "\n",
       "                                         description  r1    r2    r3     r4  \\\n",
       "0  Play the world's number 1 online action game. ...  16    19  4419   4008   \n",
       "1  One of the most popular online action games of...  21  1407  4008     19   \n",
       "2  Enlist in an intense brand of Axis vs. Allied ...  21  4008    19  19742   \n",
       "3  Enjoy fast-paced multiplayer gaming with Death...  19  1407    21   4008   \n",
       "4  Return to the Black Mesa Research Facility as ...  21  4008    19   4419   \n",
       "\n",
       "     r5  \n",
       "0  1768  \n",
       "1   103  \n",
       "2  1768  \n",
       "3  1768  \n",
       "4  5413  "
      ]
     },
     "execution_count": 31,
     "metadata": {},
     "output_type": "execute_result"
    }
   ],
   "source": [
    "collab_df.head()"
   ]
  },
  {
   "cell_type": "code",
   "execution_count": 33,
   "id": "2346bdcc",
   "metadata": {},
   "outputs": [],
   "source": [
    "collab_df['price_final'] = '$' + collab_df['price_final'].astype(str)"
   ]
  },
  {
   "cell_type": "code",
   "execution_count": 35,
   "id": "72da428a",
   "metadata": {},
   "outputs": [
    {
     "data": {
      "text/html": [
       "<div>\n",
       "<style scoped>\n",
       "    .dataframe tbody tr th:only-of-type {\n",
       "        vertical-align: middle;\n",
       "    }\n",
       "\n",
       "    .dataframe tbody tr th {\n",
       "        vertical-align: top;\n",
       "    }\n",
       "\n",
       "    .dataframe thead th {\n",
       "        text-align: right;\n",
       "    }\n",
       "</style>\n",
       "<table border=\"1\" class=\"dataframe\">\n",
       "  <thead>\n",
       "    <tr style=\"text-align: right;\">\n",
       "      <th></th>\n",
       "      <th>app_id</th>\n",
       "      <th>title</th>\n",
       "      <th>date_release</th>\n",
       "      <th>price_final</th>\n",
       "      <th>description</th>\n",
       "      <th>r1</th>\n",
       "      <th>r2</th>\n",
       "      <th>r3</th>\n",
       "      <th>r4</th>\n",
       "      <th>r5</th>\n",
       "    </tr>\n",
       "  </thead>\n",
       "  <tbody>\n",
       "    <tr>\n",
       "      <th>0</th>\n",
       "      <td>10</td>\n",
       "      <td>Counter-Strike</td>\n",
       "      <td>2000-11-01</td>\n",
       "      <td>$9.99</td>\n",
       "      <td>Play the world's number 1 online action game. ...</td>\n",
       "      <td>16</td>\n",
       "      <td>19</td>\n",
       "      <td>4419</td>\n",
       "      <td>4008</td>\n",
       "      <td>1768</td>\n",
       "    </tr>\n",
       "    <tr>\n",
       "      <th>1</th>\n",
       "      <td>20</td>\n",
       "      <td>Team Fortress Classic</td>\n",
       "      <td>1999-04-01</td>\n",
       "      <td>$4.99</td>\n",
       "      <td>One of the most popular online action games of...</td>\n",
       "      <td>21</td>\n",
       "      <td>1407</td>\n",
       "      <td>4008</td>\n",
       "      <td>19</td>\n",
       "      <td>103</td>\n",
       "    </tr>\n",
       "    <tr>\n",
       "      <th>2</th>\n",
       "      <td>30</td>\n",
       "      <td>Day of Defeat</td>\n",
       "      <td>2003-05-01</td>\n",
       "      <td>$4.99</td>\n",
       "      <td>Enlist in an intense brand of Axis vs. Allied ...</td>\n",
       "      <td>21</td>\n",
       "      <td>4008</td>\n",
       "      <td>19</td>\n",
       "      <td>19742</td>\n",
       "      <td>1768</td>\n",
       "    </tr>\n",
       "    <tr>\n",
       "      <th>3</th>\n",
       "      <td>40</td>\n",
       "      <td>Deathmatch Classic</td>\n",
       "      <td>2001-06-01</td>\n",
       "      <td>$4.99</td>\n",
       "      <td>Enjoy fast-paced multiplayer gaming with Death...</td>\n",
       "      <td>19</td>\n",
       "      <td>1407</td>\n",
       "      <td>21</td>\n",
       "      <td>4008</td>\n",
       "      <td>1768</td>\n",
       "    </tr>\n",
       "    <tr>\n",
       "      <th>4</th>\n",
       "      <td>50</td>\n",
       "      <td>Half-Life: Opposing Force</td>\n",
       "      <td>1999-11-01</td>\n",
       "      <td>$4.99</td>\n",
       "      <td>Return to the Black Mesa Research Facility as ...</td>\n",
       "      <td>21</td>\n",
       "      <td>4008</td>\n",
       "      <td>19</td>\n",
       "      <td>4419</td>\n",
       "      <td>5413</td>\n",
       "    </tr>\n",
       "  </tbody>\n",
       "</table>\n",
       "</div>"
      ],
      "text/plain": [
       "   app_id                      title date_release price_final  \\\n",
       "0      10             Counter-Strike   2000-11-01       $9.99   \n",
       "1      20      Team Fortress Classic   1999-04-01       $4.99   \n",
       "2      30              Day of Defeat   2003-05-01       $4.99   \n",
       "3      40         Deathmatch Classic   2001-06-01       $4.99   \n",
       "4      50  Half-Life: Opposing Force   1999-11-01       $4.99   \n",
       "\n",
       "                                         description  r1    r2    r3     r4  \\\n",
       "0  Play the world's number 1 online action game. ...  16    19  4419   4008   \n",
       "1  One of the most popular online action games of...  21  1407  4008     19   \n",
       "2  Enlist in an intense brand of Axis vs. Allied ...  21  4008    19  19742   \n",
       "3  Enjoy fast-paced multiplayer gaming with Death...  19  1407    21   4008   \n",
       "4  Return to the Black Mesa Research Facility as ...  21  4008    19   4419   \n",
       "\n",
       "     r5  \n",
       "0  1768  \n",
       "1   103  \n",
       "2  1768  \n",
       "3  1768  \n",
       "4  5413  "
      ]
     },
     "execution_count": 35,
     "metadata": {},
     "output_type": "execute_result"
    }
   ],
   "source": [
    "collab_df.head()"
   ]
  },
  {
   "cell_type": "code",
   "execution_count": 36,
   "id": "9920e268",
   "metadata": {},
   "outputs": [],
   "source": [
    "collab_df.to_csv('collab_with_recom.csv', sep=',')"
   ]
  },
  {
   "cell_type": "markdown",
   "id": "18a5d147",
   "metadata": {},
   "source": [
    "## using knn"
   ]
  },
  {
   "cell_type": "code",
   "execution_count": 2,
   "id": "58e7e6c8",
   "metadata": {},
   "outputs": [],
   "source": [
    "reduced_mat = pickle.load(open('collab/reduced_user_item_matrix.pkl','rb'))"
   ]
  },
  {
   "cell_type": "code",
   "execution_count": 4,
   "id": "ba7f6350",
   "metadata": {},
   "outputs": [
    {
     "data": {
      "text/plain": [
       "array([[ 1.2824409e+03,  4.4083716e+02, -2.6818132e+01, ...,\n",
       "         3.2658780e+02,  8.6339302e+01,  3.3609610e+02],\n",
       "       [ 9.2098427e+01, -4.1380878e+01, -6.7164130e+00, ...,\n",
       "         3.1185516e+01, -5.4355145e-01,  2.1077559e+01],\n",
       "       [ 5.9684582e+01, -5.9453502e+00,  6.1258202e+00, ...,\n",
       "         2.2400070e+01,  4.0638185e+00,  2.5395721e+01],\n",
       "       ...,\n",
       "       [ 1.1691296e-03, -9.5239672e-04, -1.8481747e-04, ...,\n",
       "         4.0294070e-04,  1.2068701e-04, -9.9206307e-05],\n",
       "       [ 5.3511513e-07,  6.7483321e-09,  2.6184492e-07, ...,\n",
       "         8.5011726e-07,  7.0239807e-08,  2.4692099e-06],\n",
       "       [ 1.6420909e-03, -1.3175188e-03, -2.2437242e-04, ...,\n",
       "        -3.1687776e-04, -5.0704653e-05,  6.6828405e-05]], dtype=float32)"
      ]
     },
     "execution_count": 4,
     "metadata": {},
     "output_type": "execute_result"
    }
   ],
   "source": [
    "reduced_mat"
   ]
  },
  {
   "cell_type": "code",
   "execution_count": 3,
   "id": "4555ca91",
   "metadata": {},
   "outputs": [
    {
     "data": {
      "text/html": [
       "<style>#sk-container-id-1 {color: black;}#sk-container-id-1 pre{padding: 0;}#sk-container-id-1 div.sk-toggleable {background-color: white;}#sk-container-id-1 label.sk-toggleable__label {cursor: pointer;display: block;width: 100%;margin-bottom: 0;padding: 0.3em;box-sizing: border-box;text-align: center;}#sk-container-id-1 label.sk-toggleable__label-arrow:before {content: \"▸\";float: left;margin-right: 0.25em;color: #696969;}#sk-container-id-1 label.sk-toggleable__label-arrow:hover:before {color: black;}#sk-container-id-1 div.sk-estimator:hover label.sk-toggleable__label-arrow:before {color: black;}#sk-container-id-1 div.sk-toggleable__content {max-height: 0;max-width: 0;overflow: hidden;text-align: left;background-color: #f0f8ff;}#sk-container-id-1 div.sk-toggleable__content pre {margin: 0.2em;color: black;border-radius: 0.25em;background-color: #f0f8ff;}#sk-container-id-1 input.sk-toggleable__control:checked~div.sk-toggleable__content {max-height: 200px;max-width: 100%;overflow: auto;}#sk-container-id-1 input.sk-toggleable__control:checked~label.sk-toggleable__label-arrow:before {content: \"▾\";}#sk-container-id-1 div.sk-estimator input.sk-toggleable__control:checked~label.sk-toggleable__label {background-color: #d4ebff;}#sk-container-id-1 div.sk-label input.sk-toggleable__control:checked~label.sk-toggleable__label {background-color: #d4ebff;}#sk-container-id-1 input.sk-hidden--visually {border: 0;clip: rect(1px 1px 1px 1px);clip: rect(1px, 1px, 1px, 1px);height: 1px;margin: -1px;overflow: hidden;padding: 0;position: absolute;width: 1px;}#sk-container-id-1 div.sk-estimator {font-family: monospace;background-color: #f0f8ff;border: 1px dotted black;border-radius: 0.25em;box-sizing: border-box;margin-bottom: 0.5em;}#sk-container-id-1 div.sk-estimator:hover {background-color: #d4ebff;}#sk-container-id-1 div.sk-parallel-item::after {content: \"\";width: 100%;border-bottom: 1px solid gray;flex-grow: 1;}#sk-container-id-1 div.sk-label:hover label.sk-toggleable__label {background-color: #d4ebff;}#sk-container-id-1 div.sk-serial::before {content: \"\";position: absolute;border-left: 1px solid gray;box-sizing: border-box;top: 0;bottom: 0;left: 50%;z-index: 0;}#sk-container-id-1 div.sk-serial {display: flex;flex-direction: column;align-items: center;background-color: white;padding-right: 0.2em;padding-left: 0.2em;position: relative;}#sk-container-id-1 div.sk-item {position: relative;z-index: 1;}#sk-container-id-1 div.sk-parallel {display: flex;align-items: stretch;justify-content: center;background-color: white;position: relative;}#sk-container-id-1 div.sk-item::before, #sk-container-id-1 div.sk-parallel-item::before {content: \"\";position: absolute;border-left: 1px solid gray;box-sizing: border-box;top: 0;bottom: 0;left: 50%;z-index: -1;}#sk-container-id-1 div.sk-parallel-item {display: flex;flex-direction: column;z-index: 1;position: relative;background-color: white;}#sk-container-id-1 div.sk-parallel-item:first-child::after {align-self: flex-end;width: 50%;}#sk-container-id-1 div.sk-parallel-item:last-child::after {align-self: flex-start;width: 50%;}#sk-container-id-1 div.sk-parallel-item:only-child::after {width: 0;}#sk-container-id-1 div.sk-dashed-wrapped {border: 1px dashed gray;margin: 0 0.4em 0.5em 0.4em;box-sizing: border-box;padding-bottom: 0.4em;background-color: white;}#sk-container-id-1 div.sk-label label {font-family: monospace;font-weight: bold;display: inline-block;line-height: 1.2em;}#sk-container-id-1 div.sk-label-container {text-align: center;}#sk-container-id-1 div.sk-container {/* jupyter's `normalize.less` sets `[hidden] { display: none; }` but bootstrap.min.css set `[hidden] { display: none !important; }` so we also need the `!important` here to be able to override the default hidden behavior on the sphinx rendered scikit-learn.org. See: https://github.com/scikit-learn/scikit-learn/issues/21755 */display: inline-block !important;position: relative;}#sk-container-id-1 div.sk-text-repr-fallback {display: none;}</style><div id=\"sk-container-id-1\" class=\"sk-top-container\"><div class=\"sk-text-repr-fallback\"><pre>NearestNeighbors(algorithm=&#x27;brute&#x27;, metric=&#x27;cosine&#x27;, n_neighbors=6)</pre><b>In a Jupyter environment, please rerun this cell to show the HTML representation or trust the notebook. <br />On GitHub, the HTML representation is unable to render, please try loading this page with nbviewer.org.</b></div><div class=\"sk-container\" hidden><div class=\"sk-item\"><div class=\"sk-estimator sk-toggleable\"><input class=\"sk-toggleable__control sk-hidden--visually\" id=\"sk-estimator-id-1\" type=\"checkbox\" checked><label for=\"sk-estimator-id-1\" class=\"sk-toggleable__label sk-toggleable__label-arrow\">NearestNeighbors</label><div class=\"sk-toggleable__content\"><pre>NearestNeighbors(algorithm=&#x27;brute&#x27;, metric=&#x27;cosine&#x27;, n_neighbors=6)</pre></div></div></div></div></div>"
      ],
      "text/plain": [
       "NearestNeighbors(algorithm='brute', metric='cosine', n_neighbors=6)"
      ]
     },
     "execution_count": 3,
     "metadata": {},
     "output_type": "execute_result"
    }
   ],
   "source": [
    "from sklearn.neighbors import NearestNeighbors\n",
    "\n",
    "# fitting using cosine similarity with brute force method\n",
    "model_knn = NearestNeighbors(n_neighbors=6, metric='cosine', algorithm='brute')\n",
    "model_knn.fit(reduced_mat)"
   ]
  },
  {
   "cell_type": "code",
   "execution_count": 14,
   "id": "1bf87f79",
   "metadata": {},
   "outputs": [],
   "source": [
    "def recommend_collab(game):\n",
    "    \n",
    "    # finding the game's index \n",
    "    game_index = collab_df[collab_df['Title'] == game].index[0] \n",
    "    \n",
    "    #getting the recommendations\n",
    "    indices = model_knn.kneighbors([reduced_mat[game_index]],n_neighbors = 6,return_distance = False)\n",
    "\n",
    "    for ind in indices.flatten()[1:]:\n",
    "        print('\\033[1m' + collab_df['Title'].iloc[ind] + '\\033[0m')\n",
    "        print('Price : ',collab_df['Original Price'].iloc[ind])\n",
    "        print('Description :', collab_df['Game Description'].iloc[ind])\n",
    "        print('')"
   ]
  },
  {
   "cell_type": "code",
   "execution_count": null,
   "id": "48990b96",
   "metadata": {},
   "outputs": [],
   "source": []
  },
  {
   "cell_type": "code",
   "execution_count": null,
   "id": "35fb0854",
   "metadata": {},
   "outputs": [],
   "source": []
  },
  {
   "cell_type": "code",
   "execution_count": null,
   "id": "6fc0048a",
   "metadata": {},
   "outputs": [],
   "source": []
  },
  {
   "cell_type": "code",
   "execution_count": null,
   "id": "ab8665b2",
   "metadata": {},
   "outputs": [],
   "source": []
  },
  {
   "cell_type": "code",
   "execution_count": null,
   "id": "664e1b92",
   "metadata": {},
   "outputs": [],
   "source": []
  },
  {
   "cell_type": "code",
   "execution_count": null,
   "id": "e8dc3af4",
   "metadata": {},
   "outputs": [],
   "source": []
  },
  {
   "cell_type": "code",
   "execution_count": null,
   "id": "43dac94e",
   "metadata": {},
   "outputs": [],
   "source": []
  },
  {
   "cell_type": "code",
   "execution_count": null,
   "id": "b0d27f6b",
   "metadata": {},
   "outputs": [],
   "source": []
  },
  {
   "cell_type": "code",
   "execution_count": null,
   "id": "4a6dac61",
   "metadata": {},
   "outputs": [],
   "source": []
  },
  {
   "cell_type": "code",
   "execution_count": null,
   "id": "bc32fb1b",
   "metadata": {},
   "outputs": [],
   "source": []
  },
  {
   "cell_type": "code",
   "execution_count": null,
   "id": "718b4fe6",
   "metadata": {},
   "outputs": [],
   "source": []
  },
  {
   "cell_type": "code",
   "execution_count": null,
   "id": "19a56220",
   "metadata": {},
   "outputs": [],
   "source": []
  },
  {
   "cell_type": "code",
   "execution_count": null,
   "id": "0bd62778",
   "metadata": {},
   "outputs": [],
   "source": []
  }
 ],
 "metadata": {
  "kernelspec": {
   "display_name": "Python 3 (ipykernel)",
   "language": "python",
   "name": "python3"
  },
  "language_info": {
   "codemirror_mode": {
    "name": "ipython",
    "version": 3
   },
   "file_extension": ".py",
   "mimetype": "text/x-python",
   "name": "python",
   "nbconvert_exporter": "python",
   "pygments_lexer": "ipython3",
   "version": "3.10.9"
  }
 },
 "nbformat": 4,
 "nbformat_minor": 5
}
