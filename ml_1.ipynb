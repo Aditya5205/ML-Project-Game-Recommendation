{
 "cells": [
  {
   "cell_type": "code",
   "execution_count": 1,
   "id": "3406105e",
   "metadata": {},
   "outputs": [],
   "source": [
    "import pandas as pd\n",
    "import numpy as np\n",
    "import matplotlib.pyplot as plt"
   ]
  },
  {
   "cell_type": "code",
   "execution_count": 2,
   "id": "54c30609",
   "metadata": {},
   "outputs": [],
   "source": [
    "# reducing memory of the data_set\n",
    "\n",
    "def reduce_mem_usage(df):\n",
    "    \"\"\" iterate through all the columns of a dataframe and modify the data type\n",
    "        to reduce memory usage.        \n",
    "    \"\"\"\n",
    "    start_mem = df.memory_usage().sum() / 1024**2\n",
    "    print('Memory usage of dataframe is {:.2f} MB'.format(start_mem))\n",
    "    \n",
    "    for col in df.columns:\n",
    "        col_type = df[col].dtype\n",
    "        \n",
    "        if col_type != object and col_type != bool:\n",
    "            c_min = df[col].min()\n",
    "            c_max = df[col].max()\n",
    "            if str(col_type)[:3] == 'int':\n",
    "                if c_min > np.iinfo(np.int8).min and c_max < np.iinfo(np.int8).max:\n",
    "                    df[col] = df[col].astype(np.int8)\n",
    "                elif c_min > np.iinfo(np.int16).min and c_max < np.iinfo(np.int16).max:\n",
    "                    df[col] = df[col].astype(np.int16)\n",
    "                elif c_min > np.iinfo(np.int32).min and c_max < np.iinfo(np.int32).max:\n",
    "                    df[col] = df[col].astype(np.int32)\n",
    "                elif c_min > np.iinfo(np.int64).min and c_max < np.iinfo(np.int64).max:\n",
    "                    df[col] = df[col].astype(np.int64)  \n",
    "            else:\n",
    "                if c_min > np.finfo(np.float16).min and c_max < np.finfo(np.float16).max:\n",
    "                    df[col] = df[col].astype(np.float16)\n",
    "                elif c_min > np.finfo(np.float32).min and c_max < np.finfo(np.float32).max:\n",
    "                    df[col] = df[col].astype(np.float32)\n",
    "                else:\n",
    "                    df[col] = df[col].astype(np.float64)\n",
    "        \n",
    "\n",
    "    end_mem = df.memory_usage().sum() / 1024**2\n",
    "    print('Memory usage after optimization is: {:.2f} MB'.format(end_mem))\n",
    "    print('Decreased by {:.1f}%'.format(100 * (start_mem - end_mem) / start_mem))\n",
    "    \n",
    "    return df"
   ]
  },
  {
   "cell_type": "code",
   "execution_count": 3,
   "id": "2778936b",
   "metadata": {},
   "outputs": [],
   "source": [
    "def reduce_memory(df):\n",
    "    for col in df.columns:\n",
    "        if df[col].dtype == 'float64':\n",
    "            df[col] = df[col].astype('float32')\n",
    "        if df[col].dtype == 'int64':\n",
    "            df[col] = df[col].astype('int32')\n",
    "    return df"
   ]
  },
  {
   "cell_type": "code",
   "execution_count": 4,
   "id": "2b615005",
   "metadata": {
    "scrolled": false
   },
   "outputs": [
    {
     "name": "stdout",
     "output_type": "stream",
     "text": [
      "Memory usage of dataframe is 1.81 MB\n",
      "Memory usage after optimization is: 1.03 MB\n",
      "Decreased by 43.4%\n",
      " \n",
      "<class 'pandas.core.frame.DataFrame'>\n",
      "RangeIndex: 25000 entries, 0 to 24999\n",
      "Data columns (total 13 columns):\n",
      " #   Column          Non-Null Count  Dtype  \n",
      "---  ------          --------------  -----  \n",
      " 0   app_id          25000 non-null  int32  \n",
      " 1   title           25000 non-null  object \n",
      " 2   date_release    25000 non-null  object \n",
      " 3   win             25000 non-null  bool   \n",
      " 4   mac             25000 non-null  bool   \n",
      " 5   linux           25000 non-null  bool   \n",
      " 6   rating          25000 non-null  object \n",
      " 7   positive_ratio  25000 non-null  int8   \n",
      " 8   user_reviews    25000 non-null  int32  \n",
      " 9   price_final     25000 non-null  float16\n",
      " 10  price_original  25000 non-null  float16\n",
      " 11  discount        25000 non-null  float16\n",
      " 12  steam_deck      25000 non-null  bool   \n",
      "dtypes: bool(4), float16(3), int32(2), int8(1), object(3)\n",
      "memory usage: 1.0+ MB\n"
     ]
    }
   ],
   "source": [
    "games_df = reduce_mem_usage(pd.read_csv('games.csv',nrows = 25000))\n",
    "print(\" \")\n",
    "games_df.info()"
   ]
  },
  {
   "cell_type": "code",
   "execution_count": 5,
   "id": "e2a73686",
   "metadata": {},
   "outputs": [
    {
     "data": {
      "text/html": [
       "<div>\n",
       "<style scoped>\n",
       "    .dataframe tbody tr th:only-of-type {\n",
       "        vertical-align: middle;\n",
       "    }\n",
       "\n",
       "    .dataframe tbody tr th {\n",
       "        vertical-align: top;\n",
       "    }\n",
       "\n",
       "    .dataframe thead th {\n",
       "        text-align: right;\n",
       "    }\n",
       "</style>\n",
       "<table border=\"1\" class=\"dataframe\">\n",
       "  <thead>\n",
       "    <tr style=\"text-align: right;\">\n",
       "      <th></th>\n",
       "      <th>app_id</th>\n",
       "      <th>title</th>\n",
       "      <th>date_release</th>\n",
       "      <th>win</th>\n",
       "      <th>mac</th>\n",
       "      <th>linux</th>\n",
       "      <th>rating</th>\n",
       "      <th>positive_ratio</th>\n",
       "      <th>user_reviews</th>\n",
       "      <th>price_final</th>\n",
       "      <th>price_original</th>\n",
       "      <th>discount</th>\n",
       "      <th>steam_deck</th>\n",
       "    </tr>\n",
       "  </thead>\n",
       "  <tbody>\n",
       "    <tr>\n",
       "      <th>0</th>\n",
       "      <td>13500</td>\n",
       "      <td>Prince of Persia: Warrior Within™</td>\n",
       "      <td>2008-11-21</td>\n",
       "      <td>True</td>\n",
       "      <td>False</td>\n",
       "      <td>False</td>\n",
       "      <td>Very Positive</td>\n",
       "      <td>84</td>\n",
       "      <td>2199</td>\n",
       "      <td>9.992188</td>\n",
       "      <td>9.992188</td>\n",
       "      <td>0.0</td>\n",
       "      <td>True</td>\n",
       "    </tr>\n",
       "    <tr>\n",
       "      <th>1</th>\n",
       "      <td>22364</td>\n",
       "      <td>BRINK: Agents of Change</td>\n",
       "      <td>2011-08-03</td>\n",
       "      <td>True</td>\n",
       "      <td>False</td>\n",
       "      <td>False</td>\n",
       "      <td>Positive</td>\n",
       "      <td>85</td>\n",
       "      <td>21</td>\n",
       "      <td>2.990234</td>\n",
       "      <td>2.990234</td>\n",
       "      <td>0.0</td>\n",
       "      <td>True</td>\n",
       "    </tr>\n",
       "    <tr>\n",
       "      <th>2</th>\n",
       "      <td>113020</td>\n",
       "      <td>Monaco: What's Yours Is Mine</td>\n",
       "      <td>2013-04-24</td>\n",
       "      <td>True</td>\n",
       "      <td>True</td>\n",
       "      <td>True</td>\n",
       "      <td>Very Positive</td>\n",
       "      <td>92</td>\n",
       "      <td>3722</td>\n",
       "      <td>14.992188</td>\n",
       "      <td>14.992188</td>\n",
       "      <td>0.0</td>\n",
       "      <td>True</td>\n",
       "    </tr>\n",
       "    <tr>\n",
       "      <th>3</th>\n",
       "      <td>226560</td>\n",
       "      <td>Escape Dead Island</td>\n",
       "      <td>2014-11-18</td>\n",
       "      <td>True</td>\n",
       "      <td>False</td>\n",
       "      <td>False</td>\n",
       "      <td>Mixed</td>\n",
       "      <td>61</td>\n",
       "      <td>873</td>\n",
       "      <td>14.992188</td>\n",
       "      <td>14.992188</td>\n",
       "      <td>0.0</td>\n",
       "      <td>True</td>\n",
       "    </tr>\n",
       "    <tr>\n",
       "      <th>4</th>\n",
       "      <td>249050</td>\n",
       "      <td>Dungeon of the ENDLESS™</td>\n",
       "      <td>2014-10-27</td>\n",
       "      <td>True</td>\n",
       "      <td>True</td>\n",
       "      <td>False</td>\n",
       "      <td>Very Positive</td>\n",
       "      <td>88</td>\n",
       "      <td>8784</td>\n",
       "      <td>11.992188</td>\n",
       "      <td>11.992188</td>\n",
       "      <td>0.0</td>\n",
       "      <td>True</td>\n",
       "    </tr>\n",
       "  </tbody>\n",
       "</table>\n",
       "</div>"
      ],
      "text/plain": [
       "   app_id                              title date_release   win    mac  linux  \\\n",
       "0   13500  Prince of Persia: Warrior Within™   2008-11-21  True  False  False   \n",
       "1   22364            BRINK: Agents of Change   2011-08-03  True  False  False   \n",
       "2  113020       Monaco: What's Yours Is Mine   2013-04-24  True   True   True   \n",
       "3  226560                 Escape Dead Island   2014-11-18  True  False  False   \n",
       "4  249050            Dungeon of the ENDLESS™   2014-10-27  True   True  False   \n",
       "\n",
       "          rating  positive_ratio  user_reviews  price_final  price_original  \\\n",
       "0  Very Positive              84          2199     9.992188        9.992188   \n",
       "1       Positive              85            21     2.990234        2.990234   \n",
       "2  Very Positive              92          3722    14.992188       14.992188   \n",
       "3          Mixed              61           873    14.992188       14.992188   \n",
       "4  Very Positive              88          8784    11.992188       11.992188   \n",
       "\n",
       "   discount  steam_deck  \n",
       "0       0.0        True  \n",
       "1       0.0        True  \n",
       "2       0.0        True  \n",
       "3       0.0        True  \n",
       "4       0.0        True  "
      ]
     },
     "execution_count": 5,
     "metadata": {},
     "output_type": "execute_result"
    }
   ],
   "source": [
    "games_df.head()"
   ]
  },
  {
   "cell_type": "code",
   "execution_count": 6,
   "id": "44dba079",
   "metadata": {},
   "outputs": [
    {
     "name": "stdout",
     "output_type": "stream",
     "text": [
      "(25000, 13)\n"
     ]
    }
   ],
   "source": [
    "print(games_df.shape)"
   ]
  },
  {
   "cell_type": "code",
   "execution_count": 7,
   "id": "a58c20ba",
   "metadata": {},
   "outputs": [
    {
     "data": {
      "text/plain": [
       "app_id            0\n",
       "title             0\n",
       "date_release      0\n",
       "win               0\n",
       "mac               0\n",
       "linux             0\n",
       "rating            0\n",
       "positive_ratio    0\n",
       "user_reviews      0\n",
       "price_final       0\n",
       "price_original    0\n",
       "discount          0\n",
       "steam_deck        0\n",
       "dtype: int64"
      ]
     },
     "execution_count": 7,
     "metadata": {},
     "output_type": "execute_result"
    }
   ],
   "source": [
    "games_df.isnull().sum()"
   ]
  },
  {
   "cell_type": "code",
   "execution_count": 8,
   "id": "db084f14",
   "metadata": {},
   "outputs": [
    {
     "data": {
      "text/plain": [
       "0"
      ]
     },
     "execution_count": 8,
     "metadata": {},
     "output_type": "execute_result"
    }
   ],
   "source": [
    "games_df.duplicated().sum()"
   ]
  },
  {
   "cell_type": "markdown",
   "id": "f28058e2",
   "metadata": {},
   "source": [
    "### The main idea is to use \n",
    "1. content based filtering (done)\n",
    "2. collaborative filtering \n",
    "> 1. by knn (done)"
   ]
  },
  {
   "cell_type": "markdown",
   "id": "7f5e7ea1",
   "metadata": {},
   "source": [
    "# Content Based Filtering"
   ]
  },
  {
   "cell_type": "code",
   "execution_count": 9,
   "id": "dfab2881",
   "metadata": {},
   "outputs": [],
   "source": [
    "# merging the games.csv with overview of games \n",
    "df_games_meta = pd.read_json('games_metadata.json', lines=True, orient=\"records\")\n",
    "\n",
    "merged_df = games_df.merge(df_games_meta, on='app_id', how='left')"
   ]
  },
  {
   "cell_type": "code",
   "execution_count": 10,
   "id": "660e9110",
   "metadata": {},
   "outputs": [
    {
     "data": {
      "text/html": [
       "<div>\n",
       "<style scoped>\n",
       "    .dataframe tbody tr th:only-of-type {\n",
       "        vertical-align: middle;\n",
       "    }\n",
       "\n",
       "    .dataframe tbody tr th {\n",
       "        vertical-align: top;\n",
       "    }\n",
       "\n",
       "    .dataframe thead th {\n",
       "        text-align: right;\n",
       "    }\n",
       "</style>\n",
       "<table border=\"1\" class=\"dataframe\">\n",
       "  <thead>\n",
       "    <tr style=\"text-align: right;\">\n",
       "      <th></th>\n",
       "      <th>app_id</th>\n",
       "      <th>title</th>\n",
       "      <th>date_release</th>\n",
       "      <th>win</th>\n",
       "      <th>mac</th>\n",
       "      <th>linux</th>\n",
       "      <th>rating</th>\n",
       "      <th>positive_ratio</th>\n",
       "      <th>user_reviews</th>\n",
       "      <th>price_final</th>\n",
       "      <th>price_original</th>\n",
       "      <th>discount</th>\n",
       "      <th>steam_deck</th>\n",
       "      <th>description</th>\n",
       "      <th>tags</th>\n",
       "    </tr>\n",
       "  </thead>\n",
       "  <tbody>\n",
       "    <tr>\n",
       "      <th>0</th>\n",
       "      <td>13500</td>\n",
       "      <td>Prince of Persia: Warrior Within™</td>\n",
       "      <td>2008-11-21</td>\n",
       "      <td>True</td>\n",
       "      <td>False</td>\n",
       "      <td>False</td>\n",
       "      <td>Very Positive</td>\n",
       "      <td>84</td>\n",
       "      <td>2199</td>\n",
       "      <td>9.992188</td>\n",
       "      <td>9.992188</td>\n",
       "      <td>0.0</td>\n",
       "      <td>True</td>\n",
       "      <td>Enter the dark underworld of Prince of Persia ...</td>\n",
       "      <td>[Action, Adventure, Parkour, Third Person, Gre...</td>\n",
       "    </tr>\n",
       "    <tr>\n",
       "      <th>1</th>\n",
       "      <td>22364</td>\n",
       "      <td>BRINK: Agents of Change</td>\n",
       "      <td>2011-08-03</td>\n",
       "      <td>True</td>\n",
       "      <td>False</td>\n",
       "      <td>False</td>\n",
       "      <td>Positive</td>\n",
       "      <td>85</td>\n",
       "      <td>21</td>\n",
       "      <td>2.990234</td>\n",
       "      <td>2.990234</td>\n",
       "      <td>0.0</td>\n",
       "      <td>True</td>\n",
       "      <td></td>\n",
       "      <td>[Action]</td>\n",
       "    </tr>\n",
       "    <tr>\n",
       "      <th>2</th>\n",
       "      <td>113020</td>\n",
       "      <td>Monaco: What's Yours Is Mine</td>\n",
       "      <td>2013-04-24</td>\n",
       "      <td>True</td>\n",
       "      <td>True</td>\n",
       "      <td>True</td>\n",
       "      <td>Very Positive</td>\n",
       "      <td>92</td>\n",
       "      <td>3722</td>\n",
       "      <td>14.992188</td>\n",
       "      <td>14.992188</td>\n",
       "      <td>0.0</td>\n",
       "      <td>True</td>\n",
       "      <td>Monaco: What's Yours Is Mine is a single playe...</td>\n",
       "      <td>[Co-op, Stealth, Indie, Heist, Local Co-Op, St...</td>\n",
       "    </tr>\n",
       "    <tr>\n",
       "      <th>3</th>\n",
       "      <td>226560</td>\n",
       "      <td>Escape Dead Island</td>\n",
       "      <td>2014-11-18</td>\n",
       "      <td>True</td>\n",
       "      <td>False</td>\n",
       "      <td>False</td>\n",
       "      <td>Mixed</td>\n",
       "      <td>61</td>\n",
       "      <td>873</td>\n",
       "      <td>14.992188</td>\n",
       "      <td>14.992188</td>\n",
       "      <td>0.0</td>\n",
       "      <td>True</td>\n",
       "      <td>Escape Dead Island is a Survival-Mystery adven...</td>\n",
       "      <td>[Zombies, Adventure, Survival, Action, Third P...</td>\n",
       "    </tr>\n",
       "    <tr>\n",
       "      <th>4</th>\n",
       "      <td>249050</td>\n",
       "      <td>Dungeon of the ENDLESS™</td>\n",
       "      <td>2014-10-27</td>\n",
       "      <td>True</td>\n",
       "      <td>True</td>\n",
       "      <td>False</td>\n",
       "      <td>Very Positive</td>\n",
       "      <td>88</td>\n",
       "      <td>8784</td>\n",
       "      <td>11.992188</td>\n",
       "      <td>11.992188</td>\n",
       "      <td>0.0</td>\n",
       "      <td>True</td>\n",
       "      <td>Dungeon of the Endless is a Rogue-Like Dungeon...</td>\n",
       "      <td>[Roguelike, Strategy, Tower Defense, Pixel Gra...</td>\n",
       "    </tr>\n",
       "  </tbody>\n",
       "</table>\n",
       "</div>"
      ],
      "text/plain": [
       "   app_id                              title date_release   win    mac  linux  \\\n",
       "0   13500  Prince of Persia: Warrior Within™   2008-11-21  True  False  False   \n",
       "1   22364            BRINK: Agents of Change   2011-08-03  True  False  False   \n",
       "2  113020       Monaco: What's Yours Is Mine   2013-04-24  True   True   True   \n",
       "3  226560                 Escape Dead Island   2014-11-18  True  False  False   \n",
       "4  249050            Dungeon of the ENDLESS™   2014-10-27  True   True  False   \n",
       "\n",
       "          rating  positive_ratio  user_reviews  price_final  price_original  \\\n",
       "0  Very Positive              84          2199     9.992188        9.992188   \n",
       "1       Positive              85            21     2.990234        2.990234   \n",
       "2  Very Positive              92          3722    14.992188       14.992188   \n",
       "3          Mixed              61           873    14.992188       14.992188   \n",
       "4  Very Positive              88          8784    11.992188       11.992188   \n",
       "\n",
       "   discount  steam_deck                                        description  \\\n",
       "0       0.0        True  Enter the dark underworld of Prince of Persia ...   \n",
       "1       0.0        True                                                      \n",
       "2       0.0        True  Monaco: What's Yours Is Mine is a single playe...   \n",
       "3       0.0        True  Escape Dead Island is a Survival-Mystery adven...   \n",
       "4       0.0        True  Dungeon of the Endless is a Rogue-Like Dungeon...   \n",
       "\n",
       "                                                tags  \n",
       "0  [Action, Adventure, Parkour, Third Person, Gre...  \n",
       "1                                           [Action]  \n",
       "2  [Co-op, Stealth, Indie, Heist, Local Co-Op, St...  \n",
       "3  [Zombies, Adventure, Survival, Action, Third P...  \n",
       "4  [Roguelike, Strategy, Tower Defense, Pixel Gra...  "
      ]
     },
     "execution_count": 10,
     "metadata": {},
     "output_type": "execute_result"
    }
   ],
   "source": [
    "merged_df.head()"
   ]
  },
  {
   "cell_type": "code",
   "execution_count": 11,
   "id": "65b0acc1",
   "metadata": {},
   "outputs": [
    {
     "name": "stdout",
     "output_type": "stream",
     "text": [
      "<class 'pandas.core.frame.DataFrame'>\n",
      "RangeIndex: 25000 entries, 0 to 24999\n",
      "Data columns (total 15 columns):\n",
      " #   Column          Non-Null Count  Dtype  \n",
      "---  ------          --------------  -----  \n",
      " 0   app_id          25000 non-null  int32  \n",
      " 1   title           25000 non-null  object \n",
      " 2   date_release    25000 non-null  object \n",
      " 3   win             25000 non-null  bool   \n",
      " 4   mac             25000 non-null  bool   \n",
      " 5   linux           25000 non-null  bool   \n",
      " 6   rating          25000 non-null  object \n",
      " 7   positive_ratio  25000 non-null  int8   \n",
      " 8   user_reviews    25000 non-null  int32  \n",
      " 9   price_final     25000 non-null  float16\n",
      " 10  price_original  25000 non-null  float16\n",
      " 11  discount        25000 non-null  float16\n",
      " 12  steam_deck      25000 non-null  bool   \n",
      " 13  description     25000 non-null  object \n",
      " 14  tags            25000 non-null  object \n",
      "dtypes: bool(4), float16(3), int32(2), int8(1), object(5)\n",
      "memory usage: 1.4+ MB\n"
     ]
    }
   ],
   "source": [
    "merged_df.info()"
   ]
  },
  {
   "cell_type": "code",
   "execution_count": 12,
   "id": "f37ee83d",
   "metadata": {},
   "outputs": [
    {
     "data": {
      "text/plain": [
       "app_id            0\n",
       "title             0\n",
       "date_release      0\n",
       "win               0\n",
       "mac               0\n",
       "linux             0\n",
       "rating            0\n",
       "positive_ratio    0\n",
       "user_reviews      0\n",
       "price_final       0\n",
       "price_original    0\n",
       "discount          0\n",
       "steam_deck        0\n",
       "description       0\n",
       "tags              0\n",
       "dtype: int64"
      ]
     },
     "execution_count": 12,
     "metadata": {},
     "output_type": "execute_result"
    }
   ],
   "source": [
    "merged_df.isnull().sum()"
   ]
  },
  {
   "cell_type": "code",
   "execution_count": 13,
   "id": "7080cb08",
   "metadata": {},
   "outputs": [
    {
     "data": {
      "text/plain": [
       "0    Enter the dark underworld of Prince of Persia ...\n",
       "1                                                     \n",
       "Name: description, dtype: object"
      ]
     },
     "execution_count": 13,
     "metadata": {},
     "output_type": "execute_result"
    }
   ],
   "source": [
    "merged_df.head(2)['description']"
   ]
  },
  {
   "cell_type": "code",
   "execution_count": 14,
   "id": "e3856406",
   "metadata": {},
   "outputs": [
    {
     "data": {
      "text/plain": [
       "(25000, 15)"
      ]
     },
     "execution_count": 14,
     "metadata": {},
     "output_type": "execute_result"
    }
   ],
   "source": [
    "merged_df.shape"
   ]
  },
  {
   "cell_type": "code",
   "execution_count": 15,
   "id": "acebcfef",
   "metadata": {},
   "outputs": [
    {
     "data": {
      "text/plain": [
       "5698"
      ]
     },
     "execution_count": 15,
     "metadata": {},
     "output_type": "execute_result"
    }
   ],
   "source": [
    "(merged_df.description == '').sum()"
   ]
  },
  {
   "cell_type": "code",
   "execution_count": 16,
   "id": "4d690b8a",
   "metadata": {},
   "outputs": [
    {
     "data": {
      "text/plain": [
       "0"
      ]
     },
     "execution_count": 16,
     "metadata": {},
     "output_type": "execute_result"
    }
   ],
   "source": [
    "(merged_df.tags == '').sum()"
   ]
  },
  {
   "cell_type": "code",
   "execution_count": 17,
   "id": "8d029338",
   "metadata": {},
   "outputs": [
    {
     "name": "stderr",
     "output_type": "stream",
     "text": [
      "C:\\Users\\adity\\AppData\\Local\\Temp\\ipykernel_18320\\3244489934.py:2: SettingWithCopyWarning: \n",
      "A value is trying to be set on a copy of a slice from a DataFrame\n",
      "\n",
      "See the caveats in the documentation: https://pandas.pydata.org/pandas-docs/stable/user_guide/indexing.html#returning-a-view-versus-a-copy\n",
      "  merged_dropped_df.drop(columns = ['rating','price_original','discount','steam_deck'],inplace=True)\n"
     ]
    },
    {
     "data": {
      "text/html": [
       "<div>\n",
       "<style scoped>\n",
       "    .dataframe tbody tr th:only-of-type {\n",
       "        vertical-align: middle;\n",
       "    }\n",
       "\n",
       "    .dataframe tbody tr th {\n",
       "        vertical-align: top;\n",
       "    }\n",
       "\n",
       "    .dataframe thead th {\n",
       "        text-align: right;\n",
       "    }\n",
       "</style>\n",
       "<table border=\"1\" class=\"dataframe\">\n",
       "  <thead>\n",
       "    <tr style=\"text-align: right;\">\n",
       "      <th></th>\n",
       "      <th>app_id</th>\n",
       "      <th>title</th>\n",
       "      <th>date_release</th>\n",
       "      <th>win</th>\n",
       "      <th>mac</th>\n",
       "      <th>linux</th>\n",
       "      <th>positive_ratio</th>\n",
       "      <th>user_reviews</th>\n",
       "      <th>price_final</th>\n",
       "      <th>description</th>\n",
       "      <th>tags</th>\n",
       "    </tr>\n",
       "  </thead>\n",
       "  <tbody>\n",
       "    <tr>\n",
       "      <th>0</th>\n",
       "      <td>13500</td>\n",
       "      <td>Prince of Persia: Warrior Within™</td>\n",
       "      <td>2008-11-21</td>\n",
       "      <td>True</td>\n",
       "      <td>False</td>\n",
       "      <td>False</td>\n",
       "      <td>84</td>\n",
       "      <td>2199</td>\n",
       "      <td>9.992188</td>\n",
       "      <td>Enter the dark underworld of Prince of Persia ...</td>\n",
       "      <td>[Action, Adventure, Parkour, Third Person, Gre...</td>\n",
       "    </tr>\n",
       "    <tr>\n",
       "      <th>2</th>\n",
       "      <td>113020</td>\n",
       "      <td>Monaco: What's Yours Is Mine</td>\n",
       "      <td>2013-04-24</td>\n",
       "      <td>True</td>\n",
       "      <td>True</td>\n",
       "      <td>True</td>\n",
       "      <td>92</td>\n",
       "      <td>3722</td>\n",
       "      <td>14.992188</td>\n",
       "      <td>Monaco: What's Yours Is Mine is a single playe...</td>\n",
       "      <td>[Co-op, Stealth, Indie, Heist, Local Co-Op, St...</td>\n",
       "    </tr>\n",
       "    <tr>\n",
       "      <th>3</th>\n",
       "      <td>226560</td>\n",
       "      <td>Escape Dead Island</td>\n",
       "      <td>2014-11-18</td>\n",
       "      <td>True</td>\n",
       "      <td>False</td>\n",
       "      <td>False</td>\n",
       "      <td>61</td>\n",
       "      <td>873</td>\n",
       "      <td>14.992188</td>\n",
       "      <td>Escape Dead Island is a Survival-Mystery adven...</td>\n",
       "      <td>[Zombies, Adventure, Survival, Action, Third P...</td>\n",
       "    </tr>\n",
       "    <tr>\n",
       "      <th>4</th>\n",
       "      <td>249050</td>\n",
       "      <td>Dungeon of the ENDLESS™</td>\n",
       "      <td>2014-10-27</td>\n",
       "      <td>True</td>\n",
       "      <td>True</td>\n",
       "      <td>False</td>\n",
       "      <td>88</td>\n",
       "      <td>8784</td>\n",
       "      <td>11.992188</td>\n",
       "      <td>Dungeon of the Endless is a Rogue-Like Dungeon...</td>\n",
       "      <td>[Roguelike, Strategy, Tower Defense, Pixel Gra...</td>\n",
       "    </tr>\n",
       "    <tr>\n",
       "      <th>5</th>\n",
       "      <td>250180</td>\n",
       "      <td>METAL SLUG 3</td>\n",
       "      <td>2015-09-14</td>\n",
       "      <td>True</td>\n",
       "      <td>False</td>\n",
       "      <td>False</td>\n",
       "      <td>90</td>\n",
       "      <td>5579</td>\n",
       "      <td>7.988281</td>\n",
       "      <td>“METAL SLUG 3”, the masterpiece in SNK’s emble...</td>\n",
       "      <td>[Arcade, Classic, Action, Co-op, Side Scroller...</td>\n",
       "    </tr>\n",
       "  </tbody>\n",
       "</table>\n",
       "</div>"
      ],
      "text/plain": [
       "   app_id                              title date_release   win    mac  linux  \\\n",
       "0   13500  Prince of Persia: Warrior Within™   2008-11-21  True  False  False   \n",
       "2  113020       Monaco: What's Yours Is Mine   2013-04-24  True   True   True   \n",
       "3  226560                 Escape Dead Island   2014-11-18  True  False  False   \n",
       "4  249050            Dungeon of the ENDLESS™   2014-10-27  True   True  False   \n",
       "5  250180                       METAL SLUG 3   2015-09-14  True  False  False   \n",
       "\n",
       "   positive_ratio  user_reviews  price_final  \\\n",
       "0              84          2199     9.992188   \n",
       "2              92          3722    14.992188   \n",
       "3              61           873    14.992188   \n",
       "4              88          8784    11.992188   \n",
       "5              90          5579     7.988281   \n",
       "\n",
       "                                         description  \\\n",
       "0  Enter the dark underworld of Prince of Persia ...   \n",
       "2  Monaco: What's Yours Is Mine is a single playe...   \n",
       "3  Escape Dead Island is a Survival-Mystery adven...   \n",
       "4  Dungeon of the Endless is a Rogue-Like Dungeon...   \n",
       "5  “METAL SLUG 3”, the masterpiece in SNK’s emble...   \n",
       "\n",
       "                                                tags  \n",
       "0  [Action, Adventure, Parkour, Third Person, Gre...  \n",
       "2  [Co-op, Stealth, Indie, Heist, Local Co-Op, St...  \n",
       "3  [Zombies, Adventure, Survival, Action, Third P...  \n",
       "4  [Roguelike, Strategy, Tower Defense, Pixel Gra...  \n",
       "5  [Arcade, Classic, Action, Co-op, Side Scroller...  "
      ]
     },
     "execution_count": 17,
     "metadata": {},
     "output_type": "execute_result"
    }
   ],
   "source": [
    "merged_dropped_df = merged_df[merged_df.description != '']\n",
    "merged_dropped_df.drop(columns = ['rating','price_original','discount','steam_deck'],inplace=True)\n",
    "merged_dropped_df.head()"
   ]
  },
  {
   "cell_type": "code",
   "execution_count": 18,
   "id": "4f020f34",
   "metadata": {},
   "outputs": [],
   "source": [
    "merged_dropped_df.reset_index(inplace=True,drop=True)"
   ]
  },
  {
   "cell_type": "code",
   "execution_count": 19,
   "id": "be18e3dd",
   "metadata": {},
   "outputs": [
    {
     "data": {
      "text/plain": [
       "(19302, 11)"
      ]
     },
     "execution_count": 19,
     "metadata": {},
     "output_type": "execute_result"
    }
   ],
   "source": [
    "merged_dropped_df.shape"
   ]
  },
  {
   "cell_type": "code",
   "execution_count": 20,
   "id": "8acf80ff",
   "metadata": {},
   "outputs": [
    {
     "data": {
      "text/plain": [
       "0"
      ]
     },
     "execution_count": 20,
     "metadata": {},
     "output_type": "execute_result"
    }
   ],
   "source": [
    "(merged_dropped_df.description == '').sum()"
   ]
  },
  {
   "cell_type": "code",
   "execution_count": 21,
   "id": "fd913047",
   "metadata": {},
   "outputs": [
    {
     "data": {
      "text/plain": [
       "Index([], dtype='int64')"
      ]
     },
     "execution_count": 21,
     "metadata": {},
     "output_type": "execute_result"
    }
   ],
   "source": [
    "merged_dropped_df[merged_dropped_df['tags'] == ''].index"
   ]
  },
  {
   "cell_type": "code",
   "execution_count": 22,
   "id": "2acbed9f",
   "metadata": {},
   "outputs": [
    {
     "data": {
      "text/html": [
       "<div>\n",
       "<style scoped>\n",
       "    .dataframe tbody tr th:only-of-type {\n",
       "        vertical-align: middle;\n",
       "    }\n",
       "\n",
       "    .dataframe tbody tr th {\n",
       "        vertical-align: top;\n",
       "    }\n",
       "\n",
       "    .dataframe thead th {\n",
       "        text-align: right;\n",
       "    }\n",
       "</style>\n",
       "<table border=\"1\" class=\"dataframe\">\n",
       "  <thead>\n",
       "    <tr style=\"text-align: right;\">\n",
       "      <th></th>\n",
       "      <th>app_id</th>\n",
       "      <th>title</th>\n",
       "      <th>date_release</th>\n",
       "      <th>win</th>\n",
       "      <th>mac</th>\n",
       "      <th>linux</th>\n",
       "      <th>positive_ratio</th>\n",
       "      <th>user_reviews</th>\n",
       "      <th>price_final</th>\n",
       "      <th>description</th>\n",
       "      <th>tags</th>\n",
       "    </tr>\n",
       "  </thead>\n",
       "  <tbody>\n",
       "    <tr>\n",
       "      <th>0</th>\n",
       "      <td>13500</td>\n",
       "      <td>Prince of Persia: Warrior Within™</td>\n",
       "      <td>2008-11-21</td>\n",
       "      <td>True</td>\n",
       "      <td>False</td>\n",
       "      <td>False</td>\n",
       "      <td>84</td>\n",
       "      <td>2199</td>\n",
       "      <td>9.992188</td>\n",
       "      <td>Enter the dark underworld of Prince of Persia ...</td>\n",
       "      <td>[Action, Adventure, Parkour, Third Person, Gre...</td>\n",
       "    </tr>\n",
       "    <tr>\n",
       "      <th>1</th>\n",
       "      <td>113020</td>\n",
       "      <td>Monaco: What's Yours Is Mine</td>\n",
       "      <td>2013-04-24</td>\n",
       "      <td>True</td>\n",
       "      <td>True</td>\n",
       "      <td>True</td>\n",
       "      <td>92</td>\n",
       "      <td>3722</td>\n",
       "      <td>14.992188</td>\n",
       "      <td>Monaco: What's Yours Is Mine is a single playe...</td>\n",
       "      <td>[Co-op, Stealth, Indie, Heist, Local Co-Op, St...</td>\n",
       "    </tr>\n",
       "    <tr>\n",
       "      <th>2</th>\n",
       "      <td>226560</td>\n",
       "      <td>Escape Dead Island</td>\n",
       "      <td>2014-11-18</td>\n",
       "      <td>True</td>\n",
       "      <td>False</td>\n",
       "      <td>False</td>\n",
       "      <td>61</td>\n",
       "      <td>873</td>\n",
       "      <td>14.992188</td>\n",
       "      <td>Escape Dead Island is a Survival-Mystery adven...</td>\n",
       "      <td>[Zombies, Adventure, Survival, Action, Third P...</td>\n",
       "    </tr>\n",
       "    <tr>\n",
       "      <th>3</th>\n",
       "      <td>249050</td>\n",
       "      <td>Dungeon of the ENDLESS™</td>\n",
       "      <td>2014-10-27</td>\n",
       "      <td>True</td>\n",
       "      <td>True</td>\n",
       "      <td>False</td>\n",
       "      <td>88</td>\n",
       "      <td>8784</td>\n",
       "      <td>11.992188</td>\n",
       "      <td>Dungeon of the Endless is a Rogue-Like Dungeon...</td>\n",
       "      <td>[Roguelike, Strategy, Tower Defense, Pixel Gra...</td>\n",
       "    </tr>\n",
       "    <tr>\n",
       "      <th>4</th>\n",
       "      <td>250180</td>\n",
       "      <td>METAL SLUG 3</td>\n",
       "      <td>2015-09-14</td>\n",
       "      <td>True</td>\n",
       "      <td>False</td>\n",
       "      <td>False</td>\n",
       "      <td>90</td>\n",
       "      <td>5579</td>\n",
       "      <td>7.988281</td>\n",
       "      <td>“METAL SLUG 3”, the masterpiece in SNK’s emble...</td>\n",
       "      <td>[Arcade, Classic, Action, Co-op, Side Scroller...</td>\n",
       "    </tr>\n",
       "  </tbody>\n",
       "</table>\n",
       "</div>"
      ],
      "text/plain": [
       "   app_id                              title date_release   win    mac  linux  \\\n",
       "0   13500  Prince of Persia: Warrior Within™   2008-11-21  True  False  False   \n",
       "1  113020       Monaco: What's Yours Is Mine   2013-04-24  True   True   True   \n",
       "2  226560                 Escape Dead Island   2014-11-18  True  False  False   \n",
       "3  249050            Dungeon of the ENDLESS™   2014-10-27  True   True  False   \n",
       "4  250180                       METAL SLUG 3   2015-09-14  True  False  False   \n",
       "\n",
       "   positive_ratio  user_reviews  price_final  \\\n",
       "0              84          2199     9.992188   \n",
       "1              92          3722    14.992188   \n",
       "2              61           873    14.992188   \n",
       "3              88          8784    11.992188   \n",
       "4              90          5579     7.988281   \n",
       "\n",
       "                                         description  \\\n",
       "0  Enter the dark underworld of Prince of Persia ...   \n",
       "1  Monaco: What's Yours Is Mine is a single playe...   \n",
       "2  Escape Dead Island is a Survival-Mystery adven...   \n",
       "3  Dungeon of the Endless is a Rogue-Like Dungeon...   \n",
       "4  “METAL SLUG 3”, the masterpiece in SNK’s emble...   \n",
       "\n",
       "                                                tags  \n",
       "0  [Action, Adventure, Parkour, Third Person, Gre...  \n",
       "1  [Co-op, Stealth, Indie, Heist, Local Co-Op, St...  \n",
       "2  [Zombies, Adventure, Survival, Action, Third P...  \n",
       "3  [Roguelike, Strategy, Tower Defense, Pixel Gra...  \n",
       "4  [Arcade, Classic, Action, Co-op, Side Scroller...  "
      ]
     },
     "execution_count": 22,
     "metadata": {},
     "output_type": "execute_result"
    }
   ],
   "source": [
    "merged_dropped_df.head()"
   ]
  },
  {
   "cell_type": "code",
   "execution_count": 23,
   "id": "2b8a9fe0",
   "metadata": {
    "scrolled": true
   },
   "outputs": [
    {
     "name": "stderr",
     "output_type": "stream",
     "text": [
      "C:\\Users\\adity\\anaconda3\\lib\\site-packages\\sklearn\\feature_extraction\\text.py:525: UserWarning: The parameter 'token_pattern' will not be used since 'tokenizer' is not None'\n",
      "  warnings.warn(\n"
     ]
    }
   ],
   "source": [
    "from sklearn.feature_extraction.text import TfidfVectorizer\n",
    "\n",
    "tfidf = TfidfVectorizer(preprocessor=lambda x: x, tokenizer=lambda x: x)\n",
    "tfidf_matrix = tfidf.fit_transform(merged_dropped_df['tags'])"
   ]
  },
  {
   "cell_type": "code",
   "execution_count": 24,
   "id": "f8e89ed7",
   "metadata": {},
   "outputs": [
    {
     "data": {
      "text/plain": [
       "scipy.sparse._csr.csr_matrix"
      ]
     },
     "execution_count": 24,
     "metadata": {},
     "output_type": "execute_result"
    }
   ],
   "source": [
    "type(tfidf_matrix)"
   ]
  },
  {
   "cell_type": "code",
   "execution_count": 25,
   "id": "12314ddf",
   "metadata": {},
   "outputs": [],
   "source": [
    "# changing datatype to float32 to reduce the size of matrix\n",
    "tfidf_matrix = tfidf_matrix.astype(np.float32)"
   ]
  },
  {
   "cell_type": "code",
   "execution_count": 26,
   "id": "372fd7b0",
   "metadata": {},
   "outputs": [
    {
     "data": {
      "text/plain": [
       "<19302x440 sparse matrix of type '<class 'numpy.float32'>'\n",
       "\twith 277801 stored elements in Compressed Sparse Row format>"
      ]
     },
     "execution_count": 26,
     "metadata": {},
     "output_type": "execute_result"
    }
   ],
   "source": [
    "tfidf_matrix"
   ]
  },
  {
   "cell_type": "code",
   "execution_count": 27,
   "id": "b85c61e4",
   "metadata": {},
   "outputs": [],
   "source": [
    "from sklearn.metrics.pairwise import linear_kernel\n",
    "\n",
    "cosine_similarities = linear_kernel(tfidf_matrix, tfidf_matrix)"
   ]
  },
  {
   "cell_type": "code",
   "execution_count": 28,
   "id": "cc2afc18",
   "metadata": {},
   "outputs": [
    {
     "name": "stdout",
     "output_type": "stream",
     "text": [
      "class:  ndarray\n",
      "shape:  (19302, 19302)\n",
      "strides:  (77208, 4)\n",
      "itemsize:  4\n",
      "aligned:  True\n",
      "contiguous:  True\n",
      "fortran:  False\n",
      "data pointer: 0x217eabf4040\n",
      "byteorder:  little\n",
      "byteswap:  False\n",
      "type: float32\n"
     ]
    }
   ],
   "source": [
    "np.info(cosine_similarities)"
   ]
  },
  {
   "cell_type": "code",
   "execution_count": 29,
   "id": "0c6403d9",
   "metadata": {
    "scrolled": true
   },
   "outputs": [
    {
     "name": "stdout",
     "output_type": "stream",
     "text": [
      "[[1.         0.11841002 0.2902425  ... 0.02138782 0.02776869 0.01288863]\n",
      " [0.11841002 1.         0.20798786 ... 0.06144305 0.04810725 0.18735501]\n",
      " [0.2902425  0.20798786 1.0000001  ... 0.02404065 0.03121298 0.13901824]\n",
      " ...\n",
      " [0.02138782 0.06144305 0.02404065 ... 1.         0.01835446 0.04091856]\n",
      " [0.02776869 0.04810725 0.03121298 ... 0.01835446 1.0000001  0.06251881]\n",
      " [0.01288863 0.18735501 0.13901824 ... 0.04091856 0.06251881 1.        ]]\n"
     ]
    }
   ],
   "source": [
    "print(cosine_similarities)"
   ]
  },
  {
   "cell_type": "code",
   "execution_count": 30,
   "id": "265e3bfd",
   "metadata": {},
   "outputs": [
    {
     "data": {
      "text/plain": [
       "[(0, 1.0),\n",
       " (6966, 0.819259),\n",
       " (13818, 0.7692456),\n",
       " (9352, 0.62272024),\n",
       " (3858, 0.57727706),\n",
       " (14122, 0.53723115),\n",
       " (10997, 0.5073534),\n",
       " (6611, 0.5025027),\n",
       " (13283, 0.49941248),\n",
       " (12983, 0.4955979)]"
      ]
     },
     "execution_count": 30,
     "metadata": {},
     "output_type": "execute_result"
    }
   ],
   "source": [
    "sorted(list(enumerate(cosine_similarities[0])),reverse=True,key=lambda x : x[1])[:10]"
   ]
  },
  {
   "cell_type": "code",
   "execution_count": 31,
   "id": "190e9b84",
   "metadata": {},
   "outputs": [],
   "source": [
    "def recommend(game):\n",
    "    game_index = merged_dropped_df[merged_dropped_df['title'] == game].index[0]\n",
    "    # game_index = merged_dropped_df[merged_dropped_df['title'].str.contains(game)]\n",
    "    \n",
    "    game_list = sorted(list(enumerate(cosine_similarities[game_index])),reverse=True,key=lambda x : x[1])[1:6]\n",
    "    \n",
    "    for i in game_list:\n",
    "        print('\\033[1m' + merged_dropped_df['title'].iloc[i[0]] + '\\033[0m')\n",
    "        print('Price : $',merged_dropped_df['price_final'].iloc[i[0]])\n",
    "        print('Description :',merged_dropped_df['description'].iloc[i[0]])\n",
    "        print('')   "
   ]
  },
  {
   "cell_type": "code",
   "execution_count": 32,
   "id": "0e971360",
   "metadata": {},
   "outputs": [
    {
     "name": "stdout",
     "output_type": "stream",
     "text": [
      "\u001b[1mPrince of Persia®: The Sands of Time\u001b[0m\n",
      "Price : $ 9.99\n",
      "Description : Amidst the scorched sands of ancient Persia, there is a legend spun in an ancient tongue. It speaks of a time borne by blood and ruled by deceit. Drawn to the dark powers of a magic dagger, a young Prince is led to unleash a deadly evil upon a beautiful kingdom.\n",
      "\n",
      "\u001b[1mPrince of Persia: The Two Thrones™\u001b[0m\n",
      "Price : $ 9.99\n",
      "Description : The Prince of Persia, a seasoned warrior, returns from the Island of Time to Babylon with his love, Kaileena. Instead of the peace that he longs for, he finds his homeland ravaged by war and the kingdom turned against him.\n",
      "\n",
      "\u001b[1mPrince of Persia: The Forgotten Sands™\u001b[0m\n",
      "Price : $ 9.99\n",
      "Description : Prince of Persia The Forgotten Sands is the next chapter in the fan-favorite Sands of Time universe. Visiting his brother's kingdom following his adventure in Azad, the Prince finds the royal palace under siege from a mighty army bent on its destruction.\n",
      "\n",
      "\u001b[1mDarksiders II Deathinitive Edition\u001b[0m\n",
      "Price : $ 29.98\n",
      "Description : The ultimate DARKSIDERS II experience! 1080p native resolution. Reworked and tuned game balancing and loot distribution. Improved Graphic Render Engine for even higher visual quality, lighting and shadows. Improved and reworked level, character and environment graphics.\n",
      "\n",
      "\u001b[1mPrince of Persia®\u001b[0m\n",
      "Price : $ 9.99\n",
      "Description : The critically acclaimed Prince of Persia® franchise returns for the first time on next-generation platforms with an all-new epic journey. Built by the same award-winning Ubisoft Montreal studio that created Assassin's Creed™, Prince of Persia has been in development for over three years to deliver a whole new action-adventure gaming...\n",
      "\n"
     ]
    }
   ],
   "source": [
    "recommend('Prince of Persia: Warrior Within™')"
   ]
  },
  {
   "cell_type": "code",
   "execution_count": 33,
   "id": "12a28d8e",
   "metadata": {
    "scrolled": false
   },
   "outputs": [
    {
     "name": "stdout",
     "output_type": "stream",
     "text": [
      "\u001b[1mSpriter Pro\u001b[0m\n",
      "Price : $ 60.0\n",
      "Description : Spriter makes it easy for anyone, regardless of experience, to create 2D game animations using a technique called Modular Animation. Individual sprite pieces can be attached to bones and then easily animated with the powerful, yet easy to use toolset.\n",
      "\n",
      "\u001b[1mSubstance 3D Designer 2023\u001b[0m\n",
      "Price : $ 150.0\n",
      "Description : Adobe Substance 3D Designer is the industry's reference 3D Material Creation app. More than 95% of AAA game projects currently in development use Substance 3D as well as the most prestigious visual effects and animation studios.\n",
      "\n",
      "\u001b[1mMarmoset Hexels 3\u001b[0m\n",
      "Price : $ 49.0\n",
      "Description : Marmoset Hexels™ is a grid-based painting tool for vector art, pixel art, design, and animation. A geometric canvas grid lets artists create complex pixel and vector designs with the stroke of a brush.\n",
      "\n",
      "\u001b[1mPixelOver\u001b[0m\n",
      "Price : $ 19.98\n",
      "Description : PixelOver is a software to transform your arts to pixel arts as best as possible, animate in realtime with pixel perfect transformations, bones and key animation system.\n",
      "\n",
      "\u001b[1mGame Character Hub: Portfolio Edition\u001b[0m\n",
      "Price : $ 24.98\n",
      "Description : Game Character Hub: Portfolio Edition is the ultimate program for creating and editing 2D game assets! It provides a built-in generator for character and tileset creation. This was made to be compatible with RPG Maker XP, VX, VX Ace, and MV, but should also work with other 2D game engines.\n",
      "\n"
     ]
    }
   ],
   "source": [
    "recommend('RPG in a Box')"
   ]
  },
  {
   "cell_type": "code",
   "execution_count": 34,
   "id": "0159215c",
   "metadata": {},
   "outputs": [
    {
     "name": "stdout",
     "output_type": "stream",
     "text": [
      "\u001b[1mSlain: Back from Hell\u001b[0m\n",
      "Price : $ 12.99\n",
      "Description : Slain: Back from Hell. A heavy metal inspired arcade combat with puzzle elements and gore galore. Stunning visuals and true old school gameplay accompanied by the most metal soundtrack you've ever heard.\n",
      "\n",
      "\u001b[1mThe Tarnishing of Juxtia\u001b[0m\n",
      "Price : $ 24.98\n",
      "Description : As the final creation of the Goddess, Juxtia, journey through the ruins of two divine kingdoms, overrun by the Tarnishing. Challenging combat, a hauntingly beautiful score, and a sinister narrative work in unison to make The Tarnishing of Juxtia an unforgettable 2D dark fantasy action RPG.\n",
      "\n",
      "\u001b[1mCastlevania: Lords of Shadow – Mirror of Fate HD\u001b[0m\n",
      "Price : $ 14.99\n",
      "Description : This sequel to Castlevania: Lords of Shadow reveals the story of the Belmonts as they battle destiny across generations to discover their true fate. Trevor Belmont, knight of the Brotherhood of Light, embarks on an epic quest to avenge his mother who was killed by his father Gabriel.\n",
      "\n",
      "\u001b[1mGuild of Darksteel\u001b[0m\n",
      "Price : $ 12.99\n",
      "Description : Guild of Darksteel is a story-driven adventure game set in a rich, dark fantasy world. As the immortal Sellsword, you must unearth an evil plot brewing beneath the city of Ravenrock. Only you can discover the true horror lurking under the city’s surface.\n",
      "\n",
      "\u001b[1mPowernaut VANGARDT\u001b[0m\n",
      "Price : $ 0.99\n",
      "Description : Fight for your life in this state-of-the-art 8-bit platformer!\n",
      "\n"
     ]
    }
   ],
   "source": [
    "recommend('Elderand')"
   ]
  },
  {
   "cell_type": "markdown",
   "id": "3b4e1aaf",
   "metadata": {},
   "source": [
    "# Collaborative Filtering"
   ]
  },
  {
   "cell_type": "code",
   "execution_count": 35,
   "id": "bc9e8fae",
   "metadata": {},
   "outputs": [
    {
     "name": "stdout",
     "output_type": "stream",
     "text": [
      "Memory usage of dataframe is 54.36 MB\n",
      "Memory usage after optimization is: 25.75 MB\n",
      "Decreased by 52.6%\n",
      "\n",
      "<class 'pandas.core.frame.DataFrame'>\n",
      "RangeIndex: 1000000 entries, 0 to 999999\n",
      "Data columns (total 8 columns):\n",
      " #   Column          Non-Null Count    Dtype  \n",
      "---  ------          --------------    -----  \n",
      " 0   app_id          1000000 non-null  int32  \n",
      " 1   helpful         1000000 non-null  int16  \n",
      " 2   funny           1000000 non-null  int16  \n",
      " 3   date            1000000 non-null  object \n",
      " 4   is_recommended  1000000 non-null  bool   \n",
      " 5   hours           1000000 non-null  float16\n",
      " 6   user_id         1000000 non-null  int32  \n",
      " 7   review_id       1000000 non-null  int32  \n",
      "dtypes: bool(1), float16(1), int16(2), int32(3), object(1)\n",
      "memory usage: 25.7+ MB\n"
     ]
    }
   ],
   "source": [
    "recommendations_df = reduce_mem_usage(pd.read_csv('recommendations.csv',nrows = 1000000))\n",
    "print('')\n",
    "recommendations_df.info()"
   ]
  },
  {
   "cell_type": "code",
   "execution_count": 36,
   "id": "13dcd51b",
   "metadata": {
    "scrolled": true
   },
   "outputs": [
    {
     "data": {
      "text/html": [
       "<div>\n",
       "<style scoped>\n",
       "    .dataframe tbody tr th:only-of-type {\n",
       "        vertical-align: middle;\n",
       "    }\n",
       "\n",
       "    .dataframe tbody tr th {\n",
       "        vertical-align: top;\n",
       "    }\n",
       "\n",
       "    .dataframe thead th {\n",
       "        text-align: right;\n",
       "    }\n",
       "</style>\n",
       "<table border=\"1\" class=\"dataframe\">\n",
       "  <thead>\n",
       "    <tr style=\"text-align: right;\">\n",
       "      <th></th>\n",
       "      <th>app_id</th>\n",
       "      <th>helpful</th>\n",
       "      <th>funny</th>\n",
       "      <th>date</th>\n",
       "      <th>is_recommended</th>\n",
       "      <th>hours</th>\n",
       "      <th>user_id</th>\n",
       "      <th>review_id</th>\n",
       "    </tr>\n",
       "  </thead>\n",
       "  <tbody>\n",
       "    <tr>\n",
       "      <th>0</th>\n",
       "      <td>975370</td>\n",
       "      <td>0</td>\n",
       "      <td>0</td>\n",
       "      <td>2022-12-12</td>\n",
       "      <td>True</td>\n",
       "      <td>36.312500</td>\n",
       "      <td>49078</td>\n",
       "      <td>0</td>\n",
       "    </tr>\n",
       "    <tr>\n",
       "      <th>1</th>\n",
       "      <td>304390</td>\n",
       "      <td>4</td>\n",
       "      <td>0</td>\n",
       "      <td>2017-02-17</td>\n",
       "      <td>False</td>\n",
       "      <td>11.500000</td>\n",
       "      <td>2461</td>\n",
       "      <td>1</td>\n",
       "    </tr>\n",
       "    <tr>\n",
       "      <th>2</th>\n",
       "      <td>1085660</td>\n",
       "      <td>2</td>\n",
       "      <td>0</td>\n",
       "      <td>2019-11-17</td>\n",
       "      <td>True</td>\n",
       "      <td>336.500000</td>\n",
       "      <td>240559</td>\n",
       "      <td>2</td>\n",
       "    </tr>\n",
       "    <tr>\n",
       "      <th>3</th>\n",
       "      <td>703080</td>\n",
       "      <td>0</td>\n",
       "      <td>0</td>\n",
       "      <td>2022-09-23</td>\n",
       "      <td>True</td>\n",
       "      <td>27.406250</td>\n",
       "      <td>245798</td>\n",
       "      <td>3</td>\n",
       "    </tr>\n",
       "    <tr>\n",
       "      <th>4</th>\n",
       "      <td>526870</td>\n",
       "      <td>0</td>\n",
       "      <td>0</td>\n",
       "      <td>2021-01-10</td>\n",
       "      <td>True</td>\n",
       "      <td>7.898438</td>\n",
       "      <td>22629</td>\n",
       "      <td>4</td>\n",
       "    </tr>\n",
       "  </tbody>\n",
       "</table>\n",
       "</div>"
      ],
      "text/plain": [
       "    app_id  helpful  funny        date  is_recommended       hours  user_id  \\\n",
       "0   975370        0      0  2022-12-12            True   36.312500    49078   \n",
       "1   304390        4      0  2017-02-17           False   11.500000     2461   \n",
       "2  1085660        2      0  2019-11-17            True  336.500000   240559   \n",
       "3   703080        0      0  2022-09-23            True   27.406250   245798   \n",
       "4   526870        0      0  2021-01-10            True    7.898438    22629   \n",
       "\n",
       "   review_id  \n",
       "0          0  \n",
       "1          1  \n",
       "2          2  \n",
       "3          3  \n",
       "4          4  "
      ]
     },
     "execution_count": 36,
     "metadata": {},
     "output_type": "execute_result"
    }
   ],
   "source": [
    "recommendations_df.head()"
   ]
  },
  {
   "cell_type": "code",
   "execution_count": 37,
   "id": "83e2d5d9",
   "metadata": {},
   "outputs": [
    {
     "data": {
      "text/plain": [
       "app_id            0\n",
       "helpful           0\n",
       "funny             0\n",
       "date              0\n",
       "is_recommended    0\n",
       "hours             0\n",
       "user_id           0\n",
       "review_id         0\n",
       "dtype: int64"
      ]
     },
     "execution_count": 37,
     "metadata": {},
     "output_type": "execute_result"
    }
   ],
   "source": [
    "recommendations_df.isnull().sum()"
   ]
  },
  {
   "cell_type": "code",
   "execution_count": 38,
   "id": "1491847e",
   "metadata": {},
   "outputs": [],
   "source": [
    "recommendations_df.drop(columns = ['helpful','funny','review_id'],inplace=True)"
   ]
  },
  {
   "cell_type": "code",
   "execution_count": 39,
   "id": "86a9e657",
   "metadata": {},
   "outputs": [
    {
     "data": {
      "text/html": [
       "<div>\n",
       "<style scoped>\n",
       "    .dataframe tbody tr th:only-of-type {\n",
       "        vertical-align: middle;\n",
       "    }\n",
       "\n",
       "    .dataframe tbody tr th {\n",
       "        vertical-align: top;\n",
       "    }\n",
       "\n",
       "    .dataframe thead th {\n",
       "        text-align: right;\n",
       "    }\n",
       "</style>\n",
       "<table border=\"1\" class=\"dataframe\">\n",
       "  <thead>\n",
       "    <tr style=\"text-align: right;\">\n",
       "      <th></th>\n",
       "      <th>app_id</th>\n",
       "      <th>date</th>\n",
       "      <th>is_recommended</th>\n",
       "      <th>hours</th>\n",
       "      <th>user_id</th>\n",
       "    </tr>\n",
       "  </thead>\n",
       "  <tbody>\n",
       "    <tr>\n",
       "      <th>0</th>\n",
       "      <td>975370</td>\n",
       "      <td>2022-12-12</td>\n",
       "      <td>True</td>\n",
       "      <td>36.312500</td>\n",
       "      <td>49078</td>\n",
       "    </tr>\n",
       "    <tr>\n",
       "      <th>1</th>\n",
       "      <td>304390</td>\n",
       "      <td>2017-02-17</td>\n",
       "      <td>False</td>\n",
       "      <td>11.500000</td>\n",
       "      <td>2461</td>\n",
       "    </tr>\n",
       "    <tr>\n",
       "      <th>2</th>\n",
       "      <td>1085660</td>\n",
       "      <td>2019-11-17</td>\n",
       "      <td>True</td>\n",
       "      <td>336.500000</td>\n",
       "      <td>240559</td>\n",
       "    </tr>\n",
       "    <tr>\n",
       "      <th>3</th>\n",
       "      <td>703080</td>\n",
       "      <td>2022-09-23</td>\n",
       "      <td>True</td>\n",
       "      <td>27.406250</td>\n",
       "      <td>245798</td>\n",
       "    </tr>\n",
       "    <tr>\n",
       "      <th>4</th>\n",
       "      <td>526870</td>\n",
       "      <td>2021-01-10</td>\n",
       "      <td>True</td>\n",
       "      <td>7.898438</td>\n",
       "      <td>22629</td>\n",
       "    </tr>\n",
       "  </tbody>\n",
       "</table>\n",
       "</div>"
      ],
      "text/plain": [
       "    app_id        date  is_recommended       hours  user_id\n",
       "0   975370  2022-12-12            True   36.312500    49078\n",
       "1   304390  2017-02-17           False   11.500000     2461\n",
       "2  1085660  2019-11-17            True  336.500000   240559\n",
       "3   703080  2022-09-23            True   27.406250   245798\n",
       "4   526870  2021-01-10            True    7.898438    22629"
      ]
     },
     "execution_count": 39,
     "metadata": {},
     "output_type": "execute_result"
    }
   ],
   "source": [
    "recommendations_df.head()"
   ]
  },
  {
   "cell_type": "code",
   "execution_count": 40,
   "id": "0217162d",
   "metadata": {},
   "outputs": [
    {
     "data": {
      "text/plain": [
       "[845194, 154806]"
      ]
     },
     "execution_count": 40,
     "metadata": {},
     "output_type": "execute_result"
    }
   ],
   "source": [
    "# counting the values of is_recommended == True\n",
    "is_recom_true = recommendations_df['is_recommended'].value_counts()[True]\n",
    "is_recom_list = [is_recom_true,1000000-is_recom_true]\n",
    "is_recom_list"
   ]
  },
  {
   "cell_type": "code",
   "execution_count": 41,
   "id": "0bf26500",
   "metadata": {},
   "outputs": [
    {
     "data": {
      "image/png": "[encoded data removed]",
      "text/plain": [
       "<Figure size 640x480 with 1 Axes>"
      ]
     },
     "metadata": {},
     "output_type": "display_data"
    }
   ],
   "source": [
    "plt.pie(is_recom_list,labels = ['Recommended','Not Recommended'],startangle = 70,autopct='%1.2f%%')\n",
    "plt.title('Game recommendation')\n",
    "plt.show()"
   ]
  },
  {
   "cell_type": "code",
   "execution_count": 42,
   "id": "5ea403b5",
   "metadata": {
    "scrolled": true
   },
   "outputs": [
    {
     "data": {
      "text/plain": [
       "count    1000000.0000\n",
       "mean              NaN\n",
       "std               NaN\n",
       "min            0.0000\n",
       "25%           31.0000\n",
       "50%          100.3125\n",
       "75%          285.0000\n",
       "max         1000.0000\n",
       "Name: hours, dtype: float64"
      ]
     },
     "execution_count": 42,
     "metadata": {},
     "output_type": "execute_result"
    }
   ],
   "source": [
    "recommendations_df['hours'].describe()"
   ]
  },
  {
   "cell_type": "code",
   "execution_count": 43,
   "id": "fb408f5c",
   "metadata": {},
   "outputs": [],
   "source": [
    "# for knn, we have to make a user-item rating matrix\n",
    "# but we do not have rating of every game by different users \n",
    "# so, we use no. of hours the user has put in that particular game as a rating towards the game\n",
    "# higher hours means user enjoys the game more and vice versa"
   ]
  },
  {
   "cell_type": "code",
   "execution_count": 44,
   "id": "d461410f",
   "metadata": {},
   "outputs": [],
   "source": [
    "# taking user ids and app ids into a list to make a user item matrix\n",
    "user_ids = recommendations_df['user_id'].astype('category').cat.codes\n",
    "item_ids = recommendations_df['app_id'].astype('category').cat.codes"
   ]
  },
  {
   "cell_type": "code",
   "execution_count": 45,
   "id": "d990aeda",
   "metadata": {},
   "outputs": [
    {
     "data": {
      "text/plain": [
       "0           3108\n",
       "1            162\n",
       "2          14146\n",
       "3          14421\n",
       "4           1437\n",
       "           ...  \n",
       "999995    737542\n",
       "999996    742000\n",
       "999997    749230\n",
       "999998    751150\n",
       "999999    771103\n",
       "Length: 1000000, dtype: int32"
      ]
     },
     "execution_count": 45,
     "metadata": {},
     "output_type": "execute_result"
    }
   ],
   "source": [
    "user_ids"
   ]
  },
  {
   "cell_type": "code",
   "execution_count": 46,
   "id": "2e0417ee",
   "metadata": {},
   "outputs": [
    {
     "data": {
      "text/plain": [
       "0         118\n",
       "1          45\n",
       "2         125\n",
       "3         101\n",
       "4          77\n",
       "         ... \n",
       "999995    160\n",
       "999996    139\n",
       "999997    154\n",
       "999998    110\n",
       "999999     68\n",
       "Length: 1000000, dtype: int16"
      ]
     },
     "execution_count": 46,
     "metadata": {},
     "output_type": "execute_result"
    }
   ],
   "source": [
    "item_ids"
   ]
  },
  {
   "cell_type": "code",
   "execution_count": 47,
   "id": "b43d44d5",
   "metadata": {},
   "outputs": [
    {
     "data": {
      "text/plain": [
       "pandas.core.series.Series"
      ]
     },
     "execution_count": 47,
     "metadata": {},
     "output_type": "execute_result"
    }
   ],
   "source": [
    "type(user_ids)"
   ]
  },
  {
   "cell_type": "code",
   "execution_count": 48,
   "id": "517df699",
   "metadata": {},
   "outputs": [],
   "source": [
    "from scipy.sparse import coo_matrix\n",
    "\n",
    "# making a sparse coordinate matrix using 'hours' with item_ids as rows and user_ids as columns\n",
    "user_item_matrix = coo_matrix((recommendations_df['hours'],(item_ids,user_ids)))"
   ]
  },
  {
   "cell_type": "code",
   "execution_count": 49,
   "id": "6b70aa8d",
   "metadata": {},
   "outputs": [
    {
     "data": {
      "text/plain": [
       "<213x900303 sparse matrix of type '<class 'numpy.float16'>'\n",
       "\twith 1000000 stored elements in COOrdinate format>"
      ]
     },
     "execution_count": 49,
     "metadata": {},
     "output_type": "execute_result"
    }
   ],
   "source": [
    "user_item_matrix"
   ]
  },
  {
   "cell_type": "code",
   "execution_count": 50,
   "id": "79cae25f",
   "metadata": {
    "scrolled": true
   },
   "outputs": [
    {
     "name": "stdout",
     "output_type": "stream",
     "text": [
      "  (118, 3108)\t36.3\n",
      "  (45, 162)\t11.5\n",
      "  (125, 14146)\t336.5\n",
      "  (101, 14421)\t27.4\n",
      "  (77, 1437)\t7.9\n",
      "  (46, 2780)\t8.6\n",
      "  (22, 5265)\t539.0\n",
      "  (3, 3796)\t157.5\n",
      "  (30, 19471)\t18.7\n",
      "  (41, 24840)\t397.5\n",
      "  (67, 11305)\t30.3\n",
      "  (126, 5131)\t50.0\n",
      "  (203, 9243)\t46.7\n",
      "  (160, 6745)\t19.3\n",
      "  (138, 7252)\t89.1\n",
      "  (46, 4537)\t61.1\n",
      "  (97, 4607)\t177.0\n",
      "  (134, 7380)\t86.3\n",
      "  (41, 14526)\t244.1\n",
      "  (63, 22329)\t320.5\n",
      "  (2, 29517)\t851.0\n",
      "  (203, 36891)\t7.4\n",
      "  (79, 1378)\t40.6\n",
      "  (76, 15032)\t10.0\n",
      "  (21, 7033)\t5.7\n",
      "  :\t:\n",
      "  (77, 624928)\t137.5\n",
      "  (127, 627465)\t85.2\n",
      "  (36, 630983)\t287.5\n",
      "  (167, 641769)\t170.2\n",
      "  (30, 647965)\t807.0\n",
      "  (86, 651228)\t39.2\n",
      "  (166, 661773)\t155.8\n",
      "  (7, 662448)\t5.8\n",
      "  (31, 669876)\t82.0\n",
      "  (102, 680442)\t69.8\n",
      "  (68, 681645)\t156.8\n",
      "  (14, 696029)\t330.2\n",
      "  (10, 696283)\t787.5\n",
      "  (59, 697442)\t196.9\n",
      "  (73, 703890)\t2.4\n",
      "  (14, 707182)\t13.1\n",
      "  (37, 710581)\t1.1\n",
      "  (152, 719655)\t1.1\n",
      "  (164, 725223)\t8.1\n",
      "  (36, 733618)\t408.2\n",
      "  (160, 737542)\t138.2\n",
      "  (139, 742000)\t121.9\n",
      "  (154, 749230)\t149.2\n",
      "  (110, 751150)\t97.4\n",
      "  (68, 771103)\t171.0\n"
     ]
    }
   ],
   "source": [
    "print(user_item_matrix)"
   ]
  },
  {
   "cell_type": "markdown",
   "id": "f91e5c16",
   "metadata": {},
   "source": [
    "# **KNN : K - Nearest Neighbours**  \n",
    "It is a technique used in machine learning that can be used in classification as well as regression. It can also be used in \n",
    "both supervised and unsupervised learning.\n",
    "\n",
    "It is  **non-parametric** as it does not make any assumptions about data.  \n",
    "It stores the training data and when a new data is introduced, it compares the new data with its 'k' nearest data points.  \n",
    "\n",
    "It has 3 main algorithms(methods): \n",
    "1. Brute Force\n",
    "2. KD Tree\n",
    "3. Ball Tree  \n",
    "\n",
    "**1. Brute Force**  \n",
    "In this method, it uses brute force to compute all the distances between datapoints and time complexity is generally high for this method. (Not suitable for large datasets)  \n",
    "\n",
    "**2. KD Tree (K Dimension Tree)**  \n",
    "It is a optimised algorithm which uses the tree-based datastructure to reduce the time taken in computation. But as the dimension of the matrix becomes very large, KD Tree algorithm becomes inefficient.  \n",
    "\n",
    "**3. Ball Tree**  \n",
    "It overcomes the incompetence of KD Tree algorithm. It stores the data in hyperspheres called balls and each node in a Ball Tree is a hypersphere.  \n",
    "\n",
    "KNN does not work well with large datasets as it stores the data points in memory and remember them for future computation."
   ]
  },
  {
   "cell_type": "code",
   "execution_count": 51,
   "id": "f4c2b7e5",
   "metadata": {
    "scrolled": true
   },
   "outputs": [
    {
     "data": {
      "text/plain": [
       "(213, 900303)"
      ]
     },
     "execution_count": 51,
     "metadata": {},
     "output_type": "execute_result"
    }
   ],
   "source": [
    "user_item_matrix.shape"
   ]
  },
  {
   "cell_type": "code",
   "execution_count": 52,
   "id": "9f02d68d",
   "metadata": {},
   "outputs": [
    {
     "data": {
      "text/plain": [
       "999962"
      ]
     },
     "execution_count": 52,
     "metadata": {},
     "output_type": "execute_result"
    }
   ],
   "source": [
    "# number of non zero values in sparse matrix\n",
    "coo_matrix.count_nonzero(user_item_matrix)"
   ]
  },
  {
   "cell_type": "code",
   "execution_count": 53,
   "id": "c986e487",
   "metadata": {},
   "outputs": [
    {
     "data": {
      "text/html": [
       "<style>#sk-container-id-1 {color: black;}#sk-container-id-1 pre{padding: 0;}#sk-container-id-1 div.sk-toggleable {background-color: white;}#sk-container-id-1 label.sk-toggleable__label {cursor: pointer;display: block;width: 100%;margin-bottom: 0;padding: 0.3em;box-sizing: border-box;text-align: center;}#sk-container-id-1 label.sk-toggleable__label-arrow:before {content: \"▸\";float: left;margin-right: 0.25em;color: #696969;}#sk-container-id-1 label.sk-toggleable__label-arrow:hover:before {color: black;}#sk-container-id-1 div.sk-estimator:hover label.sk-toggleable__label-arrow:before {color: black;}#sk-container-id-1 div.sk-toggleable__content {max-height: 0;max-width: 0;overflow: hidden;text-align: left;background-color: #f0f8ff;}#sk-container-id-1 div.sk-toggleable__content pre {margin: 0.2em;color: black;border-radius: 0.25em;background-color: #f0f8ff;}#sk-container-id-1 input.sk-toggleable__control:checked~div.sk-toggleable__content {max-height: 200px;max-width: 100%;overflow: auto;}#sk-container-id-1 input.sk-toggleable__control:checked~label.sk-toggleable__label-arrow:before {content: \"▾\";}#sk-container-id-1 div.sk-estimator input.sk-toggleable__control:checked~label.sk-toggleable__label {background-color: #d4ebff;}#sk-container-id-1 div.sk-label input.sk-toggleable__control:checked~label.sk-toggleable__label {background-color: #d4ebff;}#sk-container-id-1 input.sk-hidden--visually {border: 0;clip: rect(1px 1px 1px 1px);clip: rect(1px, 1px, 1px, 1px);height: 1px;margin: -1px;overflow: hidden;padding: 0;position: absolute;width: 1px;}#sk-container-id-1 div.sk-estimator {font-family: monospace;background-color: #f0f8ff;border: 1px dotted black;border-radius: 0.25em;box-sizing: border-box;margin-bottom: 0.5em;}#sk-container-id-1 div.sk-estimator:hover {background-color: #d4ebff;}#sk-container-id-1 div.sk-parallel-item::after {content: \"\";width: 100%;border-bottom: 1px solid gray;flex-grow: 1;}#sk-container-id-1 div.sk-label:hover label.sk-toggleable__label {background-color: #d4ebff;}#sk-container-id-1 div.sk-serial::before {content: \"\";position: absolute;border-left: 1px solid gray;box-sizing: border-box;top: 0;bottom: 0;left: 50%;z-index: 0;}#sk-container-id-1 div.sk-serial {display: flex;flex-direction: column;align-items: center;background-color: white;padding-right: 0.2em;padding-left: 0.2em;position: relative;}#sk-container-id-1 div.sk-item {position: relative;z-index: 1;}#sk-container-id-1 div.sk-parallel {display: flex;align-items: stretch;justify-content: center;background-color: white;position: relative;}#sk-container-id-1 div.sk-item::before, #sk-container-id-1 div.sk-parallel-item::before {content: \"\";position: absolute;border-left: 1px solid gray;box-sizing: border-box;top: 0;bottom: 0;left: 50%;z-index: -1;}#sk-container-id-1 div.sk-parallel-item {display: flex;flex-direction: column;z-index: 1;position: relative;background-color: white;}#sk-container-id-1 div.sk-parallel-item:first-child::after {align-self: flex-end;width: 50%;}#sk-container-id-1 div.sk-parallel-item:last-child::after {align-self: flex-start;width: 50%;}#sk-container-id-1 div.sk-parallel-item:only-child::after {width: 0;}#sk-container-id-1 div.sk-dashed-wrapped {border: 1px dashed gray;margin: 0 0.4em 0.5em 0.4em;box-sizing: border-box;padding-bottom: 0.4em;background-color: white;}#sk-container-id-1 div.sk-label label {font-family: monospace;font-weight: bold;display: inline-block;line-height: 1.2em;}#sk-container-id-1 div.sk-label-container {text-align: center;}#sk-container-id-1 div.sk-container {/* jupyter's `normalize.less` sets `[hidden] { display: none; }` but bootstrap.min.css set `[hidden] { display: none !important; }` so we also need the `!important` here to be able to override the default hidden behavior on the sphinx rendered scikit-learn.org. See: https://github.com/scikit-learn/scikit-learn/issues/21755 */display: inline-block !important;position: relative;}#sk-container-id-1 div.sk-text-repr-fallback {display: none;}</style><div id=\"sk-container-id-1\" class=\"sk-top-container\"><div class=\"sk-text-repr-fallback\"><pre>NearestNeighbors(algorithm=&#x27;brute&#x27;, metric=&#x27;cosine&#x27;)</pre><b>In a Jupyter environment, please rerun this cell to show the HTML representation or trust the notebook. <br />On GitHub, the HTML representation is unable to render, please try loading this page with nbviewer.org.</b></div><div class=\"sk-container\" hidden><div class=\"sk-item\"><div class=\"sk-estimator sk-toggleable\"><input class=\"sk-toggleable__control sk-hidden--visually\" id=\"sk-estimator-id-1\" type=\"checkbox\" checked><label for=\"sk-estimator-id-1\" class=\"sk-toggleable__label sk-toggleable__label-arrow\">NearestNeighbors</label><div class=\"sk-toggleable__content\"><pre>NearestNeighbors(algorithm=&#x27;brute&#x27;, metric=&#x27;cosine&#x27;)</pre></div></div></div></div></div>"
      ],
      "text/plain": [
       "NearestNeighbors(algorithm='brute', metric='cosine')"
      ]
     },
     "execution_count": 53,
     "metadata": {},
     "output_type": "execute_result"
    }
   ],
   "source": [
    "# fitting the model using knn\n",
    "# using NearestNeighbors as it is a unsupervised learner for implementing neighbour searches\n",
    "from sklearn.neighbors import NearestNeighbors\n",
    "\n",
    "# fitting using cosine similarity with brute force method\n",
    "model_knn = NearestNeighbors(metric='cosine', algorithm='brute')\n",
    "model_knn.fit(user_item_matrix)"
   ]
  },
  {
   "cell_type": "code",
   "execution_count": 54,
   "id": "539e11c7",
   "metadata": {},
   "outputs": [],
   "source": [
    "# getting unique user ids and item ids to search in the model matrix for recommendation\n",
    "unique_user_ids = recommendations_df['user_id'].astype('category').cat.categories\n",
    "unique_item_ids = recommendations_df['app_id'].astype('category').cat.categories"
   ]
  },
  {
   "cell_type": "code",
   "execution_count": 55,
   "id": "765676ad",
   "metadata": {},
   "outputs": [
    {
     "data": {
      "text/plain": [
       "Index([       2,        9,       15,       52,       59,      110,      117,\n",
       "            154,      161,      185,\n",
       "       ...\n",
       "       13651273, 13651294, 13651296, 13651321, 13651339, 13651410, 13651432,\n",
       "       13651439, 13651444, 13651453],\n",
       "      dtype='int32', length=900303)"
      ]
     },
     "execution_count": 55,
     "metadata": {},
     "output_type": "execute_result"
    }
   ],
   "source": [
    "unique_user_ids"
   ]
  },
  {
   "cell_type": "code",
   "execution_count": 56,
   "id": "f45f785b",
   "metadata": {},
   "outputs": [
    {
     "data": {
      "text/plain": [
       "Index([    440,     550,     570,     730,    4000,   22380,   39210,   42700,\n",
       "         47890,  105600,\n",
       "       ...\n",
       "       1938090, 1942280, 1943950, 1976440, 1987080, 1997040, 2013360, 2064650,\n",
       "       2167580, 2208920],\n",
       "      dtype='int32', length=213)"
      ]
     },
     "execution_count": 56,
     "metadata": {},
     "output_type": "execute_result"
    }
   ],
   "source": [
    "unique_item_ids"
   ]
  },
  {
   "cell_type": "code",
   "execution_count": 57,
   "id": "8f48481f",
   "metadata": {},
   "outputs": [],
   "source": [
    "# notice that length of unique_user_ids and unique_item_ids are of dimensions of user_item_matrix"
   ]
  },
  {
   "cell_type": "code",
   "execution_count": 58,
   "id": "e274cc45",
   "metadata": {},
   "outputs": [],
   "source": [
    "# finding the k nearest neighbour of game index = 0\n",
    "distances,indices = model_knn.kneighbors(user_item_matrix.getrow(3),n_neighbors = 6)"
   ]
  },
  {
   "cell_type": "code",
   "execution_count": 59,
   "id": "dcb6bea1",
   "metadata": {},
   "outputs": [
    {
     "data": {
      "text/plain": [
       "array([[0.        , 0.99557248, 0.99658171, 0.99705286, 0.99712349,\n",
       "        0.99795023]])"
      ]
     },
     "execution_count": 59,
     "metadata": {},
     "output_type": "execute_result"
    }
   ],
   "source": [
    "distances"
   ]
  },
  {
   "cell_type": "code",
   "execution_count": 60,
   "id": "d81b9824",
   "metadata": {},
   "outputs": [
    {
     "data": {
      "text/plain": [
       "array([[ 3, 36, 86, 14, 29, 52]], dtype=int64)"
      ]
     },
     "execution_count": 60,
     "metadata": {},
     "output_type": "execute_result"
    }
   ],
   "source": [
    "indices"
   ]
  },
  {
   "cell_type": "code",
   "execution_count": 61,
   "id": "2266fe67",
   "metadata": {},
   "outputs": [
    {
     "data": {
      "text/plain": [
       "[730, 271590, 578080, 218620, 252490, 359550]"
      ]
     },
     "execution_count": 61,
     "metadata": {},
     "output_type": "execute_result"
    }
   ],
   "source": [
    "similar_app_ids = [unique_item_ids[i] for i in indices.flatten()]\n",
    "similar_app_ids"
   ]
  },
  {
   "cell_type": "code",
   "execution_count": 62,
   "id": "bacf62ad",
   "metadata": {},
   "outputs": [
    {
     "name": "stdout",
     "output_type": "stream",
     "text": [
      "Memory usage of dataframe is 0.01 MB\n",
      "Memory usage after optimization is: 0.01 MB\n",
      "Decreased by 31.1%\n"
     ]
    }
   ],
   "source": [
    "# unique_merged_df consists of the games with their information\n",
    "unique_merged_df = reduce_mem_usage(pd.read_csv('unique_merged_df.csv'))"
   ]
  },
  {
   "cell_type": "code",
   "execution_count": 63,
   "id": "9f6bfc67",
   "metadata": {},
   "outputs": [
    {
     "data": {
      "text/html": [
       "<div>\n",
       "<style scoped>\n",
       "    .dataframe tbody tr th:only-of-type {\n",
       "        vertical-align: middle;\n",
       "    }\n",
       "\n",
       "    .dataframe tbody tr th {\n",
       "        vertical-align: top;\n",
       "    }\n",
       "\n",
       "    .dataframe thead th {\n",
       "        text-align: right;\n",
       "    }\n",
       "</style>\n",
       "<table border=\"1\" class=\"dataframe\">\n",
       "  <thead>\n",
       "    <tr style=\"text-align: right;\">\n",
       "      <th></th>\n",
       "      <th>app_id</th>\n",
       "      <th>title</th>\n",
       "      <th>date_release</th>\n",
       "      <th>win</th>\n",
       "      <th>mac</th>\n",
       "      <th>linux</th>\n",
       "      <th>positive_ratio</th>\n",
       "      <th>user_reviews</th>\n",
       "      <th>price_final</th>\n",
       "      <th>description</th>\n",
       "      <th>tags</th>\n",
       "    </tr>\n",
       "  </thead>\n",
       "  <tbody>\n",
       "    <tr>\n",
       "      <th>0</th>\n",
       "      <td>440</td>\n",
       "      <td>Team Fortress 2</td>\n",
       "      <td>2007-10-10</td>\n",
       "      <td>True</td>\n",
       "      <td>True</td>\n",
       "      <td>True</td>\n",
       "      <td>93</td>\n",
       "      <td>960279</td>\n",
       "      <td>0.000000</td>\n",
       "      <td>Nine distinct classes provide a broad range of...</td>\n",
       "      <td>['Free to Play', 'Hero Shooter', 'Multiplayer'...</td>\n",
       "    </tr>\n",
       "    <tr>\n",
       "      <th>1</th>\n",
       "      <td>550</td>\n",
       "      <td>Left 4 Dead 2</td>\n",
       "      <td>2009-11-16</td>\n",
       "      <td>True</td>\n",
       "      <td>True</td>\n",
       "      <td>True</td>\n",
       "      <td>97</td>\n",
       "      <td>547784</td>\n",
       "      <td>9.992188</td>\n",
       "      <td>Set in the zombie apocalypse, Left 4 Dead 2 (L...</td>\n",
       "      <td>['Zombies', 'Co-op', 'FPS', 'Multiplayer', 'Sh...</td>\n",
       "    </tr>\n",
       "    <tr>\n",
       "      <th>2</th>\n",
       "      <td>570</td>\n",
       "      <td>Dota 2</td>\n",
       "      <td>2013-07-09</td>\n",
       "      <td>True</td>\n",
       "      <td>True</td>\n",
       "      <td>True</td>\n",
       "      <td>82</td>\n",
       "      <td>1998934</td>\n",
       "      <td>0.000000</td>\n",
       "      <td>Every day, millions of players worldwide enter...</td>\n",
       "      <td>['Free to Play', 'MOBA', 'Multiplayer', 'Strat...</td>\n",
       "    </tr>\n",
       "    <tr>\n",
       "      <th>3</th>\n",
       "      <td>730</td>\n",
       "      <td>Counter-Strike: Global Offensive</td>\n",
       "      <td>2012-08-21</td>\n",
       "      <td>True</td>\n",
       "      <td>True</td>\n",
       "      <td>True</td>\n",
       "      <td>88</td>\n",
       "      <td>7297791</td>\n",
       "      <td>14.992188</td>\n",
       "      <td>Counter-Strike: Global Offensive (CS: GO) expa...</td>\n",
       "      <td>['FPS', 'Shooter', 'Multiplayer', 'Competitive...</td>\n",
       "    </tr>\n",
       "    <tr>\n",
       "      <th>4</th>\n",
       "      <td>4000</td>\n",
       "      <td>Garry's Mod</td>\n",
       "      <td>2006-11-29</td>\n",
       "      <td>True</td>\n",
       "      <td>True</td>\n",
       "      <td>True</td>\n",
       "      <td>96</td>\n",
       "      <td>827095</td>\n",
       "      <td>9.992188</td>\n",
       "      <td>Garry's Mod is a physics sandbox. There aren't...</td>\n",
       "      <td>['Sandbox', 'Multiplayer', 'Funny', 'Moddable'...</td>\n",
       "    </tr>\n",
       "  </tbody>\n",
       "</table>\n",
       "</div>"
      ],
      "text/plain": [
       "   app_id                             title date_release   win   mac  linux  \\\n",
       "0     440                   Team Fortress 2   2007-10-10  True  True   True   \n",
       "1     550                     Left 4 Dead 2   2009-11-16  True  True   True   \n",
       "2     570                            Dota 2   2013-07-09  True  True   True   \n",
       "3     730  Counter-Strike: Global Offensive   2012-08-21  True  True   True   \n",
       "4    4000                       Garry's Mod   2006-11-29  True  True   True   \n",
       "\n",
       "   positive_ratio  user_reviews  price_final  \\\n",
       "0              93        960279     0.000000   \n",
       "1              97        547784     9.992188   \n",
       "2              82       1998934     0.000000   \n",
       "3              88       7297791    14.992188   \n",
       "4              96        827095     9.992188   \n",
       "\n",
       "                                         description  \\\n",
       "0  Nine distinct classes provide a broad range of...   \n",
       "1  Set in the zombie apocalypse, Left 4 Dead 2 (L...   \n",
       "2  Every day, millions of players worldwide enter...   \n",
       "3  Counter-Strike: Global Offensive (CS: GO) expa...   \n",
       "4  Garry's Mod is a physics sandbox. There aren't...   \n",
       "\n",
       "                                                tags  \n",
       "0  ['Free to Play', 'Hero Shooter', 'Multiplayer'...  \n",
       "1  ['Zombies', 'Co-op', 'FPS', 'Multiplayer', 'Sh...  \n",
       "2  ['Free to Play', 'MOBA', 'Multiplayer', 'Strat...  \n",
       "3  ['FPS', 'Shooter', 'Multiplayer', 'Competitive...  \n",
       "4  ['Sandbox', 'Multiplayer', 'Funny', 'Moddable'...  "
      ]
     },
     "execution_count": 63,
     "metadata": {},
     "output_type": "execute_result"
    }
   ],
   "source": [
    "unique_merged_df.head()"
   ]
  },
  {
   "cell_type": "code",
   "execution_count": 64,
   "id": "cd15452e",
   "metadata": {},
   "outputs": [],
   "source": [
    "def recommend_collab(game):\n",
    "    \n",
    "    # finding the game's index \n",
    "    game_index = unique_merged_df[unique_merged_df['title'] == game].index[0] \n",
    "    \n",
    "    #getting the recommendations\n",
    "    indices = model_knn.kneighbors(user_item_matrix.getrow(game_index),n_neighbors = 6,return_distance = False)\n",
    "\n",
    "    for ind in indices.flatten()[1:]:\n",
    "        print('\\033[1m' + unique_merged_df['title'].iloc[ind] + '\\033[0m')\n",
    "        print('Price : $',unique_merged_df['price_final'].iloc[ind])\n",
    "        print('Description :', unique_merged_df['description'].iloc[ind])\n",
    "        print('')"
   ]
  },
  {
   "cell_type": "code",
   "execution_count": 65,
   "id": "07be5960",
   "metadata": {},
   "outputs": [
    {
     "name": "stdout",
     "output_type": "stream",
     "text": [
      "\u001b[1mGrand Theft Auto V\u001b[0m\n",
      "Price : $ 0.0\n",
      "Description : Grand Theft Auto V for PC offers players the option to explore the award-winning world of Los Santos and Blaine County in resolutions of up to 4k and beyond, as well as the chance to experience the game running at 60 frames per second.\n",
      "\n",
      "\u001b[1mPUBG: BATTLEGROUNDS\u001b[0m\n",
      "Price : $ 0.0\n",
      "Description : Play PUBG: BATTLEGROUNDS for free. Land on strategic locations, loot weapons and supplies, and survive to become the last team standing across various, diverse Battlegrounds. Squad up and join the Battlegrounds for the original Battle Royale experience that only PUBG: BATTLEGROUNDS can offer.\n",
      "\n",
      "\u001b[1mPAYDAY 2\u001b[0m\n",
      "Price : $ 9.99\n",
      "Description : PAYDAY 2 is an action-packed, four-player co-op shooter that once again lets gamers don the masks of the original PAYDAY crew - Dallas, Hoxton, Wolf and Chains - as they descend on Washington DC for an epic crime spree.\n",
      "\n",
      "\u001b[1mRust\u001b[0m\n",
      "Price : $ 40.0\n",
      "Description : The only aim in Rust is to survive. Everything wants you to die - the island’s wildlife and other inhabitants, the environment, other survivors. Do whatever it takes to last another night.\n",
      "\n",
      "\u001b[1mTom Clancy's Rainbow Six® Siege\u001b[0m\n",
      "Price : $ 19.98\n",
      "Description : Tom Clancy's Rainbow Six® Siege is an elite, tactical team-based shooter where superior planning and execution triumph.\n",
      "\n"
     ]
    }
   ],
   "source": [
    "recommend_collab('Counter-Strike: Global Offensive')"
   ]
  },
  {
   "cell_type": "code",
   "execution_count": 66,
   "id": "581b7f5a",
   "metadata": {},
   "outputs": [
    {
     "name": "stdout",
     "output_type": "stream",
     "text": [
      "\u001b[1mFallout: New Vegas\u001b[0m\n",
      "Price : $ 9.99\n",
      "Description : Welcome to Vegas. New Vegas. Enjoy your stay!\n",
      "\n",
      "\u001b[1mCall of Duty®: Black Ops II\u001b[0m\n",
      "Price : $ 19.8\n",
      "Description : Pushing the boundaries of what fans have come to expect from the record-setting entertainment franchise, Call of Duty®: Black Ops II propels players into a near future Cold War\n",
      "\n",
      "\u001b[1mCall of Duty®: Black Ops III\u001b[0m\n",
      "Price : $ 19.8\n",
      "Description : Call of Duty®: Black Ops III Zombies Chronicles Edition includes the full base game plus the Zombies Chronicles content expansion.\n",
      "\n",
      "\u001b[1mDead by Daylight\u001b[0m\n",
      "Price : $ 19.98\n",
      "Description : Dead by Daylight is a multiplayer (4vs1) horror game where one player takes on the role of the savage Killer, and the other four players play as Survivors, trying to escape the Killer and avoid being caught and killed.\n",
      "\n",
      "\u001b[1mArma 3\u001b[0m\n",
      "Price : $ 29.98\n",
      "Description : Experience true combat gameplay in a massive military sandbox. Deploying a wide variety of single- and multiplayer content, over 20 vehicles and 40 weapons, and limitless opportunities for content creation, this is the PC’s premier military game. Authentic, diverse, open - Arma 3 sends you to war.\n",
      "\n"
     ]
    }
   ],
   "source": [
    "recommend_collab('Call of Duty®: Black Ops')"
   ]
  },
  {
   "cell_type": "code",
   "execution_count": null,
   "id": "e12c9681",
   "metadata": {},
   "outputs": [],
   "source": []
  },
  {
   "cell_type": "code",
   "execution_count": null,
   "id": "0546c270",
   "metadata": {},
   "outputs": [],
   "source": []
  }
 ],
 "metadata": {
  "kernelspec": {
   "display_name": "Python 3 (ipykernel)",
   "language": "python",
   "name": "python3"
  },
  "language_info": {
   "codemirror_mode": {
    "name": "ipython",
    "version": 3
   },
   "file_extension": ".py",
   "mimetype": "text/x-python",
   "name": "python",
   "nbconvert_exporter": "python",
   "pygments_lexer": "ipython3",
   "version": "3.10.9"
  }
 },
 "nbformat": 4,
 "nbformat_minor": 5
}
